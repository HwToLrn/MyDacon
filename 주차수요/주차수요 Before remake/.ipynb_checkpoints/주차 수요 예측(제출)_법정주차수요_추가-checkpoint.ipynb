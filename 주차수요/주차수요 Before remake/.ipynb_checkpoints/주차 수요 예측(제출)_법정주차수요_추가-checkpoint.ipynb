{
 "cells": [
  {
   "cell_type": "markdown",
   "id": "b086bf34",
   "metadata": {},
   "source": [
    "# Version : 주차수요예측(제출)_법정주차수요"
   ]
  },
  {
   "cell_type": "code",
   "execution_count": 1,
   "id": "1fb9d7bd",
   "metadata": {
    "ExecuteTime": {
     "end_time": "2021-07-29T00:36:33.539525Z",
     "start_time": "2021-07-29T00:36:31.918061Z"
    }
   },
   "outputs": [],
   "source": [
    "import pandas as pd\n",
    "import numpy as np\n",
    "from tqdm import tqdm \n",
    "from sklearn.ensemble import RandomForestRegressor"
   ]
  },
  {
   "cell_type": "markdown",
   "id": "20ec0eb8",
   "metadata": {},
   "source": [
    "# 데이터 불러오기"
   ]
  },
  {
   "cell_type": "code",
   "execution_count": 2,
   "id": "b9fe2f84",
   "metadata": {
    "ExecuteTime": {
     "end_time": "2021-07-29T00:36:33.587398Z",
     "start_time": "2021-07-29T00:36:33.542519Z"
    }
   },
   "outputs": [],
   "source": [
    "train = pd.read_csv('../data/train.csv')\n",
    "test = pd.read_csv('../data/test.csv')\n",
    "submission = pd.read_csv('../data/sample_submission.csv')\n",
    "gender = pd.read_csv('../data/age_gender_info.csv')"
   ]
  },
  {
   "cell_type": "markdown",
   "id": "e150d75b",
   "metadata": {},
   "source": [
    "# 단지규모"
   ]
  },
  {
   "cell_type": "code",
   "execution_count": 3,
   "id": "89538b9c",
   "metadata": {
    "ExecuteTime": {
     "end_time": "2021-07-29T00:36:33.633275Z",
     "start_time": "2021-07-29T00:36:33.589392Z"
    }
   },
   "outputs": [],
   "source": [
    "# 파생변수 단지규모\n",
    "\n",
    "# 소단지,중단지,대단지\n",
    "danji_scale = pd.qcut(train['총세대수'], 3, labels=[1,2,3]) \n",
    "train.insert(14, '단지규모', danji_scale)\n",
    "\n",
    "danji_scale = pd.qcut(test['총세대수'], 3, labels=[1,2,3]) \n",
    "test.insert(14, '단지규모', danji_scale)"
   ]
  },
  {
   "cell_type": "markdown",
   "id": "588229ba",
   "metadata": {},
   "source": [
    "# 전용면적당 법정주차대수 "
   ]
  },
  {
   "cell_type": "markdown",
   "id": "6dc41a87",
   "metadata": {},
   "source": [
    "## 법정주차대수 Column 추가"
   ]
  },
  {
   "cell_type": "code",
   "execution_count": 4,
   "id": "b7a6082e",
   "metadata": {
    "ExecuteTime": {
     "end_time": "2021-07-29T00:36:33.648234Z",
     "start_time": "2021-07-29T00:36:33.635270Z"
    }
   },
   "outputs": [],
   "source": [
    "train.insert(loc=14, column='법정주차대수', value=0.0)\n",
    "test.insert(loc=14, column='법정주차대수', value=0.0)"
   ]
  },
  {
   "cell_type": "markdown",
   "id": "5d603b2c",
   "metadata": {},
   "source": [
    "## 전용면적을 지역별 각 지역 기준으로 나누기"
   ]
  },
  {
   "cell_type": "code",
   "execution_count": 5,
   "id": "1c595fbc",
   "metadata": {
    "ExecuteTime": {
     "end_time": "2021-07-29T00:36:33.664194Z",
     "start_time": "2021-07-29T00:36:33.650229Z"
    }
   },
   "outputs": [],
   "source": [
    "def PlaceParkingDivision(dataframe, place_colNames ,denominatorLessNum, denominatorExceedNum):\n",
    "    df = dataframe.copy()\n",
    "    \n",
    "    for colName in place_colNames:\n",
    "        idx = df[ (df['지역'] == colName) & (df['전용면적'] <= 85) ].index\n",
    "        df.loc[idx, '법정주차대수'] = df[ (df['지역'] == colName) & (df['전용면적'] <= 85) ]['전용면적'] / denominatorLessNum\n",
    "        idx = df[ (df['지역'] == colName) & (df['전용면적'] > 85) ].index\n",
    "        df.loc[idx, '법정주차대수'] = df[ (df['지역'] == colName) & (df['전용면적'] > 85) ]['전용면적'] / denominatorExceedNum\n",
    "        \n",
    "    return df"
   ]
  },
  {
   "cell_type": "code",
   "execution_count": 6,
   "id": "1b039eff",
   "metadata": {
    "ExecuteTime": {
     "end_time": "2021-07-29T00:36:33.954446Z",
     "start_time": "2021-07-29T00:36:33.666190Z"
    },
    "scrolled": true
   },
   "outputs": [],
   "source": [
    "# for문 columns 설정\n",
    "Gwang_colNames = ['부산광역시', '대전광역시', '광주광역시', '울산광역시', '대구광역시', '세종특별자치시', '경기도']\n",
    "Other_colNames = ['경상북도', '경상남도', '전라북도', '전라남도', '강원도', '충청남도', '충청북도', '제주특별자치도']\n",
    "\n",
    "# Train\n",
    "# 1. 서울특별시 \n",
    "# - 전용면적 {85이하 - 75} | {85초과 - 65} 나누기\n",
    "train = PlaceParkingDivision(train, ['서울특별시'], 75, 65)\n",
    "\n",
    "# 2. 광역시 + 경기도\n",
    "# - 전용면적 {85이하 - 85} | {85초과 - 70} 나누기\n",
    "train = PlaceParkingDivision(train, Gwang_colNames, 85, 70)\n",
    "    \n",
    "# 강원도, 충청남도 등 (1과 2 제외한 나머지 지역 OO도)\n",
    "# - 전용면적 {85이하 - 95} | {85초과 - 75} 나누기\n",
    "train = PlaceParkingDivision(train, Other_colNames, 95, 75)\n",
    "    \n",
    "# Test\n",
    "# 2. 광역시 + 경기도\n",
    "# - 전용면적 {85이하 - 85} | {85초과 - 70} 나누기\n",
    "test = PlaceParkingDivision(test, Gwang_colNames, 85, 70)\n",
    "    \n",
    "# 강원도, 충청남도 등 (1과 2 제외한 나머지 지역 OO도)\n",
    "# - 전용면적 {85이하 - 95} | {85초과 - 75} 나누기\n",
    "test = PlaceParkingDivision(test, Other_colNames, 95, 75)"
   ]
  },
  {
   "cell_type": "markdown",
   "id": "78d4f7d0",
   "metadata": {},
   "source": [
    "## 법정주차대수 소수점 정리"
   ]
  },
  {
   "cell_type": "code",
   "execution_count": 7,
   "id": "df40d90e",
   "metadata": {
    "ExecuteTime": {
     "end_time": "2021-07-29T00:36:33.969398Z",
     "start_time": "2021-07-29T00:36:33.957430Z"
    }
   },
   "outputs": [],
   "source": [
    "def MyCeil(dataframe, place_colNames):\n",
    "    df = dataframe.copy()\n",
    "    \n",
    "    for colName in place_colNames:\n",
    "        idx = df[ df['지역'] == colName ].index\n",
    "        df.loc[idx, '법정주차대수'] = np.ceil(df[ df['지역'] == colName ]['법정주차대수'])\n",
    "        \n",
    "    return df"
   ]
  },
  {
   "cell_type": "code",
   "execution_count": 8,
   "id": "25603d3e",
   "metadata": {
    "ExecuteTime": {
     "end_time": "2021-07-29T00:36:34.076113Z",
     "start_time": "2021-07-29T00:36:33.971397Z"
    }
   },
   "outputs": [],
   "source": [
    "# Train\n",
    "# 1. 서울특별시 \n",
    "# 1) 전용면적 30이하 : 0.5 고정\n",
    "idx = train[ (train['지역'] == '서울특별시') & (train['전용면적'] <= 30) ].index\n",
    "train.loc[idx, '법정주차대수'] = 0.5\n",
    "\n",
    "# 2) 전용면적 30초과 ~ 60이하 : 0.8 고정\n",
    "idx = train[ (train['지역'] == '서울특별시') & (train['전용면적'] > 30) & (train['전용면적'] <= 60) ].index\n",
    "train.loc[idx, '법정주차대수'] = 0.8\n",
    "\n",
    "# 3) 전용면적 60초과 : 1.xxx -> 2 or 2.xxxx -> 3\n",
    "# - 나머지가 조금이라도 나오면 몫의 값 + 1 => np.ceil 함수 사용\n",
    "idx = train[ (train['지역'] == '서울특별시') & (train['전용면적'] > 60) ].index\n",
    "train.loc[idx, '법정주차대수'] = np.ceil(train[ (train['지역'] == '서울특별시') & (train['전용면적'] > 60) ]['법정주차대수'])\n",
    "\n",
    "# 2. 광역시 + 경기도\n",
    "# - 필요한 조건은 앞서 한 조건(나누기 작업)만 하면 되기 때문에 소수점 올림만 작업하면 된다.\n",
    "train = MyCeil(train, Gwang_colNames)\n",
    "\n",
    "# 3. 강원도, 충청남도 등 (1과 2 제외한 나머지 지역 OO도)\n",
    "# - 필요한 조건은 앞서 한 조건(나누기 작업)만 하면 되기 때문에 소수점 올림만 작업하면 된다.\n",
    "train = MyCeil(train, Other_colNames)\n",
    "    \n",
    "# Test\n",
    "# 2. 광역시 + 경기도\n",
    "# - 필요한 조건은 앞서 한 조건(나누기 작업)만 하면 되기 때문에 소수점 올림만 작업하면 된다.\n",
    "test = MyCeil(test, Gwang_colNames)\n",
    "\n",
    "# 3. 강원도, 충청남도 등 (1과 2 제외한 나머지 지역 OO도)\n",
    "# - 필요한 조건은 앞서 한 조건(나누기 작업)만 하면 되기 때문에 소수점 올림만 작업하면 된다.\n",
    "test = MyCeil(test, Other_colNames)"
   ]
  },
  {
   "cell_type": "markdown",
   "id": "9cdf4aa0",
   "metadata": {},
   "source": [
    "# 총세대수 Log Scaling"
   ]
  },
  {
   "cell_type": "code",
   "execution_count": 9,
   "id": "7a4a0320",
   "metadata": {
    "ExecuteTime": {
     "end_time": "2021-07-29T00:36:34.091596Z",
     "start_time": "2021-07-29T00:36:34.079106Z"
    }
   },
   "outputs": [],
   "source": [
    "train['총세대수'] = np.log(train['총세대수'])"
   ]
  },
  {
   "cell_type": "markdown",
   "id": "4ef63080",
   "metadata": {},
   "source": [
    "# 컬럼명 바꾸기"
   ]
  },
  {
   "cell_type": "code",
   "execution_count": 10,
   "id": "132a465b",
   "metadata": {
    "ExecuteTime": {
     "end_time": "2021-07-29T00:36:34.106555Z",
     "start_time": "2021-07-29T00:36:34.093589Z"
    }
   },
   "outputs": [],
   "source": [
    "train = train.rename(columns={'도보 10분거리 내 지하철역 수(환승노선 수 반영)':'지하철',\n",
    "                     '도보 10분거리 내 버스정류장 수':'버스'})\n",
    "\n",
    "test = test.rename(columns={'도보 10분거리 내 지하철역 수(환승노선 수 반영)':'지하철',\n",
    "                     '도보 10분거리 내 버스정류장 수':'버스'})"
   ]
  },
  {
   "cell_type": "markdown",
   "id": "74c51172",
   "metadata": {},
   "source": [
    "# 결측치 처리"
   ]
  },
  {
   "cell_type": "code",
   "execution_count": 11,
   "id": "d52f5329",
   "metadata": {
    "ExecuteTime": {
     "end_time": "2021-07-29T00:36:34.122521Z",
     "start_time": "2021-07-29T00:36:34.108549Z"
    },
    "scrolled": true
   },
   "outputs": [
    {
     "name": "stdout",
     "output_type": "stream",
     "text": [
      "-------- train.csv --------\n",
      "단지코드          0\n",
      "총세대수          0\n",
      "임대건물구분        0\n",
      "지역            0\n",
      "공급유형          0\n",
      "전용면적          0\n",
      "전용면적별세대수      0\n",
      "공가수           0\n",
      "자격유형          0\n",
      "임대보증금       569\n",
      "임대료         569\n",
      "지하철         211\n",
      "버스            4\n",
      "단지내주차면수       0\n",
      "법정주차대수        0\n",
      "단지규모          0\n",
      "등록차량수         0\n",
      "dtype: int64\n",
      "-------- test.csv --------\n",
      "단지코드          0\n",
      "총세대수          0\n",
      "임대건물구분        0\n",
      "지역            0\n",
      "공급유형          0\n",
      "전용면적          0\n",
      "전용면적별세대수      0\n",
      "공가수           0\n",
      "자격유형          2\n",
      "임대보증금       180\n",
      "임대료         180\n",
      "지하철          42\n",
      "버스            0\n",
      "단지내주차면수       0\n",
      "법정주차대수        0\n",
      "단지규모          0\n",
      "dtype: int64\n"
     ]
    }
   ],
   "source": [
    "print(\"-------- train.csv --------\")\n",
    "print(train.isnull().sum())\n",
    "print(\"-------- test.csv --------\")\n",
    "print(test.isnull().sum())"
   ]
  },
  {
   "cell_type": "code",
   "execution_count": 12,
   "id": "ea985566",
   "metadata": {
    "ExecuteTime": {
     "end_time": "2021-07-29T00:36:34.183360Z",
     "start_time": "2021-07-29T00:36:34.124516Z"
    }
   },
   "outputs": [
    {
     "data": {
      "text/html": [
       "<div>\n",
       "<style scoped>\n",
       "    .dataframe tbody tr th:only-of-type {\n",
       "        vertical-align: middle;\n",
       "    }\n",
       "\n",
       "    .dataframe tbody tr th {\n",
       "        vertical-align: top;\n",
       "    }\n",
       "\n",
       "    .dataframe thead th {\n",
       "        text-align: right;\n",
       "    }\n",
       "</style>\n",
       "<table border=\"1\" class=\"dataframe\">\n",
       "  <thead>\n",
       "    <tr style=\"text-align: right;\">\n",
       "      <th></th>\n",
       "      <th>단지코드</th>\n",
       "      <th>총세대수</th>\n",
       "      <th>임대건물구분</th>\n",
       "      <th>지역</th>\n",
       "      <th>공급유형</th>\n",
       "      <th>전용면적</th>\n",
       "      <th>전용면적별세대수</th>\n",
       "      <th>공가수</th>\n",
       "      <th>자격유형</th>\n",
       "      <th>임대보증금</th>\n",
       "      <th>임대료</th>\n",
       "      <th>지하철</th>\n",
       "      <th>버스</th>\n",
       "      <th>단지내주차면수</th>\n",
       "      <th>법정주차대수</th>\n",
       "      <th>단지규모</th>\n",
       "    </tr>\n",
       "  </thead>\n",
       "  <tbody>\n",
       "    <tr>\n",
       "      <th>76</th>\n",
       "      <td>C1006</td>\n",
       "      <td>1505</td>\n",
       "      <td>아파트</td>\n",
       "      <td>대전광역시</td>\n",
       "      <td>영구임대</td>\n",
       "      <td>26.37</td>\n",
       "      <td>10</td>\n",
       "      <td>27.0</td>\n",
       "      <td>D</td>\n",
       "      <td>5787000.0</td>\n",
       "      <td>79980.0</td>\n",
       "      <td>2.0</td>\n",
       "      <td>5.0</td>\n",
       "      <td>428.0</td>\n",
       "      <td>1.0</td>\n",
       "      <td>3</td>\n",
       "    </tr>\n",
       "    <tr>\n",
       "      <th>77</th>\n",
       "      <td>C1006</td>\n",
       "      <td>1505</td>\n",
       "      <td>아파트</td>\n",
       "      <td>대전광역시</td>\n",
       "      <td>영구임대</td>\n",
       "      <td>26.37</td>\n",
       "      <td>10</td>\n",
       "      <td>27.0</td>\n",
       "      <td>D</td>\n",
       "      <td>5787000.0</td>\n",
       "      <td>79980.0</td>\n",
       "      <td>2.0</td>\n",
       "      <td>5.0</td>\n",
       "      <td>428.0</td>\n",
       "      <td>1.0</td>\n",
       "      <td>3</td>\n",
       "    </tr>\n",
       "    <tr>\n",
       "      <th>79</th>\n",
       "      <td>C1006</td>\n",
       "      <td>1505</td>\n",
       "      <td>아파트</td>\n",
       "      <td>대전광역시</td>\n",
       "      <td>영구임대</td>\n",
       "      <td>52.74</td>\n",
       "      <td>6</td>\n",
       "      <td>27.0</td>\n",
       "      <td>D</td>\n",
       "      <td>11574000.0</td>\n",
       "      <td>159960.0</td>\n",
       "      <td>2.0</td>\n",
       "      <td>5.0</td>\n",
       "      <td>428.0</td>\n",
       "      <td>1.0</td>\n",
       "      <td>3</td>\n",
       "    </tr>\n",
       "  </tbody>\n",
       "</table>\n",
       "</div>"
      ],
      "text/plain": [
       "     단지코드  총세대수 임대건물구분     지역  공급유형   전용면적  전용면적별세대수   공가수 자격유형       임대보증금  \\\n",
       "76  C1006  1505    아파트  대전광역시  영구임대  26.37        10  27.0    D   5787000.0   \n",
       "77  C1006  1505    아파트  대전광역시  영구임대  26.37        10  27.0    D   5787000.0   \n",
       "79  C1006  1505    아파트  대전광역시  영구임대  52.74         6  27.0    D  11574000.0   \n",
       "\n",
       "         임대료  지하철   버스  단지내주차면수  법정주차대수 단지규모  \n",
       "76   79980.0  2.0  5.0    428.0     1.0    3  \n",
       "77   79980.0  2.0  5.0    428.0     1.0    3  \n",
       "79  159960.0  2.0  5.0    428.0     1.0    3  "
      ]
     },
     "execution_count": 12,
     "metadata": {},
     "output_type": "execute_result"
    }
   ],
   "source": [
    "# 1. 자격유형 D의 임대보증금/임대료를 자격유형 C의 임대보증금/임대료를 이용해서 값을 채우는 것이 적합한가?\n",
    "# 2. 또 1번이 적절하다면, 차이가 큰 전용면적 52.74짜리의 임대보증금/임대료는 어떻게 채울 것인가?\n",
    "# -> 해결책 : 결측치가 있는 지역과 같은 지역의 cost_per_meter=데이터에서 임대료(임대보증금)/전용면적 [단위:(원/m^2)]을 계산하여\n",
    "#            결측치의 전용면적과 * cost_per_meter(원/m^2)로 값을 채운다.\n",
    "\n",
    "# 임대건물구분이 '아파트'이면서 '임대보증금'&'임대료'가 결측치인 것들 처리해준다.\n",
    "\n",
    "# Test\n",
    "# m^2당 임대보증금/임대료를 구한다. 이때 단위는 (원/m^2) 이다\n",
    "# 전용면적 최빈값(26.37)으로 나눠준다.\n",
    "rental_cost_per_meter = 79980 / 26.37\n",
    "deposit_cost_per_meter = 5787000 / 26.37 \n",
    "\n",
    "# Test data에서 영구임대 지역은 대전광역시뿐이다.\n",
    "# 즉, 아래 코드는 결측치를 적용하는 범위는 대전광역시이면서 공급유형이 영구임대인 곳이다.\n",
    "# 결측치에 전용면적 * cost 변수(원/m^2)\n",
    "idx = test[(test['공급유형']=='영구임대') & (test['임대보증금'].isnull())].index\n",
    "test.loc[idx, '임대료'] = test[(test['공급유형']=='영구임대') & (test['임대보증금'].isnull())]['전용면적'] * rental_cost_per_meter\n",
    "test.loc[idx, '임대보증금'] = test[(test['공급유형']=='영구임대') & (test['임대보증금'].isnull())]['전용면적'] * deposit_cost_per_meter\n",
    "\n",
    "# 잘 들어갔는지 확인하자.\n",
    "test.iloc[idx]"
   ]
  },
  {
   "cell_type": "code",
   "execution_count": 13,
   "id": "f43aaf6f",
   "metadata": {
    "ExecuteTime": {
     "end_time": "2021-07-29T00:36:34.228239Z",
     "start_time": "2021-07-29T00:36:34.186352Z"
    },
    "scrolled": true
   },
   "outputs": [
    {
     "name": "stdout",
     "output_type": "stream",
     "text": [
      "임대보증금 결측치 개수 :  569 / 임대료 결측치 개수 :  569\n",
      "아파트이면서 임대보증금이 결측치인 개수 :  7\n",
      "상가이면서 임대보증금이 결측치인 개수 :  562\n"
     ]
    },
    {
     "data": {
      "text/html": [
       "<div>\n",
       "<style scoped>\n",
       "    .dataframe tbody tr th:only-of-type {\n",
       "        vertical-align: middle;\n",
       "    }\n",
       "\n",
       "    .dataframe tbody tr th {\n",
       "        vertical-align: top;\n",
       "    }\n",
       "\n",
       "    .dataframe thead th {\n",
       "        text-align: right;\n",
       "    }\n",
       "</style>\n",
       "<table border=\"1\" class=\"dataframe\">\n",
       "  <thead>\n",
       "    <tr style=\"text-align: right;\">\n",
       "      <th></th>\n",
       "      <th>단지코드</th>\n",
       "      <th>총세대수</th>\n",
       "      <th>임대건물구분</th>\n",
       "      <th>지역</th>\n",
       "      <th>공급유형</th>\n",
       "      <th>전용면적</th>\n",
       "      <th>전용면적별세대수</th>\n",
       "      <th>공가수</th>\n",
       "      <th>자격유형</th>\n",
       "      <th>임대보증금</th>\n",
       "      <th>임대료</th>\n",
       "      <th>지하철</th>\n",
       "      <th>버스</th>\n",
       "      <th>단지내주차면수</th>\n",
       "      <th>법정주차대수</th>\n",
       "      <th>단지규모</th>\n",
       "      <th>등록차량수</th>\n",
       "    </tr>\n",
       "  </thead>\n",
       "  <tbody>\n",
       "    <tr>\n",
       "      <th>2331</th>\n",
       "      <td>C1350</td>\n",
       "      <td>7.244942</td>\n",
       "      <td>아파트</td>\n",
       "      <td>대전광역시</td>\n",
       "      <td>공공분양</td>\n",
       "      <td>74.94</td>\n",
       "      <td>317</td>\n",
       "      <td>2.0</td>\n",
       "      <td>D</td>\n",
       "      <td>NaN</td>\n",
       "      <td>NaN</td>\n",
       "      <td>NaN</td>\n",
       "      <td>6.0</td>\n",
       "      <td>1636.0</td>\n",
       "      <td>1.0</td>\n",
       "      <td>3</td>\n",
       "      <td>2315.0</td>\n",
       "    </tr>\n",
       "    <tr>\n",
       "      <th>2332</th>\n",
       "      <td>C1350</td>\n",
       "      <td>7.244942</td>\n",
       "      <td>아파트</td>\n",
       "      <td>대전광역시</td>\n",
       "      <td>공공분양</td>\n",
       "      <td>74.94</td>\n",
       "      <td>137</td>\n",
       "      <td>2.0</td>\n",
       "      <td>D</td>\n",
       "      <td>NaN</td>\n",
       "      <td>NaN</td>\n",
       "      <td>NaN</td>\n",
       "      <td>6.0</td>\n",
       "      <td>1636.0</td>\n",
       "      <td>1.0</td>\n",
       "      <td>3</td>\n",
       "      <td>2315.0</td>\n",
       "    </tr>\n",
       "    <tr>\n",
       "      <th>2333</th>\n",
       "      <td>C1350</td>\n",
       "      <td>7.244942</td>\n",
       "      <td>아파트</td>\n",
       "      <td>대전광역시</td>\n",
       "      <td>공공분양</td>\n",
       "      <td>74.94</td>\n",
       "      <td>22</td>\n",
       "      <td>2.0</td>\n",
       "      <td>D</td>\n",
       "      <td>NaN</td>\n",
       "      <td>NaN</td>\n",
       "      <td>NaN</td>\n",
       "      <td>6.0</td>\n",
       "      <td>1636.0</td>\n",
       "      <td>1.0</td>\n",
       "      <td>3</td>\n",
       "      <td>2315.0</td>\n",
       "    </tr>\n",
       "    <tr>\n",
       "      <th>2334</th>\n",
       "      <td>C1350</td>\n",
       "      <td>7.244942</td>\n",
       "      <td>아파트</td>\n",
       "      <td>대전광역시</td>\n",
       "      <td>공공분양</td>\n",
       "      <td>84.94</td>\n",
       "      <td>164</td>\n",
       "      <td>2.0</td>\n",
       "      <td>D</td>\n",
       "      <td>NaN</td>\n",
       "      <td>NaN</td>\n",
       "      <td>NaN</td>\n",
       "      <td>6.0</td>\n",
       "      <td>1636.0</td>\n",
       "      <td>1.0</td>\n",
       "      <td>3</td>\n",
       "      <td>2315.0</td>\n",
       "    </tr>\n",
       "    <tr>\n",
       "      <th>2335</th>\n",
       "      <td>C1350</td>\n",
       "      <td>7.244942</td>\n",
       "      <td>아파트</td>\n",
       "      <td>대전광역시</td>\n",
       "      <td>공공분양</td>\n",
       "      <td>84.94</td>\n",
       "      <td>19</td>\n",
       "      <td>2.0</td>\n",
       "      <td>D</td>\n",
       "      <td>NaN</td>\n",
       "      <td>NaN</td>\n",
       "      <td>NaN</td>\n",
       "      <td>6.0</td>\n",
       "      <td>1636.0</td>\n",
       "      <td>1.0</td>\n",
       "      <td>3</td>\n",
       "      <td>2315.0</td>\n",
       "    </tr>\n",
       "    <tr>\n",
       "      <th>2336</th>\n",
       "      <td>C1350</td>\n",
       "      <td>7.244942</td>\n",
       "      <td>아파트</td>\n",
       "      <td>대전광역시</td>\n",
       "      <td>공공분양</td>\n",
       "      <td>84.96</td>\n",
       "      <td>26</td>\n",
       "      <td>2.0</td>\n",
       "      <td>D</td>\n",
       "      <td>NaN</td>\n",
       "      <td>NaN</td>\n",
       "      <td>NaN</td>\n",
       "      <td>6.0</td>\n",
       "      <td>1636.0</td>\n",
       "      <td>1.0</td>\n",
       "      <td>3</td>\n",
       "      <td>2315.0</td>\n",
       "    </tr>\n",
       "    <tr>\n",
       "      <th>2337</th>\n",
       "      <td>C1350</td>\n",
       "      <td>7.244942</td>\n",
       "      <td>아파트</td>\n",
       "      <td>대전광역시</td>\n",
       "      <td>공공분양</td>\n",
       "      <td>84.97</td>\n",
       "      <td>26</td>\n",
       "      <td>2.0</td>\n",
       "      <td>D</td>\n",
       "      <td>NaN</td>\n",
       "      <td>NaN</td>\n",
       "      <td>NaN</td>\n",
       "      <td>6.0</td>\n",
       "      <td>1636.0</td>\n",
       "      <td>1.0</td>\n",
       "      <td>3</td>\n",
       "      <td>2315.0</td>\n",
       "    </tr>\n",
       "  </tbody>\n",
       "</table>\n",
       "</div>"
      ],
      "text/plain": [
       "       단지코드      총세대수 임대건물구분     지역  공급유형   전용면적  전용면적별세대수  공가수 자격유형 임대보증금  \\\n",
       "2331  C1350  7.244942    아파트  대전광역시  공공분양  74.94       317  2.0    D   NaN   \n",
       "2332  C1350  7.244942    아파트  대전광역시  공공분양  74.94       137  2.0    D   NaN   \n",
       "2333  C1350  7.244942    아파트  대전광역시  공공분양  74.94        22  2.0    D   NaN   \n",
       "2334  C1350  7.244942    아파트  대전광역시  공공분양  84.94       164  2.0    D   NaN   \n",
       "2335  C1350  7.244942    아파트  대전광역시  공공분양  84.94        19  2.0    D   NaN   \n",
       "2336  C1350  7.244942    아파트  대전광역시  공공분양  84.96        26  2.0    D   NaN   \n",
       "2337  C1350  7.244942    아파트  대전광역시  공공분양  84.97        26  2.0    D   NaN   \n",
       "\n",
       "      임대료  지하철   버스  단지내주차면수  법정주차대수 단지규모   등록차량수  \n",
       "2331  NaN  NaN  6.0   1636.0     1.0    3  2315.0  \n",
       "2332  NaN  NaN  6.0   1636.0     1.0    3  2315.0  \n",
       "2333  NaN  NaN  6.0   1636.0     1.0    3  2315.0  \n",
       "2334  NaN  NaN  6.0   1636.0     1.0    3  2315.0  \n",
       "2335  NaN  NaN  6.0   1636.0     1.0    3  2315.0  \n",
       "2336  NaN  NaN  6.0   1636.0     1.0    3  2315.0  \n",
       "2337  NaN  NaN  6.0   1636.0     1.0    3  2315.0  "
      ]
     },
     "execution_count": 13,
     "metadata": {},
     "output_type": "execute_result"
    }
   ],
   "source": [
    "# Train 데이터에서는 임대건물구분이 '아파트'이지만 공급유형이 '공공분양'이기 때문에 이 다음 Cell에서 0으로 처리한다.\n",
    "print('임대보증금 결측치 개수 : ', len(train[train['임대보증금'].isnull()]), '/ 임대료 결측치 개수 : ', len(train[train['임대료'].isnull()]))\n",
    "print('아파트이면서 임대보증금이 결측치인 개수 : ', len(train[(train['임대건물구분']=='아파트') & (train['임대보증금'].isnull()==True)]))\n",
    "print('상가이면서 임대보증금이 결측치인 개수 : ', len(train[(train['임대건물구분']=='상가') & (train['임대보증금'].isnull()==True)]))\n",
    "train[(train['임대건물구분']=='아파트') & (train['임대보증금'].isnull()==True)]"
   ]
  },
  {
   "cell_type": "code",
   "execution_count": 14,
   "id": "fd8c741e",
   "metadata": {
    "ExecuteTime": {
     "end_time": "2021-07-29T00:36:34.259154Z",
     "start_time": "2021-07-29T00:36:34.230232Z"
    }
   },
   "outputs": [],
   "source": [
    "# train 데이터\n",
    "# 결측치는 (아파트 & 대전광역시 & 공공분양) + 상가인 데이터이다.\n",
    "train['임대보증금'] = train['임대보증금'].fillna(0)\n",
    "train['임대료'] = train['임대료'].fillna(0)\n",
    "train['지하철'] = train['지하철'].fillna(0)\n",
    "train['버스'] = train['버스'].fillna(0)\n",
    "\n",
    "# test 데이터\n",
    "# 결측치는 모두 상가인 데이터이다.\n",
    "test['임대보증금'] = test['임대보증금'].fillna(0)\n",
    "test['임대료'] = test['임대료'].fillna(0)\n",
    "test['지하철'] = test['지하철'].fillna(0)\n",
    "\n",
    "test.loc[test.단지코드.isin(['C2411']) & test.자격유형.isnull(), '자격유형'] = 'A'\n",
    "test.loc[test.단지코드.isin(['C2253']) & test.자격유형.isnull(), '자격유형'] = 'C'"
   ]
  },
  {
   "cell_type": "code",
   "execution_count": 15,
   "id": "b9ebc47a",
   "metadata": {
    "ExecuteTime": {
     "end_time": "2021-07-29T00:36:34.290072Z",
     "start_time": "2021-07-29T00:36:34.262149Z"
    },
    "scrolled": true
   },
   "outputs": [
    {
     "name": "stdout",
     "output_type": "stream",
     "text": [
      "-------- train.csv --------\n",
      "단지코드        0\n",
      "총세대수        0\n",
      "임대건물구분      0\n",
      "지역          0\n",
      "공급유형        0\n",
      "전용면적        0\n",
      "전용면적별세대수    0\n",
      "공가수         0\n",
      "자격유형        0\n",
      "임대보증금       0\n",
      "임대료         0\n",
      "지하철         0\n",
      "버스          0\n",
      "단지내주차면수     0\n",
      "법정주차대수      0\n",
      "단지규모        0\n",
      "등록차량수       0\n",
      "dtype: int64\n",
      "-------- test.csv --------\n",
      "단지코드        0\n",
      "총세대수        0\n",
      "임대건물구분      0\n",
      "지역          0\n",
      "공급유형        0\n",
      "전용면적        0\n",
      "전용면적별세대수    0\n",
      "공가수         0\n",
      "자격유형        0\n",
      "임대보증금       0\n",
      "임대료         0\n",
      "지하철         0\n",
      "버스          0\n",
      "단지내주차면수     0\n",
      "법정주차대수      0\n",
      "단지규모        0\n",
      "dtype: int64\n"
     ]
    }
   ],
   "source": [
    "print(\"-------- train.csv --------\")\n",
    "print(train.isnull().sum())\n",
    "print(\"-------- test.csv --------\")\n",
    "print(test.isnull().sum())"
   ]
  },
  {
   "cell_type": "markdown",
   "id": "91c56e44",
   "metadata": {},
   "source": [
    "# '-' 데이터 처리"
   ]
  },
  {
   "cell_type": "code",
   "execution_count": 16,
   "id": "5bfab98c",
   "metadata": {
    "ExecuteTime": {
     "end_time": "2021-07-29T00:36:34.305032Z",
     "start_time": "2021-07-29T00:36:34.292067Z"
    }
   },
   "outputs": [],
   "source": [
    "def HyphenDataProc(dataframe, demandName, qualificationName, getName, collection_range):\n",
    "    df = dataframe.copy()\n",
    "    cost_mean = []\n",
    "    \n",
    "    # 수집할 +/- 범위\n",
    "    collection_range = collection_range\n",
    "    \n",
    "    # 자격유형 'H'이면서  임대료/임대보증금 '-'인 것들의 전용면적 가져오기\n",
    "    area_list = df[(df[getName]=='-')&(df['자격유형']==qualificationName)]['전용면적'].to_list()\n",
    "\n",
    "    # 조건문\n",
    "    # '국민임대' & 'H' & '-' & 면적-0.5 이상 & 면적+0.5 이하 \n",
    "    for area in area_list:\n",
    "        cost_mean.append( np.mean(df[ (df['공급유형'] == demandName) & (df['자격유형'] == qualificationName) & (df[getName] != '-') \n",
    "          & (df['전용면적'] >= (area-collection_range)) & (df['전용면적'] <= (area+collection_range)) ][getName].values.astype(float)) )\n",
    "\n",
    "    # 데이터 입력\n",
    "    idx = df[(df[getName]=='-')&(df['자격유형']==qualificationName)].index\n",
    "    df.loc[idx, getName] = cost_mean\n",
    "    \n",
    "    return df"
   ]
  },
  {
   "cell_type": "markdown",
   "id": "6399bde6",
   "metadata": {},
   "source": [
    "## 장기전세 임대료 데이터 처리"
   ]
  },
  {
   "cell_type": "code",
   "execution_count": 17,
   "id": "84adb92d",
   "metadata": {
    "ExecuteTime": {
     "end_time": "2021-07-29T00:36:34.319993Z",
     "start_time": "2021-07-29T00:36:34.306028Z"
    }
   },
   "outputs": [],
   "source": [
    "idx = train[train['공급유형'] == '장기전세'].index\n",
    "train.loc[idx, '임대료'] = 0.0"
   ]
  },
  {
   "cell_type": "markdown",
   "id": "578e657c",
   "metadata": {},
   "source": [
    "## 유형별 임대보증금/임대료 '-' 데이터 처리"
   ]
  },
  {
   "cell_type": "code",
   "execution_count": 18,
   "id": "0139f65f",
   "metadata": {
    "ExecuteTime": {
     "end_time": "2021-07-29T00:36:34.489539Z",
     "start_time": "2021-07-29T00:36:34.321987Z"
    }
   },
   "outputs": [],
   "source": [
    "# Train 공급유형 '국민임대' & 자격유형 'H' & 임대료/임대보증금 '-' 데이터 처리\n",
    "train = HyphenDataProc(train, '국민임대', 'H', '임대료', 0.5)\n",
    "train = HyphenDataProc(train, '국민임대', 'H', '임대보증금', 0.5)\n",
    "\n",
    "# Train 공급유형 '행복주택' & 자격유형 'K' & 임대료/임대보증금 '-' 데이터 처리\n",
    "train = HyphenDataProc(train, '행복주택', 'K', '임대료', 0.5)\n",
    "train = HyphenDataProc(train, '행복주택', 'K', '임대보증금', 0.5)\n",
    "\n",
    "# Test 공급유형 '행복주택' & 자격유형 'L' & 임대료/임대보증금 '-' 데이터 처리\n",
    "test = HyphenDataProc(test, '행복주택', 'L', '임대료', 0.5)\n",
    "test = HyphenDataProc(test, '행복주택', 'L', '임대보증금', 0.5)\n",
    "\n",
    "# Test 공급유형 '영구임대' & 자격유형 'C' & 임대료/임대보증금 '-' 데이터 처리\n",
    "test = HyphenDataProc(test, '영구임대', 'C', '임대료', 1.5)\n",
    "test = HyphenDataProc(test, '영구임대', 'C', '임대보증금', 1.5)"
   ]
  },
  {
   "cell_type": "markdown",
   "id": "daf5a106",
   "metadata": {},
   "source": [
    "# 임대료/임대보증금 Datatype 수치형으로 변경"
   ]
  },
  {
   "cell_type": "code",
   "execution_count": 19,
   "id": "2b957a94",
   "metadata": {
    "ExecuteTime": {
     "end_time": "2021-07-29T00:36:34.520456Z",
     "start_time": "2021-07-29T00:36:34.491533Z"
    }
   },
   "outputs": [],
   "source": [
    "# 임대료와 임대보증금이 object형이므로 수치형으로 변경해준다.\n",
    "train['임대료'] = train['임대료'].astype('float64')\n",
    "train['임대보증금'] = train['임대보증금'].astype('float64')\n",
    "\n",
    "test['임대료'] = test['임대료'].astype('float64')\n",
    "test['임대보증금'] = test['임대보증금'].astype('float64')"
   ]
  },
  {
   "cell_type": "markdown",
   "id": "b8f25c41",
   "metadata": {},
   "source": [
    "# 지하철 Y or N로 변경"
   ]
  },
  {
   "cell_type": "code",
   "execution_count": 20,
   "id": "6e507ba5",
   "metadata": {
    "ExecuteTime": {
     "end_time": "2021-07-29T00:36:34.535416Z",
     "start_time": "2021-07-29T00:36:34.525448Z"
    }
   },
   "outputs": [],
   "source": [
    "train['지하철'] = np.where(train['지하철'] == 0, 0, 1)\n",
    "test['지하철'] = np.where(test['지하철'] == 0, 0, 1)"
   ]
  },
  {
   "cell_type": "markdown",
   "id": "8a53769b",
   "metadata": {},
   "source": [
    "# 임대건물구분 컬럼 처리"
   ]
  },
  {
   "cell_type": "code",
   "execution_count": 21,
   "id": "68ed4522",
   "metadata": {
    "ExecuteTime": {
     "end_time": "2021-07-29T00:36:34.551373Z",
     "start_time": "2021-07-29T00:36:34.537410Z"
    }
   },
   "outputs": [],
   "source": [
    "# 임대건물구분에서 7개의 아파트는 상가로 예상이됨 이를 처리 함.\n",
    "# 임대건물구분이 상가인 경우는 전용면적별세대수도 1이므로 이를 처리 함.\n",
    "\n",
    "idx = train[(train['임대건물구분']=='아파트') & (train['자격유형']=='D')]['전용면적별세대수'].index\n",
    "train.loc[idx, '전용면적별세대수'] = 1\n",
    "train.loc[idx, '임대건물구분'] = '상가'"
   ]
  },
  {
   "cell_type": "markdown",
   "id": "8423be0e",
   "metadata": {},
   "source": [
    "# 지역 데이터를 숫자로 매핑"
   ]
  },
  {
   "cell_type": "code",
   "execution_count": 22,
   "id": "ae9c2154",
   "metadata": {
    "ExecuteTime": {
     "end_time": "2021-07-29T00:36:34.567329Z",
     "start_time": "2021-07-29T00:36:34.557361Z"
    }
   },
   "outputs": [],
   "source": [
    "local_map = {}\n",
    "for i, loc in enumerate(train['지역'].unique()):\n",
    "    local_map[loc] = i\n",
    "    \n",
    "train['지역'] = train['지역'].map(local_map)\n",
    "\n",
    "local_map = {}\n",
    "for i, loc in enumerate(test['지역'].unique()):\n",
    "    local_map[loc] = i\n",
    "    \n",
    "test['지역'] = test['지역'].map(local_map)"
   ]
  },
  {
   "cell_type": "markdown",
   "id": "d32cdf89",
   "metadata": {},
   "source": [
    "# 전용면적을 상/하한 적용"
   ]
  },
  {
   "cell_type": "code",
   "execution_count": 23,
   "id": "cd32d741",
   "metadata": {
    "ExecuteTime": {
     "end_time": "2021-07-29T00:36:34.599245Z",
     "start_time": "2021-07-29T00:36:34.569324Z"
    }
   },
   "outputs": [],
   "source": [
    "# 전용면적을 5의 배수로 변경 후 상/하한 적용\n",
    "# 하한 값 15, 상한 값 100을 적용\n",
    "\n",
    "train['전용면적'] = np.round(train['전용면적'], 0)\n",
    "train['전용면적'] = train['전용면적']//5*5\n",
    "\n",
    "idx = train[train['전용면적']>100].index\n",
    "train.loc[idx, '전용면적'] = 100\n",
    "\n",
    "idx = train[train['전용면적']<15].index\n",
    "train.loc[idx, '전용면적'] = 15\n",
    "\n",
    "test['전용면적'] = np.round(test['전용면적'], 0)\n",
    "test['전용면적'] = test['전용면적']//5*5\n",
    "\n",
    "idx = test[test['전용면적']>100].index\n",
    "test.loc[idx, '전용면적'] = 100\n",
    "\n",
    "idx = test[test['전용면적']<15].index\n",
    "test.loc[idx, '전용면적'] = 15"
   ]
  },
  {
   "cell_type": "markdown",
   "id": "db91203f",
   "metadata": {},
   "source": [
    "# 법정주차수요 만들기"
   ]
  },
  {
   "cell_type": "code",
   "execution_count": 24,
   "id": "662c1ebe",
   "metadata": {
    "ExecuteTime": {
     "end_time": "2021-07-29T00:36:34.614718Z",
     "start_time": "2021-07-29T00:36:34.600241Z"
    }
   },
   "outputs": [],
   "source": [
    "value = train['총세대수'] * train['법정주차대수']\n",
    "train.insert(loc=15, column='법정주차수요', value=value)\n",
    "\n",
    "value = test['총세대수'] * test['법정주차대수']\n",
    "test['법정주차수요'] = value"
   ]
  },
  {
   "cell_type": "markdown",
   "id": "48626cd7",
   "metadata": {},
   "source": [
    "# 상관관계"
   ]
  },
  {
   "cell_type": "code",
   "execution_count": 25,
   "id": "61503542",
   "metadata": {
    "ExecuteTime": {
     "end_time": "2021-07-29T00:36:34.645631Z",
     "start_time": "2021-07-29T00:36:34.616708Z"
    },
    "scrolled": true
   },
   "outputs": [
    {
     "data": {
      "text/html": [
       "<div>\n",
       "<style scoped>\n",
       "    .dataframe tbody tr th:only-of-type {\n",
       "        vertical-align: middle;\n",
       "    }\n",
       "\n",
       "    .dataframe tbody tr th {\n",
       "        vertical-align: top;\n",
       "    }\n",
       "\n",
       "    .dataframe thead th {\n",
       "        text-align: right;\n",
       "    }\n",
       "</style>\n",
       "<table border=\"1\" class=\"dataframe\">\n",
       "  <thead>\n",
       "    <tr style=\"text-align: right;\">\n",
       "      <th></th>\n",
       "      <th>등록차량수</th>\n",
       "    </tr>\n",
       "  </thead>\n",
       "  <tbody>\n",
       "    <tr>\n",
       "      <th>등록차량수</th>\n",
       "      <td>1.000000</td>\n",
       "    </tr>\n",
       "    <tr>\n",
       "      <th>단지내주차면수</th>\n",
       "      <td>0.859216</td>\n",
       "    </tr>\n",
       "    <tr>\n",
       "      <th>임대료</th>\n",
       "      <td>0.524180</td>\n",
       "    </tr>\n",
       "    <tr>\n",
       "      <th>임대보증금</th>\n",
       "      <td>0.436858</td>\n",
       "    </tr>\n",
       "    <tr>\n",
       "      <th>총세대수</th>\n",
       "      <td>0.382196</td>\n",
       "    </tr>\n",
       "    <tr>\n",
       "      <th>전용면적</th>\n",
       "      <td>0.354184</td>\n",
       "    </tr>\n",
       "    <tr>\n",
       "      <th>전용면적별세대수</th>\n",
       "      <td>0.239809</td>\n",
       "    </tr>\n",
       "    <tr>\n",
       "      <th>공가수</th>\n",
       "      <td>0.118121</td>\n",
       "    </tr>\n",
       "    <tr>\n",
       "      <th>버스</th>\n",
       "      <td>0.102293</td>\n",
       "    </tr>\n",
       "    <tr>\n",
       "      <th>지역</th>\n",
       "      <td>0.038256</td>\n",
       "    </tr>\n",
       "    <tr>\n",
       "      <th>법정주차수요</th>\n",
       "      <td>0.013300</td>\n",
       "    </tr>\n",
       "    <tr>\n",
       "      <th>법정주차대수</th>\n",
       "      <td>-0.061579</td>\n",
       "    </tr>\n",
       "    <tr>\n",
       "      <th>지하철</th>\n",
       "      <td>-0.099802</td>\n",
       "    </tr>\n",
       "  </tbody>\n",
       "</table>\n",
       "</div>"
      ],
      "text/plain": [
       "             등록차량수\n",
       "등록차량수     1.000000\n",
       "단지내주차면수   0.859216\n",
       "임대료       0.524180\n",
       "임대보증금     0.436858\n",
       "총세대수      0.382196\n",
       "전용면적      0.354184\n",
       "전용면적별세대수  0.239809\n",
       "공가수       0.118121\n",
       "버스        0.102293\n",
       "지역        0.038256\n",
       "법정주차수요    0.013300\n",
       "법정주차대수   -0.061579\n",
       "지하철      -0.099802"
      ]
     },
     "execution_count": 25,
     "metadata": {},
     "output_type": "execute_result"
    }
   ],
   "source": [
    "pd.DataFrame(train.corr()['등록차량수'].sort_values(ascending=False))"
   ]
  },
  {
   "cell_type": "code",
   "execution_count": 26,
   "id": "96862cfc",
   "metadata": {
    "ExecuteTime": {
     "end_time": "2021-07-29T00:36:34.691514Z",
     "start_time": "2021-07-29T00:36:34.646629Z"
    }
   },
   "outputs": [
    {
     "data": {
      "text/html": [
       "<div>\n",
       "<style scoped>\n",
       "    .dataframe tbody tr th:only-of-type {\n",
       "        vertical-align: middle;\n",
       "    }\n",
       "\n",
       "    .dataframe tbody tr th {\n",
       "        vertical-align: top;\n",
       "    }\n",
       "\n",
       "    .dataframe thead th {\n",
       "        text-align: right;\n",
       "    }\n",
       "</style>\n",
       "<table border=\"1\" class=\"dataframe\">\n",
       "  <thead>\n",
       "    <tr style=\"text-align: right;\">\n",
       "      <th></th>\n",
       "      <th>단지코드</th>\n",
       "      <th>총세대수</th>\n",
       "      <th>임대건물구분</th>\n",
       "      <th>지역</th>\n",
       "      <th>공급유형</th>\n",
       "      <th>전용면적</th>\n",
       "      <th>전용면적별세대수</th>\n",
       "      <th>공가수</th>\n",
       "      <th>자격유형</th>\n",
       "      <th>임대보증금</th>\n",
       "      <th>임대료</th>\n",
       "      <th>지하철</th>\n",
       "      <th>버스</th>\n",
       "      <th>단지내주차면수</th>\n",
       "      <th>법정주차대수</th>\n",
       "      <th>법정주차수요</th>\n",
       "      <th>단지규모</th>\n",
       "      <th>등록차량수</th>\n",
       "    </tr>\n",
       "  </thead>\n",
       "  <tbody>\n",
       "    <tr>\n",
       "      <th>0</th>\n",
       "      <td>C2483</td>\n",
       "      <td>6.802395</td>\n",
       "      <td>아파트</td>\n",
       "      <td>0</td>\n",
       "      <td>국민임대</td>\n",
       "      <td>40.0</td>\n",
       "      <td>134</td>\n",
       "      <td>38.0</td>\n",
       "      <td>A</td>\n",
       "      <td>15667000.0</td>\n",
       "      <td>103680.0</td>\n",
       "      <td>0</td>\n",
       "      <td>3.0</td>\n",
       "      <td>1425.0</td>\n",
       "      <td>1.0</td>\n",
       "      <td>6.802395</td>\n",
       "      <td>2</td>\n",
       "      <td>1015.0</td>\n",
       "    </tr>\n",
       "    <tr>\n",
       "      <th>1</th>\n",
       "      <td>C2483</td>\n",
       "      <td>6.802395</td>\n",
       "      <td>아파트</td>\n",
       "      <td>0</td>\n",
       "      <td>국민임대</td>\n",
       "      <td>40.0</td>\n",
       "      <td>15</td>\n",
       "      <td>38.0</td>\n",
       "      <td>A</td>\n",
       "      <td>15667000.0</td>\n",
       "      <td>103680.0</td>\n",
       "      <td>0</td>\n",
       "      <td>3.0</td>\n",
       "      <td>1425.0</td>\n",
       "      <td>1.0</td>\n",
       "      <td>6.802395</td>\n",
       "      <td>2</td>\n",
       "      <td>1015.0</td>\n",
       "    </tr>\n",
       "    <tr>\n",
       "      <th>2</th>\n",
       "      <td>C2483</td>\n",
       "      <td>6.802395</td>\n",
       "      <td>아파트</td>\n",
       "      <td>0</td>\n",
       "      <td>국민임대</td>\n",
       "      <td>50.0</td>\n",
       "      <td>385</td>\n",
       "      <td>38.0</td>\n",
       "      <td>A</td>\n",
       "      <td>27304000.0</td>\n",
       "      <td>184330.0</td>\n",
       "      <td>0</td>\n",
       "      <td>3.0</td>\n",
       "      <td>1425.0</td>\n",
       "      <td>1.0</td>\n",
       "      <td>6.802395</td>\n",
       "      <td>2</td>\n",
       "      <td>1015.0</td>\n",
       "    </tr>\n",
       "    <tr>\n",
       "      <th>3</th>\n",
       "      <td>C2483</td>\n",
       "      <td>6.802395</td>\n",
       "      <td>아파트</td>\n",
       "      <td>0</td>\n",
       "      <td>국민임대</td>\n",
       "      <td>50.0</td>\n",
       "      <td>15</td>\n",
       "      <td>38.0</td>\n",
       "      <td>A</td>\n",
       "      <td>27304000.0</td>\n",
       "      <td>184330.0</td>\n",
       "      <td>0</td>\n",
       "      <td>3.0</td>\n",
       "      <td>1425.0</td>\n",
       "      <td>1.0</td>\n",
       "      <td>6.802395</td>\n",
       "      <td>2</td>\n",
       "      <td>1015.0</td>\n",
       "    </tr>\n",
       "    <tr>\n",
       "      <th>4</th>\n",
       "      <td>C2483</td>\n",
       "      <td>6.802395</td>\n",
       "      <td>아파트</td>\n",
       "      <td>0</td>\n",
       "      <td>국민임대</td>\n",
       "      <td>50.0</td>\n",
       "      <td>41</td>\n",
       "      <td>38.0</td>\n",
       "      <td>A</td>\n",
       "      <td>27304000.0</td>\n",
       "      <td>184330.0</td>\n",
       "      <td>0</td>\n",
       "      <td>3.0</td>\n",
       "      <td>1425.0</td>\n",
       "      <td>1.0</td>\n",
       "      <td>6.802395</td>\n",
       "      <td>2</td>\n",
       "      <td>1015.0</td>\n",
       "    </tr>\n",
       "    <tr>\n",
       "      <th>...</th>\n",
       "      <td>...</td>\n",
       "      <td>...</td>\n",
       "      <td>...</td>\n",
       "      <td>...</td>\n",
       "      <td>...</td>\n",
       "      <td>...</td>\n",
       "      <td>...</td>\n",
       "      <td>...</td>\n",
       "      <td>...</td>\n",
       "      <td>...</td>\n",
       "      <td>...</td>\n",
       "      <td>...</td>\n",
       "      <td>...</td>\n",
       "      <td>...</td>\n",
       "      <td>...</td>\n",
       "      <td>...</td>\n",
       "      <td>...</td>\n",
       "      <td>...</td>\n",
       "    </tr>\n",
       "    <tr>\n",
       "      <th>2947</th>\n",
       "      <td>C2532</td>\n",
       "      <td>5.476464</td>\n",
       "      <td>아파트</td>\n",
       "      <td>5</td>\n",
       "      <td>국민임대</td>\n",
       "      <td>45.0</td>\n",
       "      <td>19</td>\n",
       "      <td>7.0</td>\n",
       "      <td>A</td>\n",
       "      <td>11346000.0</td>\n",
       "      <td>116090.0</td>\n",
       "      <td>0</td>\n",
       "      <td>1.0</td>\n",
       "      <td>166.0</td>\n",
       "      <td>1.0</td>\n",
       "      <td>5.476464</td>\n",
       "      <td>1</td>\n",
       "      <td>146.0</td>\n",
       "    </tr>\n",
       "    <tr>\n",
       "      <th>2948</th>\n",
       "      <td>C2532</td>\n",
       "      <td>5.476464</td>\n",
       "      <td>아파트</td>\n",
       "      <td>5</td>\n",
       "      <td>국민임대</td>\n",
       "      <td>50.0</td>\n",
       "      <td>34</td>\n",
       "      <td>7.0</td>\n",
       "      <td>A</td>\n",
       "      <td>14005000.0</td>\n",
       "      <td>142310.0</td>\n",
       "      <td>0</td>\n",
       "      <td>1.0</td>\n",
       "      <td>166.0</td>\n",
       "      <td>1.0</td>\n",
       "      <td>5.476464</td>\n",
       "      <td>1</td>\n",
       "      <td>146.0</td>\n",
       "    </tr>\n",
       "    <tr>\n",
       "      <th>2949</th>\n",
       "      <td>C2532</td>\n",
       "      <td>5.476464</td>\n",
       "      <td>아파트</td>\n",
       "      <td>5</td>\n",
       "      <td>국민임대</td>\n",
       "      <td>50.0</td>\n",
       "      <td>34</td>\n",
       "      <td>7.0</td>\n",
       "      <td>A</td>\n",
       "      <td>14005000.0</td>\n",
       "      <td>142310.0</td>\n",
       "      <td>0</td>\n",
       "      <td>1.0</td>\n",
       "      <td>166.0</td>\n",
       "      <td>1.0</td>\n",
       "      <td>5.476464</td>\n",
       "      <td>1</td>\n",
       "      <td>146.0</td>\n",
       "    </tr>\n",
       "    <tr>\n",
       "      <th>2950</th>\n",
       "      <td>C2532</td>\n",
       "      <td>5.476464</td>\n",
       "      <td>아파트</td>\n",
       "      <td>5</td>\n",
       "      <td>국민임대</td>\n",
       "      <td>50.0</td>\n",
       "      <td>114</td>\n",
       "      <td>7.0</td>\n",
       "      <td>A</td>\n",
       "      <td>14005000.0</td>\n",
       "      <td>142310.0</td>\n",
       "      <td>0</td>\n",
       "      <td>1.0</td>\n",
       "      <td>166.0</td>\n",
       "      <td>1.0</td>\n",
       "      <td>5.476464</td>\n",
       "      <td>1</td>\n",
       "      <td>146.0</td>\n",
       "    </tr>\n",
       "    <tr>\n",
       "      <th>2951</th>\n",
       "      <td>C2532</td>\n",
       "      <td>5.476464</td>\n",
       "      <td>아파트</td>\n",
       "      <td>5</td>\n",
       "      <td>국민임대</td>\n",
       "      <td>55.0</td>\n",
       "      <td>19</td>\n",
       "      <td>7.0</td>\n",
       "      <td>A</td>\n",
       "      <td>14830000.0</td>\n",
       "      <td>151030.0</td>\n",
       "      <td>0</td>\n",
       "      <td>1.0</td>\n",
       "      <td>166.0</td>\n",
       "      <td>1.0</td>\n",
       "      <td>5.476464</td>\n",
       "      <td>1</td>\n",
       "      <td>146.0</td>\n",
       "    </tr>\n",
       "  </tbody>\n",
       "</table>\n",
       "<p>2952 rows × 18 columns</p>\n",
       "</div>"
      ],
      "text/plain": [
       "       단지코드      총세대수 임대건물구분  지역  공급유형  전용면적  전용면적별세대수   공가수 자격유형       임대보증금  \\\n",
       "0     C2483  6.802395    아파트   0  국민임대  40.0       134  38.0    A  15667000.0   \n",
       "1     C2483  6.802395    아파트   0  국민임대  40.0        15  38.0    A  15667000.0   \n",
       "2     C2483  6.802395    아파트   0  국민임대  50.0       385  38.0    A  27304000.0   \n",
       "3     C2483  6.802395    아파트   0  국민임대  50.0        15  38.0    A  27304000.0   \n",
       "4     C2483  6.802395    아파트   0  국민임대  50.0        41  38.0    A  27304000.0   \n",
       "...     ...       ...    ...  ..   ...   ...       ...   ...  ...         ...   \n",
       "2947  C2532  5.476464    아파트   5  국민임대  45.0        19   7.0    A  11346000.0   \n",
       "2948  C2532  5.476464    아파트   5  국민임대  50.0        34   7.0    A  14005000.0   \n",
       "2949  C2532  5.476464    아파트   5  국민임대  50.0        34   7.0    A  14005000.0   \n",
       "2950  C2532  5.476464    아파트   5  국민임대  50.0       114   7.0    A  14005000.0   \n",
       "2951  C2532  5.476464    아파트   5  국민임대  55.0        19   7.0    A  14830000.0   \n",
       "\n",
       "           임대료  지하철   버스  단지내주차면수  법정주차대수    법정주차수요 단지규모   등록차량수  \n",
       "0     103680.0    0  3.0   1425.0     1.0  6.802395    2  1015.0  \n",
       "1     103680.0    0  3.0   1425.0     1.0  6.802395    2  1015.0  \n",
       "2     184330.0    0  3.0   1425.0     1.0  6.802395    2  1015.0  \n",
       "3     184330.0    0  3.0   1425.0     1.0  6.802395    2  1015.0  \n",
       "4     184330.0    0  3.0   1425.0     1.0  6.802395    2  1015.0  \n",
       "...        ...  ...  ...      ...     ...       ...  ...     ...  \n",
       "2947  116090.0    0  1.0    166.0     1.0  5.476464    1   146.0  \n",
       "2948  142310.0    0  1.0    166.0     1.0  5.476464    1   146.0  \n",
       "2949  142310.0    0  1.0    166.0     1.0  5.476464    1   146.0  \n",
       "2950  142310.0    0  1.0    166.0     1.0  5.476464    1   146.0  \n",
       "2951  151030.0    0  1.0    166.0     1.0  5.476464    1   146.0  \n",
       "\n",
       "[2952 rows x 18 columns]"
      ]
     },
     "execution_count": 26,
     "metadata": {},
     "output_type": "execute_result"
    }
   ],
   "source": [
    "train"
   ]
  },
  {
   "cell_type": "markdown",
   "id": "013ec571",
   "metadata": {},
   "source": [
    "# 학습 데이터 생성"
   ]
  },
  {
   "cell_type": "code",
   "execution_count": 27,
   "id": "5258acae",
   "metadata": {
    "ExecuteTime": {
     "end_time": "2021-07-29T00:36:34.707466Z",
     "start_time": "2021-07-29T00:36:34.693506Z"
    }
   },
   "outputs": [],
   "source": [
    "columns = ['총세대수', '지역', '전용면적별세대수', '공가수', '지하철', '버스', '단지내주차면수', '단지규모', '법정주차수요']\n",
    "target = '등록차량수'\n",
    "area_columns = []\n",
    "for area in train['전용면적'].unique():\n",
    "    area_columns.append(f'면적_{area}')"
   ]
  },
  {
   "cell_type": "code",
   "execution_count": 28,
   "id": "0ac2dfd2",
   "metadata": {
    "ExecuteTime": {
     "end_time": "2021-07-29T00:36:34.722427Z",
     "start_time": "2021-07-29T00:36:34.712454Z"
    }
   },
   "outputs": [],
   "source": [
    "new_train = pd.DataFrame()\n",
    "new_test = pd.DataFrame()\n",
    "\n",
    "new_train['임대보증금'] = 0\n",
    "new_train['임대료'] = 0\n",
    "new_test['임대보증금'] = 0\n",
    "new_test['임대료'] = 0"
   ]
  },
  {
   "cell_type": "code",
   "execution_count": 29,
   "id": "741d0e75",
   "metadata": {
    "ExecuteTime": {
     "end_time": "2021-07-29T00:36:50.434593Z",
     "start_time": "2021-07-29T00:36:34.723424Z"
    }
   },
   "outputs": [
    {
     "name": "stderr",
     "output_type": "stream",
     "text": [
      "423it [00:11, 36.42it/s]\n",
      "150it [00:04, 36.85it/s]\n"
     ]
    }
   ],
   "source": [
    "# Train Dataframe Set\n",
    "# 미사용 열s - 임대건물구분, 공급유형, 자격유형 임대보증금, 임대료\n",
    "for i, code in tqdm(enumerate(train['단지코드'].unique())):\n",
    "    temp = train[train['단지코드']==code]\n",
    "    temp.index = range(temp.shape[0]) # index 재설정\n",
    "    for col in columns:\n",
    "        new_train.loc[i, col] = temp.loc[0, col] # Fixed Data\n",
    "    \n",
    "    deposit_cost = []\n",
    "    rental_cost = []\n",
    "\n",
    "    for col in area_columns:\n",
    "        area = float(col.split('_')[-1]) # 면적의 숫자를 float형으로 저장\n",
    "        # '면적_10' 등의 열을 만들고 - 같은 전용면적들 끼리 전용면적별세대수의 합을 Value로 Cell에 입력\n",
    "        new_train.loc[i, col] = temp[temp['전용면적']==area]['전용면적별세대수'].sum()\n",
    "        \n",
    "        try:\n",
    "          deposit_cost.append(temp[temp['전용면적']==area]['임대보증금'][0])\n",
    "          rental_cost.append(temp[temp['전용면적']==area]['임대료'][0])\n",
    "        except KeyError as e:\n",
    "          continue\n",
    "    \n",
    "    new_train.loc[i, '등록차량수'] = temp.loc[0, '등록차량수']\n",
    "    # print(type(deposit_cost[0]))\n",
    "    new_train.loc[i, '임대보증금'] = int(np.mean(deposit_cost))\n",
    "    new_train.loc[i, '임대료'] = int(np.mean(rental_cost))\n",
    "\n",
    "# Test DataFrame Set\n",
    "# 미사용 열s - 임대건물구분, 공급유형, 자격유형 임대보증금, 임대료, 등록차량수\n",
    "for i, code in tqdm(enumerate(test['단지코드'].unique())):\n",
    "    temp = test[test['단지코드']==code]\n",
    "    temp.index = range(temp.shape[0])\n",
    "    for col in columns:\n",
    "        new_test.loc[i, col] = temp.loc[0, col]\n",
    "\n",
    "    deposit_cost = []\n",
    "    rental_cost = []\n",
    "    \n",
    "    for col in area_columns:\n",
    "        area = float(col.split('_')[-1])\n",
    "        new_test.loc[i, col] = temp[temp['전용면적']==area]['전용면적별세대수'].sum()\n",
    "        \n",
    "        try:\n",
    "          deposit_cost.append(temp[temp['전용면적']==area]['임대보증금'][0])\n",
    "          rental_cost.append(temp[temp['전용면적']==area]['임대료'][0])\n",
    "        except KeyError as e:\n",
    "          continue\n",
    "          \n",
    "    new_test.loc[i, '임대보증금'] = int(np.mean(deposit_cost))\n",
    "    new_test.loc[i, '임대료'] = int(np.mean(rental_cost))"
   ]
  },
  {
   "cell_type": "code",
   "execution_count": 30,
   "id": "4d6d2eaf",
   "metadata": {
    "ExecuteTime": {
     "end_time": "2021-07-29T00:36:50.449550Z",
     "start_time": "2021-07-29T00:36:50.435587Z"
    }
   },
   "outputs": [],
   "source": [
    "x_train = new_train.iloc[:, :-1]\n",
    "y_train = new_train.iloc[:,-1]\n",
    "\n",
    "x_test = new_test"
   ]
  },
  {
   "cell_type": "code",
   "execution_count": 31,
   "id": "5ec18bfe",
   "metadata": {
    "ExecuteTime": {
     "end_time": "2021-07-29T00:36:50.620604Z",
     "start_time": "2021-07-29T00:36:50.450546Z"
    }
   },
   "outputs": [
    {
     "data": {
      "text/plain": [
       "RandomForestRegressor(n_jobs=-1, random_state=42)"
      ]
     },
     "execution_count": 31,
     "metadata": {},
     "output_type": "execute_result"
    }
   ],
   "source": [
    "forest = RandomForestRegressor(n_jobs=-1, random_state=42)\n",
    "forest.fit(x_train, y_train)"
   ]
  },
  {
   "cell_type": "code",
   "execution_count": 32,
   "id": "fab087d3",
   "metadata": {
    "ExecuteTime": {
     "end_time": "2021-07-29T00:36:50.743200Z",
     "start_time": "2021-07-29T00:36:50.621602Z"
    },
    "scrolled": true
   },
   "outputs": [
    {
     "data": {
      "text/html": [
       "<div>\n",
       "<style scoped>\n",
       "    .dataframe tbody tr th:only-of-type {\n",
       "        vertical-align: middle;\n",
       "    }\n",
       "\n",
       "    .dataframe tbody tr th {\n",
       "        vertical-align: top;\n",
       "    }\n",
       "\n",
       "    .dataframe thead th {\n",
       "        text-align: right;\n",
       "    }\n",
       "</style>\n",
       "<table border=\"1\" class=\"dataframe\">\n",
       "  <thead>\n",
       "    <tr style=\"text-align: right;\">\n",
       "      <th></th>\n",
       "      <th>code</th>\n",
       "      <th>num</th>\n",
       "    </tr>\n",
       "  </thead>\n",
       "  <tbody>\n",
       "    <tr>\n",
       "      <th>0</th>\n",
       "      <td>C1072</td>\n",
       "      <td>752.76</td>\n",
       "    </tr>\n",
       "    <tr>\n",
       "      <th>1</th>\n",
       "      <td>C1128</td>\n",
       "      <td>1392.80</td>\n",
       "    </tr>\n",
       "    <tr>\n",
       "      <th>2</th>\n",
       "      <td>C1456</td>\n",
       "      <td>541.13</td>\n",
       "    </tr>\n",
       "    <tr>\n",
       "      <th>3</th>\n",
       "      <td>C1840</td>\n",
       "      <td>543.52</td>\n",
       "    </tr>\n",
       "    <tr>\n",
       "      <th>4</th>\n",
       "      <td>C1332</td>\n",
       "      <td>1278.82</td>\n",
       "    </tr>\n",
       "    <tr>\n",
       "      <th>...</th>\n",
       "      <td>...</td>\n",
       "      <td>...</td>\n",
       "    </tr>\n",
       "    <tr>\n",
       "      <th>145</th>\n",
       "      <td>C2456</td>\n",
       "      <td>255.71</td>\n",
       "    </tr>\n",
       "    <tr>\n",
       "      <th>146</th>\n",
       "      <td>C1266</td>\n",
       "      <td>481.26</td>\n",
       "    </tr>\n",
       "    <tr>\n",
       "      <th>147</th>\n",
       "      <td>C2152</td>\n",
       "      <td>48.87</td>\n",
       "    </tr>\n",
       "    <tr>\n",
       "      <th>148</th>\n",
       "      <td>C1267</td>\n",
       "      <td>429.34</td>\n",
       "    </tr>\n",
       "    <tr>\n",
       "      <th>149</th>\n",
       "      <td>C2189</td>\n",
       "      <td>265.67</td>\n",
       "    </tr>\n",
       "  </tbody>\n",
       "</table>\n",
       "<p>150 rows × 2 columns</p>\n",
       "</div>"
      ],
      "text/plain": [
       "      code      num\n",
       "0    C1072   752.76\n",
       "1    C1128  1392.80\n",
       "2    C1456   541.13\n",
       "3    C1840   543.52\n",
       "4    C1332  1278.82\n",
       "..     ...      ...\n",
       "145  C2456   255.71\n",
       "146  C1266   481.26\n",
       "147  C2152    48.87\n",
       "148  C1267   429.34\n",
       "149  C2189   265.67\n",
       "\n",
       "[150 rows x 2 columns]"
      ]
     },
     "metadata": {},
     "output_type": "display_data"
    }
   ],
   "source": [
    "pred = forest.predict(x_test)\n",
    "submission['num'] = pred\n",
    "display(submission)"
   ]
  },
  {
   "cell_type": "code",
   "execution_count": 36,
   "id": "a1f818ee",
   "metadata": {
    "ExecuteTime": {
     "end_time": "2021-07-29T00:37:46.670652Z",
     "start_time": "2021-07-29T00:37:46.652700Z"
    }
   },
   "outputs": [],
   "source": [
    "submission.to_csv('./법정주차수요.csv', index=False)"
   ]
  }
 ],
 "metadata": {
  "kernelspec": {
   "display_name": "test",
   "language": "python",
   "name": "test"
  },
  "language_info": {
   "codemirror_mode": {
    "name": "ipython",
    "version": 3
   },
   "file_extension": ".py",
   "mimetype": "text/x-python",
   "name": "python",
   "nbconvert_exporter": "python",
   "pygments_lexer": "ipython3",
   "version": "3.7.10"
  },
  "toc": {
   "base_numbering": 1,
   "nav_menu": {},
   "number_sections": true,
   "sideBar": true,
   "skip_h1_title": false,
   "title_cell": "Table of Contents",
   "title_sidebar": "Contents",
   "toc_cell": false,
   "toc_position": {},
   "toc_section_display": true,
   "toc_window_display": false
  },
  "varInspector": {
   "cols": {
    "lenName": 16,
    "lenType": 16,
    "lenVar": 40
   },
   "kernels_config": {
    "python": {
     "delete_cmd_postfix": "",
     "delete_cmd_prefix": "del ",
     "library": "var_list.py",
     "varRefreshCmd": "print(var_dic_list())"
    },
    "r": {
     "delete_cmd_postfix": ") ",
     "delete_cmd_prefix": "rm(",
     "library": "var_list.r",
     "varRefreshCmd": "cat(var_dic_list()) "
    }
   },
   "types_to_exclude": [
    "module",
    "function",
    "builtin_function_or_method",
    "instance",
    "_Feature"
   ],
   "window_display": false
  }
 },
 "nbformat": 4,
 "nbformat_minor": 5
}
