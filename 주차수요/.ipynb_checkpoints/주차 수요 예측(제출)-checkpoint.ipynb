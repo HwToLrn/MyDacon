{
 "cells": [
  {
   "cell_type": "code",
   "execution_count": 13,
   "id": "4bccbbf7",
   "metadata": {
    "ExecuteTime": {
     "end_time": "2021-07-16T10:27:03.091665Z",
     "start_time": "2021-07-16T10:27:03.067666Z"
    },
    "executionInfo": {
     "elapsed": 384,
     "status": "ok",
     "timestamp": 1626418401860,
     "user": {
      "displayName": "박재완",
      "photoUrl": "",
      "userId": "18327523315282194311"
     },
     "user_tz": -540
    },
    "id": "4bccbbf7"
   },
   "outputs": [],
   "source": [
    "%matplotlib inline"
   ]
  },
  {
   "cell_type": "code",
   "execution_count": 310,
   "id": "fde9e222",
   "metadata": {
    "ExecuteTime": {
     "end_time": "2021-07-16T10:50:46.652560Z",
     "start_time": "2021-07-16T10:50:46.644529Z"
    },
    "executionInfo": {
     "elapsed": 1506,
     "status": "ok",
     "timestamp": 1626418405988,
     "user": {
      "displayName": "박재완",
      "photoUrl": "",
      "userId": "18327523315282194311"
     },
     "user_tz": -540
    },
    "id": "fde9e222"
   },
   "outputs": [],
   "source": [
    "import pandas as pd\n",
    "import numpy as np\n",
    "from sklearn.ensemble import RandomForestRegressor\n",
    "from tqdm import tqdm\n",
    "import matplotlib.pyplot as plt\n",
    "pd.options.display.float_format = '{:.6f}'.format"
   ]
  },
  {
   "cell_type": "markdown",
   "id": "8371ff54",
   "metadata": {
    "id": "8371ff54"
   },
   "source": [
    "# 데이터 불러오기"
   ]
  },
  {
   "cell_type": "code",
   "execution_count": 15,
   "id": "8a9a38e6",
   "metadata": {
    "ExecuteTime": {
     "end_time": "2021-07-16T10:27:03.139669Z",
     "start_time": "2021-07-16T10:27:03.107667Z"
    },
    "executionInfo": {
     "elapsed": 2675,
     "status": "ok",
     "timestamp": 1626418508349,
     "user": {
      "displayName": "박재완",
      "photoUrl": "",
      "userId": "18327523315282194311"
     },
     "user_tz": -540
    },
    "id": "8a9a38e6"
   },
   "outputs": [],
   "source": [
    "train = pd.read_csv('./Dataset/train.csv')\n",
    "test = pd.read_csv('./Dataset/test.csv')\n",
    "car_2020 = pd.read_csv('./Dataset/car_2020.csv',encoding='cp949')\n",
    "submission = pd.read_csv('./Dataset/sample_submission.csv')"
   ]
  },
  {
   "cell_type": "code",
   "execution_count": 16,
   "id": "f1e37a5f",
   "metadata": {
    "ExecuteTime": {
     "end_time": "2021-07-16T10:27:03.155662Z",
     "start_time": "2021-07-16T10:27:03.139669Z"
    },
    "colab": {
     "base_uri": "https://localhost:8080/",
     "height": 304
    },
    "executionInfo": {
     "elapsed": 5,
     "status": "ok",
     "timestamp": 1626418558381,
     "user": {
      "displayName": "박재완",
      "photoUrl": "",
      "userId": "18327523315282194311"
     },
     "user_tz": -540
    },
    "id": "f1e37a5f",
    "outputId": "6264b7c4-7c8e-4ae1-8dc3-a04baa1af3e8"
   },
   "outputs": [
    {
     "data": {
      "text/plain": [
       "단지코드                              0\n",
       "총세대수                              0\n",
       "임대건물구분                            0\n",
       "지역                                0\n",
       "공급유형                              0\n",
       "전용면적                              0\n",
       "전용면적별세대수                          0\n",
       "공가수                               0\n",
       "자격유형                              2\n",
       "임대보증금                           180\n",
       "임대료                             180\n",
       "도보 10분거리 내 지하철역 수(환승노선 수 반영)     42\n",
       "도보 10분거리 내 버스정류장 수                0\n",
       "단지내주차면수                           0\n",
       "dtype: int64"
      ]
     },
     "execution_count": 16,
     "metadata": {},
     "output_type": "execute_result"
    }
   ],
   "source": [
    "test.isnull().sum()"
   ]
  },
  {
   "cell_type": "markdown",
   "id": "e86a3249",
   "metadata": {
    "id": "e86a3249"
   },
   "source": [
    "car_2020 = car_2020.drop(['시군구(1)'], axis=1)\n",
    "car_2020.columns = ['지역','월','항목','분류','자동차수']\n",
    "car_2020['월'] = pd.to_datetime(car_2020['월']).dt.month\n",
    "car_2020.head()"
   ]
  },
  {
   "cell_type": "code",
   "execution_count": 17,
   "id": "4fefe6c1",
   "metadata": {
    "ExecuteTime": {
     "end_time": "2021-07-16T10:27:03.171631Z",
     "start_time": "2021-07-16T10:27:03.155662Z"
    },
    "colab": {
     "base_uri": "https://localhost:8080/"
    },
    "executionInfo": {
     "elapsed": 389,
     "status": "ok",
     "timestamp": 1626418565007,
     "user": {
      "displayName": "박재완",
      "photoUrl": "",
      "userId": "18327523315282194311"
     },
     "user_tz": -540
    },
    "id": "4fefe6c1",
    "outputId": "068c43ca-50b8-4e1a-e11c-f9fe9a2933cd"
   },
   "outputs": [
    {
     "data": {
      "text/plain": [
       "단지코드                              0\n",
       "총세대수                              0\n",
       "임대건물구분                            0\n",
       "지역                                0\n",
       "공급유형                              0\n",
       "전용면적                              0\n",
       "전용면적별세대수                          0\n",
       "공가수                               0\n",
       "자격유형                              0\n",
       "임대보증금                           569\n",
       "임대료                             569\n",
       "도보 10분거리 내 지하철역 수(환승노선 수 반영)    211\n",
       "도보 10분거리 내 버스정류장 수                4\n",
       "단지내주차면수                           0\n",
       "등록차량수                             0\n",
       "dtype: int64"
      ]
     },
     "execution_count": 17,
     "metadata": {},
     "output_type": "execute_result"
    }
   ],
   "source": [
    "train.isnull().sum()"
   ]
  },
  {
   "cell_type": "markdown",
   "id": "ffbee22f",
   "metadata": {
    "id": "ffbee22f"
   },
   "source": [
    "# 컬렴명 바꿔주기"
   ]
  },
  {
   "cell_type": "code",
   "execution_count": 18,
   "id": "8a1e4b55",
   "metadata": {
    "ExecuteTime": {
     "end_time": "2021-07-16T10:27:03.179631Z",
     "start_time": "2021-07-16T10:27:03.171631Z"
    },
    "executionInfo": {
     "elapsed": 384,
     "status": "ok",
     "timestamp": 1626418569160,
     "user": {
      "displayName": "박재완",
      "photoUrl": "",
      "userId": "18327523315282194311"
     },
     "user_tz": -540
    },
    "id": "8a1e4b55"
   },
   "outputs": [],
   "source": [
    "train.columns = [\n",
    "    '단지코드', '총세대수', '임대건물구분', '지역', '공급유형', '전용면적', '전용면적별세대수', '공가수', '신분',\n",
    "    '임대보증금', '임대료', '지하철', '버스',\n",
    "    '단지내주차면수', '등록차량수'\n",
    "]\n"
   ]
  },
  {
   "cell_type": "markdown",
   "id": "a2ee7ec0",
   "metadata": {
    "id": "a2ee7ec0"
   },
   "source": [
    "# 지하철 Y or N로 변경"
   ]
  },
  {
   "cell_type": "code",
   "execution_count": 19,
   "id": "d4ea84cb",
   "metadata": {
    "ExecuteTime": {
     "end_time": "2021-07-16T10:27:03.195630Z",
     "start_time": "2021-07-16T10:27:03.179631Z"
    },
    "executionInfo": {
     "elapsed": 478,
     "status": "ok",
     "timestamp": 1626418571230,
     "user": {
      "displayName": "박재완",
      "photoUrl": "",
      "userId": "18327523315282194311"
     },
     "user_tz": -540
    },
    "id": "d4ea84cb"
   },
   "outputs": [],
   "source": [
    "train['지하철'] = train['지하철'].fillna(0)\n",
    "train['지하철'] = np.where(train['지하철'] == 0, 0, 1)"
   ]
  },
  {
   "cell_type": "markdown",
   "id": "13db3682",
   "metadata": {
    "id": "13db3682"
   },
   "source": [
    "# 결측치 처리"
   ]
  },
  {
   "cell_type": "code",
   "execution_count": 20,
   "id": "6c2a944b",
   "metadata": {
    "ExecuteTime": {
     "end_time": "2021-07-16T10:27:03.219632Z",
     "start_time": "2021-07-16T10:27:03.195630Z"
    },
    "executionInfo": {
     "elapsed": 398,
     "status": "ok",
     "timestamp": 1626418574070,
     "user": {
      "displayName": "박재완",
      "photoUrl": "",
      "userId": "18327523315282194311"
     },
     "user_tz": -540
    },
    "id": "6c2a944b"
   },
   "outputs": [],
   "source": [
    "train.loc[train.임대보증금=='-', '임대보증금'] = np.nan\n",
    "train.loc[train.임대료=='-', '임대료'] = np.nan\n",
    "train['임대보증금'] = train['임대보증금'].astype(float)\n",
    "train['임대료'] = train['임대료'].astype(float)\n",
    "train['임대보증금'] = train['임대보증금'].fillna(0)\n",
    "train['임대료'] = train['임대료'].fillna(0)"
   ]
  },
  {
   "cell_type": "code",
   "execution_count": 21,
   "id": "2ca7b917",
   "metadata": {
    "ExecuteTime": {
     "end_time": "2021-07-16T10:27:03.235662Z",
     "start_time": "2021-07-16T10:27:03.219632Z"
    },
    "executionInfo": {
     "elapsed": 2,
     "status": "ok",
     "timestamp": 1626418574586,
     "user": {
      "displayName": "박재완",
      "photoUrl": "",
      "userId": "18327523315282194311"
     },
     "user_tz": -540
    },
    "id": "2ca7b917"
   },
   "outputs": [],
   "source": [
    "train['버스'] = train['버스'].fillna(train['버스'].mean())"
   ]
  },
  {
   "cell_type": "code",
   "execution_count": 22,
   "id": "16c3883b",
   "metadata": {
    "ExecuteTime": {
     "end_time": "2021-07-16T10:27:03.283817Z",
     "start_time": "2021-07-16T10:27:03.235662Z"
    },
    "colab": {
     "base_uri": "https://localhost:8080/"
    },
    "executionInfo": {
     "elapsed": 2,
     "status": "ok",
     "timestamp": 1626418575081,
     "user": {
      "displayName": "박재완",
      "photoUrl": "",
      "userId": "18327523315282194311"
     },
     "user_tz": -540
    },
    "id": "16c3883b",
    "outputId": "2b56c843-4486-444f-90e1-7352f950553d"
   },
   "outputs": [
    {
     "data": {
      "text/plain": [
       "단지코드        0\n",
       "총세대수        0\n",
       "임대건물구분      0\n",
       "지역          0\n",
       "공급유형        0\n",
       "전용면적        0\n",
       "전용면적별세대수    0\n",
       "공가수         0\n",
       "신분          0\n",
       "임대보증금       0\n",
       "임대료         0\n",
       "지하철         0\n",
       "버스          0\n",
       "단지내주차면수     0\n",
       "등록차량수       0\n",
       "dtype: int64"
      ]
     },
     "execution_count": 22,
     "metadata": {},
     "output_type": "execute_result"
    }
   ],
   "source": [
    "train.isnull().sum()"
   ]
  },
  {
   "cell_type": "markdown",
   "id": "003a226b",
   "metadata": {
    "id": "003a226b"
   },
   "source": [
    "# 임대건물구분 : 아파트->상가 / 전용면적별세대수 : x->1"
   ]
  },
  {
   "cell_type": "code",
   "execution_count": 23,
   "id": "7eac904f",
   "metadata": {
    "ExecuteTime": {
     "end_time": "2021-07-16T10:27:03.299787Z",
     "start_time": "2021-07-16T10:27:03.283817Z"
    },
    "executionInfo": {
     "elapsed": 2,
     "status": "ok",
     "timestamp": 1626418577250,
     "user": {
      "displayName": "박재완",
      "photoUrl": "",
      "userId": "18327523315282194311"
     },
     "user_tz": -540
    },
    "id": "7eac904f"
   },
   "outputs": [],
   "source": [
    "idx = train[(train['임대건물구분']=='아파트') & (train['신분']=='D')]['전용면적별세대수'].index\n",
    "train.loc[idx, '전용면적별세대수'] = 1\n",
    "train.loc[idx, '임대건물구분'] = '상가'"
   ]
  },
  {
   "cell_type": "code",
   "execution_count": 24,
   "id": "7e32c993",
   "metadata": {
    "ExecuteTime": {
     "end_time": "2021-07-16T10:27:03.331662Z",
     "start_time": "2021-07-16T10:27:03.299787Z"
    },
    "colab": {
     "base_uri": "https://localhost:8080/",
     "height": 417
    },
    "executionInfo": {
     "elapsed": 5,
     "status": "ok",
     "timestamp": 1626418578241,
     "user": {
      "displayName": "박재완",
      "photoUrl": "",
      "userId": "18327523315282194311"
     },
     "user_tz": -540
    },
    "id": "7e32c993",
    "outputId": "2bf4b49c-2806-48b6-824e-45854d10e9fb"
   },
   "outputs": [
    {
     "data": {
      "text/html": [
       "<div>\n",
       "<style scoped>\n",
       "    .dataframe tbody tr th:only-of-type {\n",
       "        vertical-align: middle;\n",
       "    }\n",
       "\n",
       "    .dataframe tbody tr th {\n",
       "        vertical-align: top;\n",
       "    }\n",
       "\n",
       "    .dataframe thead th {\n",
       "        text-align: right;\n",
       "    }\n",
       "</style>\n",
       "<table border=\"1\" class=\"dataframe\">\n",
       "  <thead>\n",
       "    <tr style=\"text-align: right;\">\n",
       "      <th></th>\n",
       "      <th>단지코드</th>\n",
       "      <th>총세대수</th>\n",
       "      <th>임대건물구분</th>\n",
       "      <th>지역</th>\n",
       "      <th>공급유형</th>\n",
       "      <th>전용면적</th>\n",
       "      <th>전용면적별세대수</th>\n",
       "      <th>공가수</th>\n",
       "      <th>신분</th>\n",
       "      <th>임대보증금</th>\n",
       "      <th>임대료</th>\n",
       "      <th>지하철</th>\n",
       "      <th>버스</th>\n",
       "      <th>단지내주차면수</th>\n",
       "      <th>등록차량수</th>\n",
       "    </tr>\n",
       "  </thead>\n",
       "  <tbody>\n",
       "    <tr>\n",
       "      <th>88</th>\n",
       "      <td>C1925</td>\n",
       "      <td>601</td>\n",
       "      <td>상가</td>\n",
       "      <td>강원도</td>\n",
       "      <td>임대상가</td>\n",
       "      <td>32.100000</td>\n",
       "      <td>1</td>\n",
       "      <td>9.000000</td>\n",
       "      <td>D</td>\n",
       "      <td>0.000000</td>\n",
       "      <td>0.000000</td>\n",
       "      <td>0</td>\n",
       "      <td>4.000000</td>\n",
       "      <td>117.000000</td>\n",
       "      <td>75.000000</td>\n",
       "    </tr>\n",
       "    <tr>\n",
       "      <th>89</th>\n",
       "      <td>C1925</td>\n",
       "      <td>601</td>\n",
       "      <td>상가</td>\n",
       "      <td>강원도</td>\n",
       "      <td>임대상가</td>\n",
       "      <td>32.100000</td>\n",
       "      <td>1</td>\n",
       "      <td>9.000000</td>\n",
       "      <td>D</td>\n",
       "      <td>0.000000</td>\n",
       "      <td>0.000000</td>\n",
       "      <td>0</td>\n",
       "      <td>4.000000</td>\n",
       "      <td>117.000000</td>\n",
       "      <td>75.000000</td>\n",
       "    </tr>\n",
       "    <tr>\n",
       "      <th>90</th>\n",
       "      <td>C1925</td>\n",
       "      <td>601</td>\n",
       "      <td>상가</td>\n",
       "      <td>강원도</td>\n",
       "      <td>임대상가</td>\n",
       "      <td>32.100000</td>\n",
       "      <td>1</td>\n",
       "      <td>9.000000</td>\n",
       "      <td>D</td>\n",
       "      <td>0.000000</td>\n",
       "      <td>0.000000</td>\n",
       "      <td>0</td>\n",
       "      <td>4.000000</td>\n",
       "      <td>117.000000</td>\n",
       "      <td>75.000000</td>\n",
       "    </tr>\n",
       "    <tr>\n",
       "      <th>91</th>\n",
       "      <td>C1925</td>\n",
       "      <td>601</td>\n",
       "      <td>상가</td>\n",
       "      <td>강원도</td>\n",
       "      <td>임대상가</td>\n",
       "      <td>72.160000</td>\n",
       "      <td>1</td>\n",
       "      <td>9.000000</td>\n",
       "      <td>D</td>\n",
       "      <td>0.000000</td>\n",
       "      <td>0.000000</td>\n",
       "      <td>0</td>\n",
       "      <td>4.000000</td>\n",
       "      <td>117.000000</td>\n",
       "      <td>75.000000</td>\n",
       "    </tr>\n",
       "    <tr>\n",
       "      <th>101</th>\n",
       "      <td>C1874</td>\n",
       "      <td>619</td>\n",
       "      <td>상가</td>\n",
       "      <td>충청남도</td>\n",
       "      <td>임대상가</td>\n",
       "      <td>12.620000</td>\n",
       "      <td>1</td>\n",
       "      <td>2.000000</td>\n",
       "      <td>D</td>\n",
       "      <td>0.000000</td>\n",
       "      <td>0.000000</td>\n",
       "      <td>0</td>\n",
       "      <td>2.000000</td>\n",
       "      <td>97.000000</td>\n",
       "      <td>62.000000</td>\n",
       "    </tr>\n",
       "    <tr>\n",
       "      <th>...</th>\n",
       "      <td>...</td>\n",
       "      <td>...</td>\n",
       "      <td>...</td>\n",
       "      <td>...</td>\n",
       "      <td>...</td>\n",
       "      <td>...</td>\n",
       "      <td>...</td>\n",
       "      <td>...</td>\n",
       "      <td>...</td>\n",
       "      <td>...</td>\n",
       "      <td>...</td>\n",
       "      <td>...</td>\n",
       "      <td>...</td>\n",
       "      <td>...</td>\n",
       "      <td>...</td>\n",
       "    </tr>\n",
       "    <tr>\n",
       "      <th>2333</th>\n",
       "      <td>C1350</td>\n",
       "      <td>1401</td>\n",
       "      <td>상가</td>\n",
       "      <td>대전광역시</td>\n",
       "      <td>공공분양</td>\n",
       "      <td>74.940000</td>\n",
       "      <td>1</td>\n",
       "      <td>2.000000</td>\n",
       "      <td>D</td>\n",
       "      <td>0.000000</td>\n",
       "      <td>0.000000</td>\n",
       "      <td>0</td>\n",
       "      <td>6.000000</td>\n",
       "      <td>1636.000000</td>\n",
       "      <td>2315.000000</td>\n",
       "    </tr>\n",
       "    <tr>\n",
       "      <th>2334</th>\n",
       "      <td>C1350</td>\n",
       "      <td>1401</td>\n",
       "      <td>상가</td>\n",
       "      <td>대전광역시</td>\n",
       "      <td>공공분양</td>\n",
       "      <td>84.940000</td>\n",
       "      <td>1</td>\n",
       "      <td>2.000000</td>\n",
       "      <td>D</td>\n",
       "      <td>0.000000</td>\n",
       "      <td>0.000000</td>\n",
       "      <td>0</td>\n",
       "      <td>6.000000</td>\n",
       "      <td>1636.000000</td>\n",
       "      <td>2315.000000</td>\n",
       "    </tr>\n",
       "    <tr>\n",
       "      <th>2335</th>\n",
       "      <td>C1350</td>\n",
       "      <td>1401</td>\n",
       "      <td>상가</td>\n",
       "      <td>대전광역시</td>\n",
       "      <td>공공분양</td>\n",
       "      <td>84.940000</td>\n",
       "      <td>1</td>\n",
       "      <td>2.000000</td>\n",
       "      <td>D</td>\n",
       "      <td>0.000000</td>\n",
       "      <td>0.000000</td>\n",
       "      <td>0</td>\n",
       "      <td>6.000000</td>\n",
       "      <td>1636.000000</td>\n",
       "      <td>2315.000000</td>\n",
       "    </tr>\n",
       "    <tr>\n",
       "      <th>2336</th>\n",
       "      <td>C1350</td>\n",
       "      <td>1401</td>\n",
       "      <td>상가</td>\n",
       "      <td>대전광역시</td>\n",
       "      <td>공공분양</td>\n",
       "      <td>84.960000</td>\n",
       "      <td>1</td>\n",
       "      <td>2.000000</td>\n",
       "      <td>D</td>\n",
       "      <td>0.000000</td>\n",
       "      <td>0.000000</td>\n",
       "      <td>0</td>\n",
       "      <td>6.000000</td>\n",
       "      <td>1636.000000</td>\n",
       "      <td>2315.000000</td>\n",
       "    </tr>\n",
       "    <tr>\n",
       "      <th>2337</th>\n",
       "      <td>C1350</td>\n",
       "      <td>1401</td>\n",
       "      <td>상가</td>\n",
       "      <td>대전광역시</td>\n",
       "      <td>공공분양</td>\n",
       "      <td>84.970000</td>\n",
       "      <td>1</td>\n",
       "      <td>2.000000</td>\n",
       "      <td>D</td>\n",
       "      <td>0.000000</td>\n",
       "      <td>0.000000</td>\n",
       "      <td>0</td>\n",
       "      <td>6.000000</td>\n",
       "      <td>1636.000000</td>\n",
       "      <td>2315.000000</td>\n",
       "    </tr>\n",
       "  </tbody>\n",
       "</table>\n",
       "<p>569 rows × 15 columns</p>\n",
       "</div>"
      ],
      "text/plain": [
       "       단지코드  총세대수 임대건물구분     지역  공급유형      전용면적  전용면적별세대수      공가수 신분  \\\n",
       "88    C1925   601     상가    강원도  임대상가 32.100000         1 9.000000  D   \n",
       "89    C1925   601     상가    강원도  임대상가 32.100000         1 9.000000  D   \n",
       "90    C1925   601     상가    강원도  임대상가 32.100000         1 9.000000  D   \n",
       "91    C1925   601     상가    강원도  임대상가 72.160000         1 9.000000  D   \n",
       "101   C1874   619     상가   충청남도  임대상가 12.620000         1 2.000000  D   \n",
       "...     ...   ...    ...    ...   ...       ...       ...      ... ..   \n",
       "2333  C1350  1401     상가  대전광역시  공공분양 74.940000         1 2.000000  D   \n",
       "2334  C1350  1401     상가  대전광역시  공공분양 84.940000         1 2.000000  D   \n",
       "2335  C1350  1401     상가  대전광역시  공공분양 84.940000         1 2.000000  D   \n",
       "2336  C1350  1401     상가  대전광역시  공공분양 84.960000         1 2.000000  D   \n",
       "2337  C1350  1401     상가  대전광역시  공공분양 84.970000         1 2.000000  D   \n",
       "\n",
       "        임대보증금      임대료  지하철       버스     단지내주차면수       등록차량수  \n",
       "88   0.000000 0.000000    0 4.000000  117.000000   75.000000  \n",
       "89   0.000000 0.000000    0 4.000000  117.000000   75.000000  \n",
       "90   0.000000 0.000000    0 4.000000  117.000000   75.000000  \n",
       "91   0.000000 0.000000    0 4.000000  117.000000   75.000000  \n",
       "101  0.000000 0.000000    0 2.000000   97.000000   62.000000  \n",
       "...       ...      ...  ...      ...         ...         ...  \n",
       "2333 0.000000 0.000000    0 6.000000 1636.000000 2315.000000  \n",
       "2334 0.000000 0.000000    0 6.000000 1636.000000 2315.000000  \n",
       "2335 0.000000 0.000000    0 6.000000 1636.000000 2315.000000  \n",
       "2336 0.000000 0.000000    0 6.000000 1636.000000 2315.000000  \n",
       "2337 0.000000 0.000000    0 6.000000 1636.000000 2315.000000  \n",
       "\n",
       "[569 rows x 15 columns]"
      ]
     },
     "execution_count": 24,
     "metadata": {},
     "output_type": "execute_result"
    }
   ],
   "source": [
    "train[(train['임대건물구분']=='상가') & (train['신분']=='D')]"
   ]
  },
  {
   "cell_type": "code",
   "execution_count": 25,
   "id": "6802e035",
   "metadata": {
    "ExecuteTime": {
     "end_time": "2021-07-16T10:27:03.347665Z",
     "start_time": "2021-07-16T10:27:03.331662Z"
    },
    "executionInfo": {
     "elapsed": 2,
     "status": "ok",
     "timestamp": 1626418579510,
     "user": {
      "displayName": "박재완",
      "photoUrl": "",
      "userId": "18327523315282194311"
     },
     "user_tz": -540
    },
    "id": "6802e035"
   },
   "outputs": [],
   "source": [
    "# 원핫 인코딩\n",
    "#train = pd.get_dummies(data = train, columns = ['지하철'])"
   ]
  },
  {
   "cell_type": "markdown",
   "id": "39d4618c",
   "metadata": {
    "id": "39d4618c"
   },
   "source": [
    "# 지역명 숫자로 매핑"
   ]
  },
  {
   "cell_type": "code",
   "execution_count": 26,
   "id": "8cbf446a",
   "metadata": {
    "ExecuteTime": {
     "end_time": "2021-07-16T10:27:03.363662Z",
     "start_time": "2021-07-16T10:27:03.347665Z"
    },
    "executionInfo": {
     "elapsed": 2,
     "status": "ok",
     "timestamp": 1626418581357,
     "user": {
      "displayName": "박재완",
      "photoUrl": "",
      "userId": "18327523315282194311"
     },
     "user_tz": -540
    },
    "id": "8cbf446a"
   },
   "outputs": [],
   "source": [
    "local_map = {}\n",
    "for i, loc in enumerate(train['지역'].unique()):\n",
    "    local_map[loc] = i\n",
    "    \n",
    "train['지역'] = train['지역'].map(local_map)"
   ]
  },
  {
   "cell_type": "markdown",
   "id": "837efa3b",
   "metadata": {
    "id": "837efa3b"
   },
   "source": [
    "# 전용면적을 5의 배수로 변경"
   ]
  },
  {
   "cell_type": "code",
   "execution_count": 27,
   "id": "fd726145",
   "metadata": {
    "ExecuteTime": {
     "end_time": "2021-07-16T10:27:03.378765Z",
     "start_time": "2021-07-16T10:27:03.363662Z"
    },
    "executionInfo": {
     "elapsed": 508,
     "status": "ok",
     "timestamp": 1626418583646,
     "user": {
      "displayName": "박재완",
      "photoUrl": "",
      "userId": "18327523315282194311"
     },
     "user_tz": -540
    },
    "id": "fd726145"
   },
   "outputs": [],
   "source": [
    "train['전용면적'] = train['전용면적']//5*5"
   ]
  },
  {
   "cell_type": "markdown",
   "id": "e640c287",
   "metadata": {
    "id": "e640c287"
   },
   "source": [
    "# 전용면적 상/하한 적용"
   ]
  },
  {
   "cell_type": "code",
   "execution_count": 28,
   "id": "d4067e14",
   "metadata": {
    "ExecuteTime": {
     "end_time": "2021-07-16T10:27:03.395281Z",
     "start_time": "2021-07-16T10:27:03.378765Z"
    },
    "executionInfo": {
     "elapsed": 1,
     "status": "ok",
     "timestamp": 1626418585010,
     "user": {
      "displayName": "박재완",
      "photoUrl": "",
      "userId": "18327523315282194311"
     },
     "user_tz": -540
    },
    "id": "d4067e14"
   },
   "outputs": [],
   "source": [
    "idx = train[train['전용면적']>100].index\n",
    "train.loc[idx, '전용면적'] = 100\n",
    "\n",
    "idx = train[train['전용면적']<15].index\n",
    "train.loc[idx, '전용면적'] = 15"
   ]
  },
  {
   "cell_type": "code",
   "execution_count": 57,
   "id": "9a091d49",
   "metadata": {
    "ExecuteTime": {
     "end_time": "2021-07-16T10:30:25.412738Z",
     "start_time": "2021-07-16T10:30:25.404958Z"
    }
   },
   "outputs": [
    {
     "data": {
      "text/plain": [
       "(7.850882664809852, 3.258096538021482)"
      ]
     },
     "execution_count": 57,
     "metadata": {},
     "output_type": "execute_result"
    }
   ],
   "source": [
    "train['총세대수'].max(), train['총세대수'].min()"
   ]
  },
  {
   "cell_type": "code",
   "execution_count": 56,
   "id": "828ca9fe",
   "metadata": {
    "ExecuteTime": {
     "end_time": "2021-07-16T10:30:23.709333Z",
     "start_time": "2021-07-16T10:30:23.701302Z"
    }
   },
   "outputs": [],
   "source": [
    "train['총세대수'] = np.log(train['총세대수'])"
   ]
  },
  {
   "cell_type": "markdown",
   "id": "300cd409",
   "metadata": {
    "id": "300cd409"
   },
   "source": [
    "# test 불러오기"
   ]
  },
  {
   "cell_type": "code",
   "execution_count": 30,
   "id": "405d1fd7",
   "metadata": {
    "ExecuteTime": {
     "end_time": "2021-07-16T10:27:03.427939Z",
     "start_time": "2021-07-16T10:27:03.411933Z"
    },
    "executionInfo": {
     "elapsed": 424,
     "status": "ok",
     "timestamp": 1626418587986,
     "user": {
      "displayName": "박재완",
      "photoUrl": "",
      "userId": "18327523315282194311"
     },
     "user_tz": -540
    },
    "id": "405d1fd7"
   },
   "outputs": [],
   "source": [
    "test.columns = [\n",
    "    '단지코드', '총세대수', '임대건물구분', '지역', '공급유형', '전용면적', '전용면적별세대수', '공가수', '신분',\n",
    "    '임대보증금', '임대료', '지하철', '버스',\n",
    "    '단지내주차면수'\n",
    "]"
   ]
  },
  {
   "cell_type": "code",
   "execution_count": 31,
   "id": "c6d9caa1",
   "metadata": {
    "ExecuteTime": {
     "end_time": "2021-07-16T10:27:03.443934Z",
     "start_time": "2021-07-16T10:27:03.427939Z"
    },
    "colab": {
     "base_uri": "https://localhost:8080/"
    },
    "executionInfo": {
     "elapsed": 680,
     "status": "ok",
     "timestamp": 1626418589176,
     "user": {
      "displayName": "박재완",
      "photoUrl": "",
      "userId": "18327523315282194311"
     },
     "user_tz": -540
    },
    "id": "c6d9caa1",
    "outputId": "91fabb53-c473-4ee3-cbbe-1afb6fd9dbef"
   },
   "outputs": [
    {
     "data": {
      "text/plain": [
       "단지코드          0\n",
       "총세대수          0\n",
       "임대건물구분        0\n",
       "지역            0\n",
       "공급유형          0\n",
       "전용면적          0\n",
       "전용면적별세대수      0\n",
       "공가수           0\n",
       "신분            2\n",
       "임대보증금       180\n",
       "임대료         180\n",
       "지하철          42\n",
       "버스            0\n",
       "단지내주차면수       0\n",
       "dtype: int64"
      ]
     },
     "execution_count": 31,
     "metadata": {},
     "output_type": "execute_result"
    }
   ],
   "source": [
    "test.isnull().sum()"
   ]
  },
  {
   "cell_type": "code",
   "execution_count": 32,
   "id": "3e5a344d",
   "metadata": {
    "ExecuteTime": {
     "end_time": "2021-07-16T10:27:03.460173Z",
     "start_time": "2021-07-16T10:27:03.443934Z"
    },
    "executionInfo": {
     "elapsed": 394,
     "status": "ok",
     "timestamp": 1626419593919,
     "user": {
      "displayName": "박재완",
      "photoUrl": "",
      "userId": "18327523315282194311"
     },
     "user_tz": -540
    },
    "id": "3e5a344d"
   },
   "outputs": [],
   "source": [
    "test.loc[test.임대보증금=='-', '임대보증금'] = np.nan\n",
    "test.loc[test.임대료=='-', '임대료'] = np.nan\n",
    "test['임대보증금'] = test['임대보증금'].fillna(0)\n",
    "test['임대료'] = test['임대료'].fillna(0)\n",
    "test['임대보증금'] = test['임대보증금'].astype(float)\n",
    "test['임대료'] = test['임대료'].astype(float)"
   ]
  },
  {
   "cell_type": "code",
   "execution_count": 33,
   "id": "8f296691",
   "metadata": {
    "ExecuteTime": {
     "end_time": "2021-07-16T10:27:03.475933Z",
     "start_time": "2021-07-16T10:27:03.460173Z"
    },
    "executionInfo": {
     "elapsed": 3,
     "status": "ok",
     "timestamp": 1626419594311,
     "user": {
      "displayName": "박재완",
      "photoUrl": "",
      "userId": "18327523315282194311"
     },
     "user_tz": -540
    },
    "id": "8f296691"
   },
   "outputs": [],
   "source": [
    "test['지하철'] = test['지하철'].fillna(0)\n",
    "test['지하철'] = np.where(test['지하철'] == 0, 0, 1)"
   ]
  },
  {
   "cell_type": "code",
   "execution_count": 34,
   "id": "ce2ae6a1",
   "metadata": {
    "ExecuteTime": {
     "end_time": "2021-07-16T10:27:03.492136Z",
     "start_time": "2021-07-16T10:27:03.475933Z"
    },
    "executionInfo": {
     "elapsed": 504,
     "status": "ok",
     "timestamp": 1626419595304,
     "user": {
      "displayName": "박재완",
      "photoUrl": "",
      "userId": "18327523315282194311"
     },
     "user_tz": -540
    },
    "id": "ce2ae6a1"
   },
   "outputs": [],
   "source": [
    "test.loc[test.단지코드.isin(['C2411']) & test.신분.isnull(), '신분'] = 'A'\n",
    "test.loc[test.단지코드.isin(['C2253']) & test.신분.isnull(), '신분'] = 'C'"
   ]
  },
  {
   "cell_type": "code",
   "execution_count": 35,
   "id": "270b6f5f",
   "metadata": {
    "ExecuteTime": {
     "end_time": "2021-07-16T10:27:03.507933Z",
     "start_time": "2021-07-16T10:27:03.492136Z"
    },
    "executionInfo": {
     "elapsed": 2,
     "status": "ok",
     "timestamp": 1626419595305,
     "user": {
      "displayName": "박재완",
      "photoUrl": "",
      "userId": "18327523315282194311"
     },
     "user_tz": -540
    },
    "id": "270b6f5f"
   },
   "outputs": [],
   "source": [
    "local_map = {}\n",
    "for i, loc in enumerate(test['지역'].unique()):\n",
    "    local_map[loc] = i\n",
    "    \n",
    "test['지역'] = test['지역'].map(local_map)"
   ]
  },
  {
   "cell_type": "code",
   "execution_count": 36,
   "id": "kpmRHrwKKLUU",
   "metadata": {
    "ExecuteTime": {
     "end_time": "2021-07-16T10:27:03.523934Z",
     "start_time": "2021-07-16T10:27:03.507933Z"
    },
    "executionInfo": {
     "elapsed": 2,
     "status": "ok",
     "timestamp": 1626419595695,
     "user": {
      "displayName": "박재완",
      "photoUrl": "",
      "userId": "18327523315282194311"
     },
     "user_tz": -540
    },
    "id": "kpmRHrwKKLUU"
   },
   "outputs": [],
   "source": [
    "test['전용면적'] = test['전용면적']//5*5\n",
    "\n",
    "idx = test[test['전용면적']>100].index\n",
    "test.loc[idx, '전용면적'] = 100\n",
    "\n",
    "idx = test[test['전용면적']<15].index\n",
    "test.loc[idx, '전용면적'] = 15"
   ]
  },
  {
   "cell_type": "code",
   "execution_count": 37,
   "id": "a2023acd",
   "metadata": {
    "ExecuteTime": {
     "end_time": "2021-07-16T10:27:03.539934Z",
     "start_time": "2021-07-16T10:27:03.523934Z"
    },
    "colab": {
     "base_uri": "https://localhost:8080/"
    },
    "executionInfo": {
     "elapsed": 389,
     "status": "ok",
     "timestamp": 1626419600717,
     "user": {
      "displayName": "박재완",
      "photoUrl": "",
      "userId": "18327523315282194311"
     },
     "user_tz": -540
    },
    "id": "a2023acd",
    "outputId": "616e43e9-57e1-4b1e-d929-f214b8ad0dbe"
   },
   "outputs": [
    {
     "data": {
      "text/plain": [
       "단지코드        0\n",
       "총세대수        0\n",
       "임대건물구분      0\n",
       "지역          0\n",
       "공급유형        0\n",
       "전용면적        0\n",
       "전용면적별세대수    0\n",
       "공가수         0\n",
       "신분          0\n",
       "임대보증금       0\n",
       "임대료         0\n",
       "지하철         0\n",
       "버스          0\n",
       "단지내주차면수     0\n",
       "dtype: int64"
      ]
     },
     "execution_count": 37,
     "metadata": {},
     "output_type": "execute_result"
    }
   ],
   "source": [
    "test.isnull().sum()"
   ]
  },
  {
   "cell_type": "code",
   "execution_count": 38,
   "id": "d7d3c8db",
   "metadata": {
    "ExecuteTime": {
     "end_time": "2021-07-16T10:27:03.555934Z",
     "start_time": "2021-07-16T10:27:03.539934Z"
    },
    "executionInfo": {
     "elapsed": 412,
     "status": "ok",
     "timestamp": 1626419604376,
     "user": {
      "displayName": "박재완",
      "photoUrl": "",
      "userId": "18327523315282194311"
     },
     "user_tz": -540
    },
    "id": "d7d3c8db"
   },
   "outputs": [],
   "source": [
    "columns = ['총세대수', '지역', '전용면적별세대수', '공가수', '지하철', '버스', '단지내주차면수']\n",
    "target = '등록차량수'\n",
    "area_columns = []\n",
    "for area in train['전용면적'].unique():\n",
    "    area_columns.append(f'면적_{area}')"
   ]
  },
  {
   "cell_type": "code",
   "execution_count": 39,
   "id": "1d6a9bbf",
   "metadata": {
    "ExecuteTime": {
     "end_time": "2021-07-16T10:27:03.571933Z",
     "start_time": "2021-07-16T10:27:03.555934Z"
    },
    "executionInfo": {
     "elapsed": 2,
     "status": "ok",
     "timestamp": 1626419604793,
     "user": {
      "displayName": "박재완",
      "photoUrl": "",
      "userId": "18327523315282194311"
     },
     "user_tz": -540
    },
    "id": "1d6a9bbf"
   },
   "outputs": [],
   "source": [
    "new_train = pd.DataFrame()\n",
    "new_test = pd.DataFrame()"
   ]
  },
  {
   "cell_type": "code",
   "execution_count": 40,
   "id": "EM7sVhheGyXJ",
   "metadata": {
    "ExecuteTime": {
     "end_time": "2021-07-16T10:27:03.587901Z",
     "start_time": "2021-07-16T10:27:03.571933Z"
    },
    "executionInfo": {
     "elapsed": 2,
     "status": "ok",
     "timestamp": 1626419605311,
     "user": {
      "displayName": "박재완",
      "photoUrl": "",
      "userId": "18327523315282194311"
     },
     "user_tz": -540
    },
    "id": "EM7sVhheGyXJ"
   },
   "outputs": [],
   "source": [
    "new_train['임대보증금'] = 0\n",
    "new_train['임대료'] = 0\n",
    "new_test['임대보증금'] = 0\n",
    "new_test['임대료'] = 0"
   ]
  },
  {
   "cell_type": "markdown",
   "id": "t_MyqJ24G5dp",
   "metadata": {
    "id": "t_MyqJ24G5dp"
   },
   "source": [
    "## 수정한 코드"
   ]
  },
  {
   "cell_type": "code",
   "execution_count": 41,
   "id": "FwCH0aL1G74e",
   "metadata": {
    "ExecuteTime": {
     "end_time": "2021-07-16T10:27:13.323511Z",
     "start_time": "2021-07-16T10:27:03.587901Z"
    },
    "colab": {
     "base_uri": "https://localhost:8080/"
    },
    "executionInfo": {
     "elapsed": 17110,
     "status": "ok",
     "timestamp": 1626419631425,
     "user": {
      "displayName": "박재완",
      "photoUrl": "",
      "userId": "18327523315282194311"
     },
     "user_tz": -540
    },
    "id": "FwCH0aL1G74e",
    "outputId": "e63df926-4ebe-4fb3-91bf-9715cff73de7"
   },
   "outputs": [
    {
     "name": "stderr",
     "output_type": "stream",
     "text": [
      "423it [00:07, 58.88it/s]\n",
      "150it [00:02, 59.34it/s]\n"
     ]
    }
   ],
   "source": [
    "# Train Dataframe Set\n",
    "# 미사용 열s - 임대건물구분, 공급유형, 자격유형 임대보증금, 임대료\n",
    "for i, code in tqdm(enumerate(train['단지코드'].unique())):\n",
    "    temp = train[train['단지코드']==code]\n",
    "    temp.index = range(temp.shape[0]) # index 재설정\n",
    "    for col in columns:\n",
    "        new_train.loc[i, col] = temp.loc[0, col] # Fixed Data\n",
    "    \n",
    "    deposit_cost = []\n",
    "    rental_cost = []\n",
    "\n",
    "    for col in area_columns:\n",
    "        area = float(col.split('_')[-1]) # 면적의 숫자를 float형으로 저장\n",
    "        # '면적_10' 등의 열을 만들고 - 같은 전용면적들 끼리 전용면적별세대수의 합을 Value로 Cell에 입력\n",
    "        new_train.loc[i, col] = temp[temp['전용면적']==area]['전용면적별세대수'].sum()\n",
    "        \n",
    "        try:\n",
    "          deposit_cost.append(temp[temp['전용면적']==area]['임대보증금'][0])\n",
    "          rental_cost.append(temp[temp['전용면적']==area]['임대료'][0])\n",
    "        except KeyError as e:\n",
    "          continue\n",
    "    \n",
    "    new_train.loc[i, '등록차량수'] = temp.loc[0, '등록차량수']\n",
    "    # print(type(deposit_cost[0]))\n",
    "    new_train.loc[i, '임대보증금'] = int(np.mean(deposit_cost))\n",
    "    new_train.loc[i, '임대료'] = int(np.mean(rental_cost))\n",
    "\n",
    "# Test DataFrame Set\n",
    "# 미사용 열s - 임대건물구분, 공급유형, 자격유형 임대보증금, 임대료, 등록차량수\n",
    "for i, code in tqdm(enumerate(test['단지코드'].unique())):\n",
    "    temp = test[test['단지코드']==code]\n",
    "    temp.index = range(temp.shape[0])\n",
    "    for col in columns:\n",
    "        new_test.loc[i, col] = temp.loc[0, col]\n",
    "\n",
    "    deposit_cost = []\n",
    "    rental_cost = []\n",
    "    \n",
    "    for col in area_columns:\n",
    "        area = float(col.split('_')[-1])\n",
    "        new_test.loc[i, col] = temp[temp['전용면적']==area]['전용면적별세대수'].sum()\n",
    "        \n",
    "        try:\n",
    "          deposit_cost.append(temp[temp['전용면적']==area]['임대보증금'][0])\n",
    "          rental_cost.append(temp[temp['전용면적']==area]['임대료'][0])\n",
    "        except KeyError as e:\n",
    "          continue\n",
    "          \n",
    "    new_test.loc[i, '임대보증금'] = int(np.mean(deposit_cost))\n",
    "    new_test.loc[i, '임대료'] = int(np.mean(rental_cost))"
   ]
  },
  {
   "cell_type": "code",
   "execution_count": 42,
   "id": "iFbUQZ0lKkaE",
   "metadata": {
    "ExecuteTime": {
     "end_time": "2021-07-16T10:27:13.355511Z",
     "start_time": "2021-07-16T10:27:13.323511Z"
    },
    "colab": {
     "base_uri": "https://localhost:8080/",
     "height": 394
    },
    "executionInfo": {
     "elapsed": 481,
     "status": "ok",
     "timestamp": 1626419655580,
     "user": {
      "displayName": "박재완",
      "photoUrl": "",
      "userId": "18327523315282194311"
     },
     "user_tz": -540
    },
    "id": "iFbUQZ0lKkaE",
    "outputId": "0fd54612-0a4b-41e4-d5c2-414f3f6f9a4e",
    "scrolled": true
   },
   "outputs": [
    {
     "data": {
      "text/html": [
       "<div>\n",
       "<style scoped>\n",
       "    .dataframe tbody tr th:only-of-type {\n",
       "        vertical-align: middle;\n",
       "    }\n",
       "\n",
       "    .dataframe tbody tr th {\n",
       "        vertical-align: top;\n",
       "    }\n",
       "\n",
       "    .dataframe thead th {\n",
       "        text-align: right;\n",
       "    }\n",
       "</style>\n",
       "<table border=\"1\" class=\"dataframe\">\n",
       "  <thead>\n",
       "    <tr style=\"text-align: right;\">\n",
       "      <th></th>\n",
       "      <th>임대보증금</th>\n",
       "      <th>임대료</th>\n",
       "      <th>총세대수</th>\n",
       "      <th>지역</th>\n",
       "      <th>전용면적별세대수</th>\n",
       "      <th>공가수</th>\n",
       "      <th>지하철</th>\n",
       "      <th>버스</th>\n",
       "      <th>단지내주차면수</th>\n",
       "      <th>면적_35.0</th>\n",
       "      <th>...</th>\n",
       "      <th>면적_40.0</th>\n",
       "      <th>면적_25.0</th>\n",
       "      <th>면적_70.0</th>\n",
       "      <th>면적_15.0</th>\n",
       "      <th>면적_20.0</th>\n",
       "      <th>면적_100.0</th>\n",
       "      <th>면적_60.0</th>\n",
       "      <th>면적_75.0</th>\n",
       "      <th>면적_80.0</th>\n",
       "      <th>면적_65.0</th>\n",
       "    </tr>\n",
       "  </thead>\n",
       "  <tbody>\n",
       "    <tr>\n",
       "      <th>128</th>\n",
       "      <td>4831000.000000</td>\n",
       "      <td>86350.000000</td>\n",
       "      <td>150.000000</td>\n",
       "      <td>12.000000</td>\n",
       "      <td>44.000000</td>\n",
       "      <td>1.000000</td>\n",
       "      <td>0.000000</td>\n",
       "      <td>3.000000</td>\n",
       "      <td>107.000000</td>\n",
       "      <td>0.000000</td>\n",
       "      <td>...</td>\n",
       "      <td>0.000000</td>\n",
       "      <td>48.000000</td>\n",
       "      <td>0.000000</td>\n",
       "      <td>0.000000</td>\n",
       "      <td>30.000000</td>\n",
       "      <td>0.000000</td>\n",
       "      <td>0.000000</td>\n",
       "      <td>0.000000</td>\n",
       "      <td>0.000000</td>\n",
       "      <td>0.000000</td>\n",
       "    </tr>\n",
       "    <tr>\n",
       "      <th>98</th>\n",
       "      <td>28723000.000000</td>\n",
       "      <td>160740.000000</td>\n",
       "      <td>964.000000</td>\n",
       "      <td>1.000000</td>\n",
       "      <td>168.000000</td>\n",
       "      <td>31.000000</td>\n",
       "      <td>0.000000</td>\n",
       "      <td>4.000000</td>\n",
       "      <td>818.000000</td>\n",
       "      <td>0.000000</td>\n",
       "      <td>...</td>\n",
       "      <td>0.000000</td>\n",
       "      <td>0.000000</td>\n",
       "      <td>0.000000</td>\n",
       "      <td>0.000000</td>\n",
       "      <td>0.000000</td>\n",
       "      <td>0.000000</td>\n",
       "      <td>0.000000</td>\n",
       "      <td>0.000000</td>\n",
       "      <td>0.000000</td>\n",
       "      <td>0.000000</td>\n",
       "    </tr>\n",
       "    <tr>\n",
       "      <th>111</th>\n",
       "      <td>66000000.000000</td>\n",
       "      <td>550000.000000</td>\n",
       "      <td>765.000000</td>\n",
       "      <td>0.000000</td>\n",
       "      <td>25.000000</td>\n",
       "      <td>25.000000</td>\n",
       "      <td>0.000000</td>\n",
       "      <td>19.000000</td>\n",
       "      <td>910.000000</td>\n",
       "      <td>0.000000</td>\n",
       "      <td>...</td>\n",
       "      <td>0.000000</td>\n",
       "      <td>0.000000</td>\n",
       "      <td>175.000000</td>\n",
       "      <td>0.000000</td>\n",
       "      <td>0.000000</td>\n",
       "      <td>0.000000</td>\n",
       "      <td>0.000000</td>\n",
       "      <td>0.000000</td>\n",
       "      <td>590.000000</td>\n",
       "      <td>0.000000</td>\n",
       "    </tr>\n",
       "    <tr>\n",
       "      <th>124</th>\n",
       "      <td>7800000.000000</td>\n",
       "      <td>131000.000000</td>\n",
       "      <td>1054.000000</td>\n",
       "      <td>7.000000</td>\n",
       "      <td>344.000000</td>\n",
       "      <td>6.000000</td>\n",
       "      <td>0.000000</td>\n",
       "      <td>3.000000</td>\n",
       "      <td>824.000000</td>\n",
       "      <td>370.000000</td>\n",
       "      <td>...</td>\n",
       "      <td>0.000000</td>\n",
       "      <td>344.000000</td>\n",
       "      <td>0.000000</td>\n",
       "      <td>0.000000</td>\n",
       "      <td>264.000000</td>\n",
       "      <td>0.000000</td>\n",
       "      <td>0.000000</td>\n",
       "      <td>0.000000</td>\n",
       "      <td>0.000000</td>\n",
       "      <td>0.000000</td>\n",
       "    </tr>\n",
       "    <tr>\n",
       "      <th>3</th>\n",
       "      <td>14418000.000000</td>\n",
       "      <td>108130.000000</td>\n",
       "      <td>593.000000</td>\n",
       "      <td>2.000000</td>\n",
       "      <td>253.000000</td>\n",
       "      <td>7.000000</td>\n",
       "      <td>0.000000</td>\n",
       "      <td>3.000000</td>\n",
       "      <td>543.000000</td>\n",
       "      <td>335.000000</td>\n",
       "      <td>...</td>\n",
       "      <td>0.000000</td>\n",
       "      <td>0.000000</td>\n",
       "      <td>0.000000</td>\n",
       "      <td>0.000000</td>\n",
       "      <td>0.000000</td>\n",
       "      <td>0.000000</td>\n",
       "      <td>0.000000</td>\n",
       "      <td>0.000000</td>\n",
       "      <td>0.000000</td>\n",
       "      <td>0.000000</td>\n",
       "    </tr>\n",
       "    <tr>\n",
       "      <th>112</th>\n",
       "      <td>11401000.000000</td>\n",
       "      <td>172590.000000</td>\n",
       "      <td>1124.000000</td>\n",
       "      <td>3.000000</td>\n",
       "      <td>64.000000</td>\n",
       "      <td>3.000000</td>\n",
       "      <td>0.000000</td>\n",
       "      <td>2.000000</td>\n",
       "      <td>980.000000</td>\n",
       "      <td>372.000000</td>\n",
       "      <td>...</td>\n",
       "      <td>0.000000</td>\n",
       "      <td>189.000000</td>\n",
       "      <td>0.000000</td>\n",
       "      <td>0.000000</td>\n",
       "      <td>0.000000</td>\n",
       "      <td>0.000000</td>\n",
       "      <td>0.000000</td>\n",
       "      <td>0.000000</td>\n",
       "      <td>0.000000</td>\n",
       "      <td>0.000000</td>\n",
       "    </tr>\n",
       "    <tr>\n",
       "      <th>100</th>\n",
       "      <td>27597000.000000</td>\n",
       "      <td>315070.000000</td>\n",
       "      <td>826.000000</td>\n",
       "      <td>3.000000</td>\n",
       "      <td>658.000000</td>\n",
       "      <td>26.000000</td>\n",
       "      <td>0.000000</td>\n",
       "      <td>4.000000</td>\n",
       "      <td>746.000000</td>\n",
       "      <td>0.000000</td>\n",
       "      <td>...</td>\n",
       "      <td>0.000000</td>\n",
       "      <td>0.000000</td>\n",
       "      <td>0.000000</td>\n",
       "      <td>0.000000</td>\n",
       "      <td>0.000000</td>\n",
       "      <td>0.000000</td>\n",
       "      <td>0.000000</td>\n",
       "      <td>0.000000</td>\n",
       "      <td>0.000000</td>\n",
       "      <td>0.000000</td>\n",
       "    </tr>\n",
       "    <tr>\n",
       "      <th>16</th>\n",
       "      <td>13007000.000000</td>\n",
       "      <td>91660.000000</td>\n",
       "      <td>602.000000</td>\n",
       "      <td>6.000000</td>\n",
       "      <td>294.000000</td>\n",
       "      <td>0.000000</td>\n",
       "      <td>0.000000</td>\n",
       "      <td>10.000000</td>\n",
       "      <td>491.000000</td>\n",
       "      <td>294.000000</td>\n",
       "      <td>...</td>\n",
       "      <td>0.000000</td>\n",
       "      <td>0.000000</td>\n",
       "      <td>0.000000</td>\n",
       "      <td>0.000000</td>\n",
       "      <td>0.000000</td>\n",
       "      <td>0.000000</td>\n",
       "      <td>0.000000</td>\n",
       "      <td>0.000000</td>\n",
       "      <td>0.000000</td>\n",
       "      <td>0.000000</td>\n",
       "    </tr>\n",
       "    <tr>\n",
       "      <th>52</th>\n",
       "      <td>15111000.000000</td>\n",
       "      <td>126340.000000</td>\n",
       "      <td>1138.000000</td>\n",
       "      <td>0.000000</td>\n",
       "      <td>133.000000</td>\n",
       "      <td>25.000000</td>\n",
       "      <td>0.000000</td>\n",
       "      <td>5.000000</td>\n",
       "      <td>1141.000000</td>\n",
       "      <td>133.000000</td>\n",
       "      <td>...</td>\n",
       "      <td>0.000000</td>\n",
       "      <td>0.000000</td>\n",
       "      <td>0.000000</td>\n",
       "      <td>0.000000</td>\n",
       "      <td>0.000000</td>\n",
       "      <td>0.000000</td>\n",
       "      <td>0.000000</td>\n",
       "      <td>0.000000</td>\n",
       "      <td>0.000000</td>\n",
       "      <td>0.000000</td>\n",
       "    </tr>\n",
       "    <tr>\n",
       "      <th>51</th>\n",
       "      <td>8670000.000000</td>\n",
       "      <td>102710.000000</td>\n",
       "      <td>349.000000</td>\n",
       "      <td>2.000000</td>\n",
       "      <td>53.000000</td>\n",
       "      <td>5.000000</td>\n",
       "      <td>0.000000</td>\n",
       "      <td>2.000000</td>\n",
       "      <td>270.000000</td>\n",
       "      <td>111.000000</td>\n",
       "      <td>...</td>\n",
       "      <td>0.000000</td>\n",
       "      <td>94.000000</td>\n",
       "      <td>0.000000</td>\n",
       "      <td>0.000000</td>\n",
       "      <td>0.000000</td>\n",
       "      <td>0.000000</td>\n",
       "      <td>0.000000</td>\n",
       "      <td>0.000000</td>\n",
       "      <td>0.000000</td>\n",
       "      <td>0.000000</td>\n",
       "    </tr>\n",
       "  </tbody>\n",
       "</table>\n",
       "<p>10 rows × 24 columns</p>\n",
       "</div>"
      ],
      "text/plain": [
       "              임대보증금           임대료        총세대수        지역   전용면적별세대수       공가수  \\\n",
       "128  4831000.000000  86350.000000  150.000000 12.000000  44.000000  1.000000   \n",
       "98  28723000.000000 160740.000000  964.000000  1.000000 168.000000 31.000000   \n",
       "111 66000000.000000 550000.000000  765.000000  0.000000  25.000000 25.000000   \n",
       "124  7800000.000000 131000.000000 1054.000000  7.000000 344.000000  6.000000   \n",
       "3   14418000.000000 108130.000000  593.000000  2.000000 253.000000  7.000000   \n",
       "112 11401000.000000 172590.000000 1124.000000  3.000000  64.000000  3.000000   \n",
       "100 27597000.000000 315070.000000  826.000000  3.000000 658.000000 26.000000   \n",
       "16  13007000.000000  91660.000000  602.000000  6.000000 294.000000  0.000000   \n",
       "52  15111000.000000 126340.000000 1138.000000  0.000000 133.000000 25.000000   \n",
       "51   8670000.000000 102710.000000  349.000000  2.000000  53.000000  5.000000   \n",
       "\n",
       "         지하철        버스     단지내주차면수    면적_35.0  ...  면적_40.0    면적_25.0  \\\n",
       "128 0.000000  3.000000  107.000000   0.000000  ... 0.000000  48.000000   \n",
       "98  0.000000  4.000000  818.000000   0.000000  ... 0.000000   0.000000   \n",
       "111 0.000000 19.000000  910.000000   0.000000  ... 0.000000   0.000000   \n",
       "124 0.000000  3.000000  824.000000 370.000000  ... 0.000000 344.000000   \n",
       "3   0.000000  3.000000  543.000000 335.000000  ... 0.000000   0.000000   \n",
       "112 0.000000  2.000000  980.000000 372.000000  ... 0.000000 189.000000   \n",
       "100 0.000000  4.000000  746.000000   0.000000  ... 0.000000   0.000000   \n",
       "16  0.000000 10.000000  491.000000 294.000000  ... 0.000000   0.000000   \n",
       "52  0.000000  5.000000 1141.000000 133.000000  ... 0.000000   0.000000   \n",
       "51  0.000000  2.000000  270.000000 111.000000  ... 0.000000  94.000000   \n",
       "\n",
       "       면적_70.0  면적_15.0    면적_20.0  면적_100.0  면적_60.0  면적_75.0    면적_80.0  \\\n",
       "128   0.000000 0.000000  30.000000  0.000000 0.000000 0.000000   0.000000   \n",
       "98    0.000000 0.000000   0.000000  0.000000 0.000000 0.000000   0.000000   \n",
       "111 175.000000 0.000000   0.000000  0.000000 0.000000 0.000000 590.000000   \n",
       "124   0.000000 0.000000 264.000000  0.000000 0.000000 0.000000   0.000000   \n",
       "3     0.000000 0.000000   0.000000  0.000000 0.000000 0.000000   0.000000   \n",
       "112   0.000000 0.000000   0.000000  0.000000 0.000000 0.000000   0.000000   \n",
       "100   0.000000 0.000000   0.000000  0.000000 0.000000 0.000000   0.000000   \n",
       "16    0.000000 0.000000   0.000000  0.000000 0.000000 0.000000   0.000000   \n",
       "52    0.000000 0.000000   0.000000  0.000000 0.000000 0.000000   0.000000   \n",
       "51    0.000000 0.000000   0.000000  0.000000 0.000000 0.000000   0.000000   \n",
       "\n",
       "     면적_65.0  \n",
       "128 0.000000  \n",
       "98  0.000000  \n",
       "111 0.000000  \n",
       "124 0.000000  \n",
       "3   0.000000  \n",
       "112 0.000000  \n",
       "100 0.000000  \n",
       "16  0.000000  \n",
       "52  0.000000  \n",
       "51  0.000000  \n",
       "\n",
       "[10 rows x 24 columns]"
      ]
     },
     "execution_count": 42,
     "metadata": {},
     "output_type": "execute_result"
    }
   ],
   "source": [
    "new_test.sample(10)"
   ]
  },
  {
   "cell_type": "code",
   "execution_count": 273,
   "id": "f4a288a4",
   "metadata": {
    "ExecuteTime": {
     "end_time": "2021-07-16T10:49:28.412681Z",
     "start_time": "2021-07-16T10:49:28.310066Z"
    }
   },
   "outputs": [
    {
     "name": "stdout",
     "output_type": "stream",
     "text": [
      "x_train.shape: (423, 24), x_train_fs.shape: (423, 2)\n"
     ]
    }
   ],
   "source": [
    "from sklearn.feature_selection import SelectFromModel\n",
    "from sklearn.ensemble import GradientBoostingRegressor\n",
    "\n",
    "select = SelectFromModel(GradientBoostingRegressor(), threshold=None)\n",
    "x_train_fs = select.fit(x_train, y_train).transform(x_train)\n",
    "\n",
    "print(\"x_train.shape: {}, x_train_fs.shape: {}\".format(x_train.shape, x_train_fs.shape))"
   ]
  },
  {
   "cell_type": "code",
   "execution_count": 274,
   "id": "1ecf366d",
   "metadata": {
    "ExecuteTime": {
     "end_time": "2021-07-16T10:49:30.759600Z",
     "start_time": "2021-07-16T10:49:30.743567Z"
    },
    "id": "1ecf366d"
   },
   "outputs": [],
   "source": [
    "x_train = new_train.iloc[:, :-1]\n",
    "y_train = new_train.iloc[:,-1]\n",
    "x_test = new_test"
   ]
  },
  {
   "cell_type": "code",
   "execution_count": 372,
   "id": "984b63bc",
   "metadata": {
    "ExecuteTime": {
     "end_time": "2021-07-16T10:53:29.494806Z",
     "start_time": "2021-07-16T10:53:29.398623Z"
    }
   },
   "outputs": [
    {
     "data": {
      "text/plain": [
       "<matplotlib.image.AxesImage at 0x2da5a4d6608>"
      ]
     },
     "execution_count": 372,
     "metadata": {},
     "output_type": "execute_result"
    },
    {
     "data": {
      "image/png": "[encoded data removed]",
      "text/plain": [
       "<Figure size 1152x144 with 1 Axes>"
      ]
     },
     "metadata": {
      "needs_background": "light"
     },
     "output_type": "display_data"
    }
   ],
   "source": [
    "mask = select.get_support()\n",
    "plt.matshow(mask.reshape(1, -1), cmap='gray_r')"
   ]
  },
  {
   "cell_type": "code",
   "execution_count": 170,
   "id": "384a5353",
   "metadata": {
    "ExecuteTime": {
     "end_time": "2021-07-16T10:45:56.868106Z",
     "start_time": "2021-07-16T10:45:56.852106Z"
    }
   },
   "outputs": [
    {
     "data": {
      "text/plain": [
       "array([False, False, False, False, False,  True, False, False,  True,\n",
       "       False, False, False, False, False, False, False, False, False,\n",
       "       False, False, False, False, False, False])"
      ]
     },
     "execution_count": 170,
     "metadata": {},
     "output_type": "execute_result"
    }
   ],
   "source": [
    "# mask"
   ]
  },
  {
   "cell_type": "code",
   "execution_count": 171,
   "id": "84b9c21c",
   "metadata": {
    "ExecuteTime": {
     "end_time": "2021-07-16T10:46:04.691454Z",
     "start_time": "2021-07-16T10:46:04.683422Z"
    }
   },
   "outputs": [
    {
     "data": {
      "text/plain": [
       "Index(['임대보증금', '임대료', '총세대수', '지역', '전용면적별세대수', '공가수', '지하철', '버스', '단지내주차면수',\n",
       "       '면적_35.0', '면적_50.0', '면적_55.0', '면적_30.0', '면적_45.0', '면적_40.0',\n",
       "       '면적_25.0', '면적_70.0', '면적_15.0', '면적_20.0', '면적_100.0', '면적_60.0',\n",
       "       '면적_75.0', '면적_80.0', '면적_65.0'],\n",
       "      dtype='object')"
      ]
     },
     "execution_count": 171,
     "metadata": {},
     "output_type": "execute_result"
    }
   ],
   "source": [
    "# x_train.columns"
   ]
  },
  {
   "cell_type": "code",
   "execution_count": 44,
   "id": "db70b735",
   "metadata": {
    "ExecuteTime": {
     "end_time": "2021-07-16T10:27:13.531491Z",
     "start_time": "2021-07-16T10:27:13.371493Z"
    },
    "id": "db70b735",
    "outputId": "b8dce862-5ff1-45ba-ea72-420b5b5215ac"
   },
   "outputs": [
    {
     "data": {
      "text/plain": [
       "RandomForestRegressor(n_jobs=-1, random_state=42)"
      ]
     },
     "execution_count": 44,
     "metadata": {},
     "output_type": "execute_result"
    }
   ],
   "source": [
    "forest = RandomForestRegressor(n_jobs=-1, random_state=42)\n",
    "forest.fit(x_train, y_train)"
   ]
  },
  {
   "cell_type": "code",
   "execution_count": 45,
   "id": "67f28227",
   "metadata": {
    "ExecuteTime": {
     "end_time": "2021-07-16T10:27:13.662119Z",
     "start_time": "2021-07-16T10:27:13.531491Z"
    },
    "id": "67f28227"
   },
   "outputs": [],
   "source": [
    "pred = forest.predict(x_test)\n",
    "#pred"
   ]
  },
  {
   "cell_type": "code",
   "execution_count": 46,
   "id": "f5ce95c9",
   "metadata": {
    "ExecuteTime": {
     "end_time": "2021-07-16T10:27:13.678343Z",
     "start_time": "2021-07-16T10:27:13.662119Z"
    },
    "id": "f5ce95c9"
   },
   "outputs": [],
   "source": [
    "submission['num'] = pred"
   ]
  },
  {
   "cell_type": "code",
   "execution_count": 47,
   "id": "4c1491a5",
   "metadata": {
    "ExecuteTime": {
     "end_time": "2021-07-16T10:27:13.703403Z",
     "start_time": "2021-07-16T10:27:13.678343Z"
    },
    "id": "4c1491a5"
   },
   "outputs": [],
   "source": [
    "# submission.to_csv('baseline.csv', index=False)"
   ]
  }
 ],
 "metadata": {
  "colab": {
   "collapsed_sections": [],
   "name": "Lastest_주차 수요 예측(제출).ipynb",
   "provenance": []
  },
  "kernelspec": {
   "display_name": "Python 3",
   "language": "python",
   "name": "python3"
  },
  "language_info": {
   "codemirror_mode": {
    "name": "ipython",
    "version": 3
   },
   "file_extension": ".py",
   "mimetype": "text/x-python",
   "name": "python",
   "nbconvert_exporter": "python",
   "pygments_lexer": "ipython3",
   "version": "3.7.10"
  },
  "toc": {
   "base_numbering": 1,
   "nav_menu": {},
   "number_sections": true,
   "sideBar": true,
   "skip_h1_title": false,
   "title_cell": "Table of Contents",
   "title_sidebar": "Contents",
   "toc_cell": false,
   "toc_position": {},
   "toc_section_display": true,
   "toc_window_display": false
  },
  "varInspector": {
   "cols": {
    "lenName": 16,
    "lenType": 16,
    "lenVar": 40
   },
   "kernels_config": {
    "python": {
     "delete_cmd_postfix": "",
     "delete_cmd_prefix": "del ",
     "library": "var_list.py",
     "varRefreshCmd": "print(var_dic_list())"
    },
    "r": {
     "delete_cmd_postfix": ") ",
     "delete_cmd_prefix": "rm(",
     "library": "var_list.r",
     "varRefreshCmd": "cat(var_dic_list()) "
    }
   },
   "types_to_exclude": [
    "module",
    "function",
    "builtin_function_or_method",
    "instance",
    "_Feature"
   ],
   "window_display": false
  }
 },
 "nbformat": 4,
 "nbformat_minor": 5
}
