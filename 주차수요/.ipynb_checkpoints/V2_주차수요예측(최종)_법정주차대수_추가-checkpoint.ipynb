{
 "cells": [
  {
   "cell_type": "code",
   "execution_count": 1,
   "id": "1fb9d7bd",
   "metadata": {
    "ExecuteTime": {
     "end_time": "2021-07-22T14:08:20.381635Z",
     "start_time": "2021-07-22T14:08:20.103084Z"
    }
   },
   "outputs": [],
   "source": [
    "import pandas as pd\n",
    "import numpy as np"
   ]
  },
  {
   "cell_type": "markdown",
   "id": "20ec0eb8",
   "metadata": {},
   "source": [
    "# 데이터 불러오기"
   ]
  },
  {
   "cell_type": "code",
   "execution_count": 2,
   "id": "b9fe2f84",
   "metadata": {
    "ExecuteTime": {
     "end_time": "2021-07-22T14:08:21.300498Z",
     "start_time": "2021-07-22T14:08:21.276467Z"
    }
   },
   "outputs": [],
   "source": [
    "train = pd.read_csv('./data/train.csv')\n",
    "test = pd.read_csv('./data/test.csv')\n",
    "submission = pd.read_csv('./data/sample_submission.csv')"
   ]
  },
  {
   "cell_type": "markdown",
   "id": "588229ba",
   "metadata": {},
   "source": [
    "# 전용면적당 법정주차대수 "
   ]
  },
  {
   "cell_type": "markdown",
   "id": "6dc41a87",
   "metadata": {},
   "source": [
    "## 법정주차대수 Column 추가"
   ]
  },
  {
   "cell_type": "code",
   "execution_count": 3,
   "id": "b7a6082e",
   "metadata": {
    "ExecuteTime": {
     "end_time": "2021-07-22T14:08:24.569711Z",
     "start_time": "2021-07-22T14:08:24.561709Z"
    }
   },
   "outputs": [],
   "source": [
    "train.insert(loc=14, column='법정주차대수', value=0.0)"
   ]
  },
  {
   "cell_type": "markdown",
   "id": "5d603b2c",
   "metadata": {},
   "source": [
    "## 전용면적을 지역별 각 지역 기준으로 나누기"
   ]
  },
  {
   "cell_type": "code",
   "execution_count": 4,
   "id": "1b039eff",
   "metadata": {
    "ExecuteTime": {
     "end_time": "2021-07-22T14:08:25.921864Z",
     "start_time": "2021-07-22T14:08:25.849544Z"
    },
    "scrolled": true
   },
   "outputs": [],
   "source": [
    "# for문 columns 설정\n",
    "Gwang_colName = ['부산광역시', '대전광역시', '광주광역시', '울산광역시', '대구광역시', '세종광역시', '경기도']\n",
    "Other_colName = ['경상북도', '경상남도', '전라북도', '전라남도', '강원도', '충청남도', '충청북도']\n",
    "\n",
    "# 1. 서울특별시 \n",
    "# - 전용면적 {85이하 - 75} | {85초과 - 65} 나누기\n",
    "idx = train[ (train['지역'] == '서울특별시') & (train['전용면적'] <= 85) ].index\n",
    "train.loc[idx, '법정주차대수'] = train[ (train['지역'] == '서울특별시') & (train['전용면적'] <= 85) ]['전용면적'] / 75\n",
    "\n",
    "idx = train[ (train['지역'] == '서울특별시') & (train['전용면적'] > 85) ].index\n",
    "train.loc[idx, '법정주차대수'] = train[ (train['지역'] == '서울특별시') & (train['전용면적'] > 85) ]['전용면적'] / 65\n",
    "\n",
    "# 2. 광역시 + 경기도\n",
    "# - 전용면적 {85이하 - 85} | {85초과 - 70} 나누기\n",
    "for colName in Gwang_colName:\n",
    "    idx = train[ (train['지역'] == colName) & (train['전용면적'] <= 85) ].index\n",
    "    train.loc[idx, '법정주차대수'] = train[(train['지역'] == colName) & (train['전용면적'] <= 85) ]['전용면적'] / 85\n",
    "    idx = train[(train['지역'] == colName) & (train['전용면적'] > 85) ].index\n",
    "    train.loc[idx, '법정주차대수'] = train[(train['지역'] == colName) & (train['전용면적'] > 85) ]['전용면적'] / 70\n",
    "    \n",
    "# 강원도, 충청남도 등 (1과 2 제외한 나머지 지역 OO도)\n",
    "# - 전용면적 {85이하 - 95} | {85초과 - 75} 나누기\n",
    "for colName in Other_colName:\n",
    "    idx = train[ (train['지역'] == colName) & (train['전용면적'] <= 85) ].index\n",
    "    train.loc[idx, '법정주차대수'] = train[(train['지역'] == colName) & (train['전용면적'] <= 85) ]['전용면적'] / 95\n",
    "    idx = train[(train['지역'] == colName) & (train['전용면적'] > 85) ].index\n",
    "    train.loc[idx, '법정주차대수'] = train[(train['지역'] == colName) & (train['전용면적'] > 85) ]['전용면적'] / 75"
   ]
  },
  {
   "cell_type": "markdown",
   "id": "78d4f7d0",
   "metadata": {},
   "source": [
    "## 법정주차대수 소수점 정리"
   ]
  },
  {
   "cell_type": "code",
   "execution_count": 5,
   "id": "25603d3e",
   "metadata": {
    "ExecuteTime": {
     "end_time": "2021-07-22T14:08:26.767365Z",
     "start_time": "2021-07-22T14:08:26.711364Z"
    }
   },
   "outputs": [],
   "source": [
    "# 1. 서울특별시 \n",
    "# 1) 전용면적 30이하 : 0.5 고정\n",
    "idx = train[ (train['지역'] == '서울특별시') & (train['전용면적'] <= 30) ].index\n",
    "train.loc[idx, '법정주차대수'] = 0.5\n",
    "\n",
    "# 2) 전용면적 30초과 ~ 60이하 : 0.8 고정\n",
    "idx = train[ (train['지역'] == '서울특별시') & (train['전용면적'] > 30) & (train['전용면적'] <= 60) ].index\n",
    "train.loc[idx, '법정주차대수'] = 0.8\n",
    "\n",
    "# 3) 전용면적 60초과 : 1.xxx -> 2 or 2.xxxx -> 3\n",
    "# - 나머지가 조금이라도 나오면 몫의 값 + 1 => np.ceil 함수 사용\n",
    "idx = train[ (train['지역'] == '서울특별시') & (train['전용면적'] > 60) ].index\n",
    "train.loc[idx, '법정주차대수'] = np.ceil(train[ (train['지역'] == '서울특별시') & (train['전용면적'] > 60) ]['법정주차대수'])\n",
    "\n",
    "# 2. 광역시 + 경기도\n",
    "# - 필요한 조건은 앞서 한 조건(나누기 작업)만 하면 되기 때문에 소수점 올림만 작업하면 된다.\n",
    "for colName in Gwang_colName:\n",
    "    idx = train[ train['지역'] == colName ].index\n",
    "    train.loc[idx, '법정주차대수'] = np.ceil(train[ train['지역'] == colName ]['법정주차대수'])\n",
    "\n",
    "# 3. 강원도, 충청남도 등 (1과 2 제외한 나머지 지역 OO도)\n",
    "# - 필요한 조건은 앞서 한 조건(나누기 작업)만 하면 되기 때문에 소수점 올림만 작업하면 된다.\n",
    "for colName in Other_colName:\n",
    "    idx = train[ train['지역'] == colName ].index\n",
    "    train.loc[idx, '법정주차대수'] = np.ceil(train[ train['지역'] == colName ]['법정주차대수'])"
   ]
  },
  {
   "cell_type": "markdown",
   "id": "4ef63080",
   "metadata": {},
   "source": [
    "# 컬럼명 바꾸기"
   ]
  },
  {
   "cell_type": "code",
   "execution_count": 6,
   "id": "132a465b",
   "metadata": {
    "ExecuteTime": {
     "end_time": "2021-07-22T14:08:31.916786Z",
     "start_time": "2021-07-22T14:08:31.908756Z"
    }
   },
   "outputs": [],
   "source": [
    "train = train.rename(columns={'도보 10분거리 내 지하철역 수(환승노선 수 반영)':'지하철',\n",
    "                     '도보 10분거리 내 버스정류장 수':'버스'})\n",
    "\n",
    "test = test.rename(columns={'도보 10분거리 내 지하철역 수(환승노선 수 반영)':'지하철',\n",
    "                     '도보 10분거리 내 버스정류장 수':'버스'})"
   ]
  },
  {
   "cell_type": "markdown",
   "id": "74c51172",
   "metadata": {},
   "source": [
    "# 결측치 처리"
   ]
  },
  {
   "cell_type": "code",
   "execution_count": 7,
   "id": "d52f5329",
   "metadata": {
    "ExecuteTime": {
     "end_time": "2021-07-22T14:08:34.654574Z",
     "start_time": "2021-07-22T14:08:34.638541Z"
    }
   },
   "outputs": [
    {
     "name": "stdout",
     "output_type": "stream",
     "text": [
      "-------- train.csv --------\n",
      "단지코드          0\n",
      "총세대수          0\n",
      "임대건물구분        0\n",
      "지역            0\n",
      "공급유형          0\n",
      "전용면적          0\n",
      "전용면적별세대수      0\n",
      "공가수           0\n",
      "자격유형          0\n",
      "임대보증금       569\n",
      "임대료         569\n",
      "지하철         211\n",
      "버스            4\n",
      "단지내주차면수       0\n",
      "법정주차대수        0\n",
      "등록차량수         0\n",
      "dtype: int64\n",
      "-------- test.csv --------\n",
      "단지코드          0\n",
      "총세대수          0\n",
      "임대건물구분        0\n",
      "지역            0\n",
      "공급유형          0\n",
      "전용면적          0\n",
      "전용면적별세대수      0\n",
      "공가수           0\n",
      "자격유형          2\n",
      "임대보증금       180\n",
      "임대료         180\n",
      "지하철          42\n",
      "버스            0\n",
      "단지내주차면수       0\n",
      "dtype: int64\n"
     ]
    }
   ],
   "source": [
    "print(\"-------- train.csv --------\")\n",
    "print(train.isnull().sum())\n",
    "print(\"-------- test.csv --------\")\n",
    "print(test.isnull().sum())"
   ]
  },
  {
   "cell_type": "code",
   "execution_count": 8,
   "id": "fd8c741e",
   "metadata": {
    "ExecuteTime": {
     "end_time": "2021-07-22T13:34:21.823535Z",
     "start_time": "2021-07-22T13:34:21.799501Z"
    }
   },
   "outputs": [],
   "source": [
    "# train 데이터\n",
    "train['임대보증금'] = train['임대보증금'].fillna(0)\n",
    "train['임대료'] = train['임대료'].fillna(0)\n",
    "train['지하철'] = train['지하철'].fillna(0)\n",
    "train['버스'] = train['버스'].fillna(0)\n",
    "\n",
    "# test 데이터\n",
    "test['임대보증금'] = test['임대보증금'].fillna(0)\n",
    "test['임대료'] = test['임대료'].fillna(0)\n",
    "test['지하철'] = test['지하철'].fillna(0)\n",
    "\n",
    "test.loc[test.단지코드.isin(['C2411']) & test.자격유형.isnull(), '자격유형'] = 'A'\n",
    "test.loc[test.단지코드.isin(['C2253']) & test.자격유형.isnull(), '자격유형'] = 'C'"
   ]
  },
  {
   "cell_type": "code",
   "execution_count": 9,
   "id": "b9ebc47a",
   "metadata": {
    "ExecuteTime": {
     "end_time": "2021-07-22T13:34:25.909915Z",
     "start_time": "2021-07-22T13:34:25.885915Z"
    }
   },
   "outputs": [
    {
     "name": "stdout",
     "output_type": "stream",
     "text": [
      "-------- train.csv --------\n",
      "단지코드        0\n",
      "총세대수        0\n",
      "임대건물구분      0\n",
      "지역          0\n",
      "공급유형        0\n",
      "전용면적        0\n",
      "전용면적별세대수    0\n",
      "공가수         0\n",
      "자격유형        0\n",
      "임대보증금       0\n",
      "임대료         0\n",
      "지하철         0\n",
      "버스          0\n",
      "단지내주차면수     0\n",
      "법정주차대수      0\n",
      "등록차량수       0\n",
      "dtype: int64\n",
      "-------- test.csv --------\n",
      "단지코드        0\n",
      "총세대수        0\n",
      "임대건물구분      0\n",
      "지역          0\n",
      "공급유형        0\n",
      "전용면적        0\n",
      "전용면적별세대수    0\n",
      "공가수         0\n",
      "자격유형        0\n",
      "임대보증금       0\n",
      "임대료         0\n",
      "지하철         0\n",
      "버스          0\n",
      "단지내주차면수     0\n",
      "dtype: int64\n"
     ]
    }
   ],
   "source": [
    "print(\"-------- train.csv --------\")\n",
    "print(train.isnull().sum())\n",
    "print(\"-------- test.csv --------\")\n",
    "print(test.isnull().sum())"
   ]
  },
  {
   "cell_type": "markdown",
   "id": "91c56e44",
   "metadata": {},
   "source": [
    "# '-' 데이터 처리"
   ]
  },
  {
   "cell_type": "code",
   "execution_count": 8,
   "id": "84adb92d",
   "metadata": {
    "ExecuteTime": {
     "end_time": "2021-07-22T14:08:42.955059Z",
     "start_time": "2021-07-22T14:08:42.939060Z"
    }
   },
   "outputs": [],
   "source": [
    "# 장기전세인것은 임대료 0\n",
    "idx = train[train['공급유형'] == '장기전세'].index\n",
    "train.loc[idx, '임대료'] = 0.0"
   ]
  },
  {
   "cell_type": "code",
   "execution_count": 9,
   "id": "64a5d996",
   "metadata": {
    "ExecuteTime": {
     "end_time": "2021-07-22T14:08:46.480176Z",
     "start_time": "2021-07-22T14:08:46.464176Z"
    }
   },
   "outputs": [
    {
     "data": {
      "text/plain": [
       "array([24.72, 24.79, 26.83, 29.17, 29.34, 37.43, 37.7 , 46.94])"
      ]
     },
     "execution_count": 9,
     "metadata": {},
     "output_type": "execute_result"
    }
   ],
   "source": [
    "train[ (train['임대료'] == '-') & (train['자격유형'] == 'H') ]['전용면적'].sort_values(ascending=True).unique()"
   ]
  },
  {
   "cell_type": "code",
   "execution_count": 10,
   "id": "4176fdc1",
   "metadata": {
    "ExecuteTime": {
     "end_time": "2021-07-22T14:08:47.756511Z",
     "start_time": "2021-07-22T14:08:47.732512Z"
    }
   },
   "outputs": [
    {
     "data": {
      "text/plain": [
       "array([24.76, 24.77, 26.44, 26.47, 26.58, 26.73, 26.8 , 26.82, 26.83,\n",
       "       26.85, 26.88, 26.9 , 26.91, 26.92, 26.94, 26.96, 26.97, 26.98,\n",
       "       26.99, 27.82, 29.26, 29.92, 31.65, 33.09, 33.8 , 33.88, 33.92,\n",
       "       33.94, 33.97, 36.4 , 36.47, 36.64, 36.65, 36.72, 36.73, 36.89,\n",
       "       36.9 , 36.94, 36.96, 36.98, 37.01, 37.04, 37.17, 37.43, 37.59,\n",
       "       37.6 , 37.64, 37.7 , 37.77, 37.78, 37.98, 39.62, 39.72, 45.71,\n",
       "       46.16, 46.25, 46.27, 46.42, 46.46, 46.49, 46.51, 46.65, 46.7 ,\n",
       "       46.74, 46.75, 46.77, 46.79, 46.81, 46.83, 46.85, 46.93, 46.94,\n",
       "       46.95, 46.96, 46.97, 46.99, 51.5 , 51.57, 51.72, 51.81, 51.88,\n",
       "       51.9 , 51.91, 51.92, 51.93, 51.98, 55.88, 59.4 , 59.45, 59.59,\n",
       "       59.61, 59.87, 59.92, 59.94])"
      ]
     },
     "execution_count": 10,
     "metadata": {},
     "output_type": "execute_result"
    }
   ],
   "source": [
    "# 임대료 임대보증금 '-'인 데이터\n",
    "# 자격유형'H'에 공급유형 '국민임대' 는 전용면적으로 비교해 평균값으로 대체\n",
    "train[ (train['공급유형'] == '국민임대') & (train['자격유형'] == 'H') & (train['임대료'] != '-') ]['전용면적'].sort_values(ascending=True).unique()"
   ]
  },
  {
   "cell_type": "code",
   "execution_count": null,
   "id": "e26893ae",
   "metadata": {},
   "outputs": [],
   "source": [
    "area_list = train[(train['임대료']=='-')&(train['자격유형']=='H')]['전용면적'].to_list()\n",
    "# mean_value = \n",
    "\n",
    "idx = train[ (train['임대료'] == '-') & (train['자격유형'] == 'H') ]['전용면적'].index\n",
    "train.loc[idx, '임대료'] = mean_value"
   ]
  },
  {
   "cell_type": "code",
   "execution_count": 11,
   "id": "0139f65f",
   "metadata": {
    "ExecuteTime": {
     "end_time": "2021-07-22T14:09:00.816818Z",
     "start_time": "2021-07-22T14:09:00.776818Z"
    }
   },
   "outputs": [],
   "source": [
    "rental_cost_mean = []\n",
    "area_list = train[(train['임대료']=='-')&(train['자격유형']=='H')]['전용면적'].to_list()\n",
    "\n",
    "for area in area_list:\n",
    "    rental_cost_mean.append(train[ (train['공급유형'] == '국민임대') & (train['자격유형'] == 'H') & (train['임대료'] != '-')\n",
    "          & (train['전용면적'] >= (area-0.5)) & (train['전용면적'] <= (area+0.5)) ]['임대료'].mean())"
   ]
  },
  {
   "cell_type": "code",
   "execution_count": 12,
   "id": "482b6665",
   "metadata": {
    "ExecuteTime": {
     "end_time": "2021-07-22T14:09:02.162037Z",
     "start_time": "2021-07-22T14:09:02.153999Z"
    }
   },
   "outputs": [
    {
     "data": {
      "text/plain": [
       "[77550077550.0,\n",
       " 77550077550.0,\n",
       " 5.178970696212169e+169,\n",
       " 1.7856941413860155e+76,\n",
       " 8.763010402010051e+177,\n",
       " 70500070500.0,\n",
       " 70500070500.0,\n",
       " 1.2023510752511235e+118]"
      ]
     },
     "execution_count": 12,
     "metadata": {},
     "output_type": "execute_result"
    }
   ],
   "source": [
    "rental_cost_mean"
   ]
  },
  {
   "cell_type": "code",
   "execution_count": 14,
   "id": "685c1e2f",
   "metadata": {
    "ExecuteTime": {
     "end_time": "2021-07-22T14:09:56.372449Z",
     "start_time": "2021-07-22T14:09:56.348684Z"
    }
   },
   "outputs": [
    {
     "data": {
      "text/plain": [
       "1.2023510752511235e+118"
      ]
     },
     "execution_count": 14,
     "metadata": {},
     "output_type": "execute_result"
    }
   ],
   "source": [
    "np.mean(train[(train['공급유형']== '국민임대') & (train['자격유형'] == 'H') & (train['임대료'] != '-') & (train['전용면적'] >= (area-0.5)) & (train['전용면적'] <= (area+0.5)) ]['임대료'])"
   ]
  },
  {
   "cell_type": "code",
   "execution_count": 40,
   "id": "34c9cc50",
   "metadata": {
    "ExecuteTime": {
     "end_time": "2021-07-22T14:07:42.316633Z",
     "start_time": "2021-07-22T14:07:42.300634Z"
    }
   },
   "outputs": [
    {
     "data": {
      "text/plain": [
       "20"
      ]
     },
     "execution_count": 40,
     "metadata": {},
     "output_type": "execute_result"
    }
   ],
   "source": [
    "len(train[ (train['공급유형'] == '국민임대') & (train['자격유형'] == 'H') & (train['임대료'] != '-')\n",
    "          & (train['전용면적'] >= (area-0.5)) & (train['전용면적'] <= (area+0.5)) ]['임대료'])"
   ]
  },
  {
   "cell_type": "code",
   "execution_count": 11,
   "id": "104111b0",
   "metadata": {
    "ExecuteTime": {
     "end_time": "2021-07-22T12:58:01.755481Z",
     "start_time": "2021-07-22T12:58:01.739729Z"
    }
   },
   "outputs": [],
   "source": [
    "# 임대료, 임대보증금 데이터에 - 값이 있어서 이를 0으로 변환\n",
    "train.loc[train.임대보증금=='-', '임대보증금'] = np.nan\n",
    "train.loc[train.임대료=='-', '임대료'] = np.nan\n",
    "train['임대보증금'] = train['임대보증금'].astype(float)\n",
    "train['임대료'] = train['임대료'].astype(float)\n",
    "train['임대보증금'] = train['임대보증금'].fillna(0)\n",
    "train['임대료'] = train['임대료'].fillna(0)\n",
    "\n",
    "test.loc[test.임대보증금=='-', '임대보증금'] = np.nan\n",
    "test.loc[test.임대료=='-', '임대료'] = np.nan\n",
    "test['임대보증금'] = test['임대보증금'].fillna(0)\n",
    "test['임대료'] = test['임대료'].fillna(0)\n",
    "test['임대보증금'] = test['임대보증금'].astype(float)\n",
    "test['임대료'] = test['임대료'].astype(float)"
   ]
  },
  {
   "cell_type": "markdown",
   "id": "b8f25c41",
   "metadata": {},
   "source": [
    "# 지하철 Y or N로 변경"
   ]
  },
  {
   "cell_type": "code",
   "execution_count": 12,
   "id": "6e507ba5",
   "metadata": {
    "ExecuteTime": {
     "end_time": "2021-07-22T12:58:01.763450Z",
     "start_time": "2021-07-22T12:58:01.755481Z"
    }
   },
   "outputs": [],
   "source": [
    "train['지하철'] = np.where(train['지하철'] == 0, 0, 1)\n",
    "test['지하철'] = np.where(test['지하철'] == 0, 0, 1)"
   ]
  },
  {
   "cell_type": "markdown",
   "id": "8a53769b",
   "metadata": {},
   "source": [
    "# 임대건물구분 컬럼 처리"
   ]
  },
  {
   "cell_type": "code",
   "execution_count": 13,
   "id": "68ed4522",
   "metadata": {
    "ExecuteTime": {
     "end_time": "2021-07-22T12:58:01.779792Z",
     "start_time": "2021-07-22T12:58:01.763450Z"
    }
   },
   "outputs": [],
   "source": [
    "# 임대건물구분에서 7개의 아파트는 상가로 예상이됨 이를 처리 함.\n",
    "# 임대건물구분이 상가인 경우는 전용면적별세대수도 1이므로 이를 처리 함.\n",
    "\n",
    "idx = train[(train['임대건물구분']=='아파트') & (train['자격유형']=='D')]['전용면적별세대수'].index\n",
    "train.loc[idx, '전용면적별세대수'] = 1\n",
    "train.loc[idx, '임대건물구분'] = '상가'"
   ]
  },
  {
   "cell_type": "markdown",
   "id": "8423be0e",
   "metadata": {},
   "source": [
    "# 지역 데이터를 숫자로 매핑"
   ]
  },
  {
   "cell_type": "code",
   "execution_count": 14,
   "id": "ae9c2154",
   "metadata": {
    "ExecuteTime": {
     "end_time": "2021-07-22T12:58:01.795729Z",
     "start_time": "2021-07-22T12:58:01.779792Z"
    }
   },
   "outputs": [],
   "source": [
    "local_map = {}\n",
    "for i, loc in enumerate(train['지역'].unique()):\n",
    "    local_map[loc] = i\n",
    "    \n",
    "train['지역'] = train['지역'].map(local_map)\n",
    "\n",
    "local_map = {}\n",
    "for i, loc in enumerate(test['지역'].unique()):\n",
    "    local_map[loc] = i\n",
    "    \n",
    "test['지역'] = test['지역'].map(local_map)"
   ]
  },
  {
   "cell_type": "markdown",
   "id": "d32cdf89",
   "metadata": {},
   "source": [
    "# 전용면적을 상/하한 적용"
   ]
  },
  {
   "cell_type": "code",
   "execution_count": 15,
   "id": "cd32d741",
   "metadata": {
    "ExecuteTime": {
     "end_time": "2021-07-22T12:58:01.811670Z",
     "start_time": "2021-07-22T12:58:01.795729Z"
    }
   },
   "outputs": [],
   "source": [
    "# 전용면적을 5의 배수로 변경 후 상/하한 적용\n",
    "# 하한 값 15, 상한 값 100을 적용\n",
    "\n",
    "train['전용면적'] = np.round(train['전용면적'], 0)\n",
    "train['전용면적'] = train['전용면적']//5*5\n",
    "\n",
    "idx = train[train['전용면적']>100].index\n",
    "train.loc[idx, '전용면적'] = 100\n",
    "\n",
    "idx = train[train['전용면적']<15].index\n",
    "train.loc[idx, '전용면적'] = 15\n",
    "\n",
    "test['전용면적'] = np.round(test['전용면적'], 0)\n",
    "test['전용면적'] = test['전용면적']//5*5\n",
    "\n",
    "idx = test[test['전용면적']>100].index\n",
    "test.loc[idx, '전용면적'] = 100\n",
    "\n",
    "idx = test[test['전용면적']<15].index\n",
    "test.loc[idx, '전용면적'] = 15"
   ]
  },
  {
   "cell_type": "markdown",
   "id": "db91203f",
   "metadata": {},
   "source": [
    "# 법정주차수요"
   ]
  },
  {
   "cell_type": "code",
   "execution_count": 32,
   "id": "662c1ebe",
   "metadata": {
    "ExecuteTime": {
     "end_time": "2021-07-22T13:30:25.322381Z",
     "start_time": "2021-07-22T13:30:25.314350Z"
    }
   },
   "outputs": [],
   "source": [
    "value = train['총세대수'] * train['법정주차대수']\n",
    "train.insert(loc=15, column='법정주차수요', value=value)"
   ]
  },
  {
   "cell_type": "markdown",
   "id": "a0f62216",
   "metadata": {},
   "source": [
    "# 아파트 / 상가 데이터 분리"
   ]
  },
  {
   "cell_type": "code",
   "execution_count": 34,
   "id": "951b8f34",
   "metadata": {
    "ExecuteTime": {
     "end_time": "2021-07-22T13:30:46.340348Z",
     "start_time": "2021-07-22T13:30:46.332347Z"
    }
   },
   "outputs": [],
   "source": [
    "# Train\n",
    "apart_train = train[train['임대건물구분'] == '아파트']\n",
    "shop_train = train[train['임대건물구분'] == '상가']\n",
    "\n",
    "# Test\n",
    "apart_test = test[test['임대건물구분'] == '아파트']\n",
    "shop_test = test[test['임대건물구분'] == '상가']"
   ]
  },
  {
   "cell_type": "markdown",
   "id": "48626cd7",
   "metadata": {},
   "source": [
    "# 상관관계"
   ]
  },
  {
   "cell_type": "code",
   "execution_count": null,
   "id": "61503542",
   "metadata": {},
   "outputs": [],
   "source": [
    "pd.DataFrame(apart_train.corr()['등록차량수'].abs().sort_values(ascending=False))"
   ]
  },
  {
   "cell_type": "markdown",
   "id": "013ec571",
   "metadata": {},
   "source": [
    "# 학습 데이터 생성"
   ]
  },
  {
   "cell_type": "code",
   "execution_count": 35,
   "id": "6ff2126b",
   "metadata": {
    "ExecuteTime": {
     "end_time": "2021-07-22T13:30:49.070415Z",
     "start_time": "2021-07-22T13:30:49.046394Z"
    }
   },
   "outputs": [
    {
     "name": "stdout",
     "output_type": "stream",
     "text": [
      "Apart train 데이터: (2383, 8)\n",
      "Shop train 데이터: (569, 8)\n",
      "Apart test 데이터: (845, 7)\n",
      "Shop test 데이터: (177, 7)\n"
     ]
    }
   ],
   "source": [
    "# Train\n",
    "apart_train_data = apart_train[['총세대수','전용면적','전용면적별세대수','공가수','임대보증금','임대료','단지내주차면수','등록차량수']]\n",
    "shop_train_data = shop_train[['총세대수','전용면적','전용면적별세대수','공가수','임대보증금','임대료','단지내주차면수','등록차량수']]\n",
    "\n",
    "# Test\n",
    "apart_test_data = apart_test[['총세대수','전용면적','전용면적별세대수','공가수','임대보증금','임대료','단지내주차면수']]\n",
    "shop_test_data = shop_test[['총세대수','전용면적','전용면적별세대수','공가수','임대보증금','임대료','단지내주차면수']]\n",
    "\n",
    "print(\"Apart train 데이터:\",apart_train_data.shape)\n",
    "print(\"Shop train 데이터:\",shop_train_data.shape)\n",
    "print(\"Apart test 데이터:\",apart_test_data.shape)\n",
    "print(\"Shop test 데이터:\",shop_test_data.shape)"
   ]
  },
  {
   "cell_type": "code",
   "execution_count": 36,
   "id": "1e73b5dd",
   "metadata": {
    "ExecuteTime": {
     "end_time": "2021-07-22T13:30:50.982085Z",
     "start_time": "2021-07-22T13:30:50.958085Z"
    }
   },
   "outputs": [
    {
     "name": "stdout",
     "output_type": "stream",
     "text": [
      "x_apart_train 데이터: (2383, 7)\n",
      "y_apart_train 데이터: (2383,)\n",
      "x_shop_train 데이터: (569, 7)\n",
      "y_shop_train 데이터: (569,)\n",
      "x_apart_test 데이터: (845, 7)\n",
      "x_shop_test 데이터: (177, 7)\n"
     ]
    }
   ],
   "source": [
    "# 데이터 target 설정\n",
    "x_apart_train = apart_train_data.iloc[:,:7]\n",
    "y_apart_train = apart_train_data.iloc[:,-1]\n",
    "\n",
    "x_shop_train = shop_train_data.iloc[:,:7]\n",
    "y_shop_train = shop_train_data.iloc[:,-1]\n",
    "\n",
    "x_apart_test = apart_test_data\n",
    "x_shop_test = shop_test_data\n",
    "\n",
    "print(\"x_apart_train 데이터:\",x_apart_train.shape)\n",
    "print(\"y_apart_train 데이터:\",y_apart_train.shape)\n",
    "print(\"x_shop_train 데이터:\",x_shop_train.shape)\n",
    "print(\"y_shop_train 데이터:\",y_shop_train.shape)\n",
    "print(\"x_apart_test 데이터:\",x_apart_test.shape)\n",
    "print(\"x_shop_test 데이터:\",x_shop_test.shape)"
   ]
  },
  {
   "cell_type": "markdown",
   "id": "da9e1516",
   "metadata": {},
   "source": [
    "# 모델링"
   ]
  },
  {
   "cell_type": "code",
   "execution_count": 18,
   "id": "24543e33",
   "metadata": {
    "ExecuteTime": {
     "end_time": "2021-07-22T12:58:02.936875Z",
     "start_time": "2021-07-22T12:58:01.843537Z"
    }
   },
   "outputs": [],
   "source": [
    "from sklearn.ensemble import RandomForestRegressor\n",
    "\n",
    "forest = RandomForestRegressor(n_jobs=-1, random_state=42)\n",
    "\n",
    "forest.fit(x_train, y_train)\n",
    "\n",
    "pred = forest.predict(x_test)"
   ]
  },
  {
   "cell_type": "code",
   "execution_count": 19,
   "id": "7a059a38",
   "metadata": {
    "ExecuteTime": {
     "end_time": "2021-07-22T12:58:03.074346Z",
     "start_time": "2021-07-22T12:58:02.936875Z"
    }
   },
   "outputs": [
    {
     "name": "stdout",
     "output_type": "stream",
     "text": [
      "[21:58:02] WARNING: src/objective/regression_obj.cu:152: reg:linear is now deprecated in favor of reg:squarederror.\n"
     ]
    }
   ],
   "source": [
    "import xgboost\n",
    "\n",
    "xgb = xgboost.XGBRegressor()\n",
    "\n",
    "xgb.fit(x_train, y_train)\n",
    "\n",
    "pred = xgb.predict(x_test)"
   ]
  },
  {
   "cell_type": "markdown",
   "id": "3cdb2ee3",
   "metadata": {},
   "source": [
    "# 예측 데이터셋 생성"
   ]
  },
  {
   "cell_type": "code",
   "execution_count": 20,
   "id": "17af2b82",
   "metadata": {
    "ExecuteTime": {
     "end_time": "2021-07-22T12:58:03.090129Z",
     "start_time": "2021-07-22T12:58:03.074346Z"
    }
   },
   "outputs": [],
   "source": [
    "df = []\n",
    "df = pd.DataFrame(df)\n",
    "df['code'] = test['단지코드']\n",
    "df['num'] = pred\n",
    "sub = df.groupby(['code'],sort=False,as_index=False).mean()"
   ]
  },
  {
   "cell_type": "code",
   "execution_count": 21,
   "id": "25f3d6bd",
   "metadata": {
    "ExecuteTime": {
     "end_time": "2021-07-22T12:58:03.105963Z",
     "start_time": "2021-07-22T12:58:03.090129Z"
    }
   },
   "outputs": [
    {
     "data": {
      "text/html": [
       "<div>\n",
       "<style scoped>\n",
       "    .dataframe tbody tr th:only-of-type {\n",
       "        vertical-align: middle;\n",
       "    }\n",
       "\n",
       "    .dataframe tbody tr th {\n",
       "        vertical-align: top;\n",
       "    }\n",
       "\n",
       "    .dataframe thead th {\n",
       "        text-align: right;\n",
       "    }\n",
       "</style>\n",
       "<table border=\"1\" class=\"dataframe\">\n",
       "  <thead>\n",
       "    <tr style=\"text-align: right;\">\n",
       "      <th></th>\n",
       "      <th>code</th>\n",
       "      <th>num</th>\n",
       "    </tr>\n",
       "  </thead>\n",
       "  <tbody>\n",
       "    <tr>\n",
       "      <th>0</th>\n",
       "      <td>C1072</td>\n",
       "      <td>696.358887</td>\n",
       "    </tr>\n",
       "    <tr>\n",
       "      <th>1</th>\n",
       "      <td>C1128</td>\n",
       "      <td>1199.364014</td>\n",
       "    </tr>\n",
       "    <tr>\n",
       "      <th>2</th>\n",
       "      <td>C1456</td>\n",
       "      <td>601.295471</td>\n",
       "    </tr>\n",
       "    <tr>\n",
       "      <th>3</th>\n",
       "      <td>C1840</td>\n",
       "      <td>557.970764</td>\n",
       "    </tr>\n",
       "    <tr>\n",
       "      <th>4</th>\n",
       "      <td>C1332</td>\n",
       "      <td>1090.653198</td>\n",
       "    </tr>\n",
       "  </tbody>\n",
       "</table>\n",
       "</div>"
      ],
      "text/plain": [
       "    code          num\n",
       "0  C1072   696.358887\n",
       "1  C1128  1199.364014\n",
       "2  C1456   601.295471\n",
       "3  C1840   557.970764\n",
       "4  C1332  1090.653198"
      ]
     },
     "execution_count": 21,
     "metadata": {},
     "output_type": "execute_result"
    }
   ],
   "source": [
    "# sub.to_csv('xgb.csv', index=False)\n",
    "sub.head()"
   ]
  },
  {
   "cell_type": "markdown",
   "id": "687e0ff0",
   "metadata": {},
   "source": [
    "# 모델 평가"
   ]
  },
  {
   "cell_type": "code",
   "execution_count": 22,
   "id": "de44c510",
   "metadata": {
    "ExecuteTime": {
     "end_time": "2021-07-22T12:58:03.578948Z",
     "start_time": "2021-07-22T12:58:03.105963Z"
    }
   },
   "outputs": [
    {
     "name": "stdout",
     "output_type": "stream",
     "text": [
      "mae : 28.853726287262873\n",
      "r2_score : 0.9783652648951725\n"
     ]
    }
   ],
   "source": [
    "from sklearn.model_selection import train_test_split\n",
    "\n",
    "x = train_data.iloc[:,:7]\n",
    "y = train_data.iloc[:,-1]\n",
    "\n",
    "x_train, x_test, y_train, y_test = train_test_split(x,y, random_state=0)\n",
    "\n",
    "from sklearn.ensemble import RandomForestRegressor\n",
    "\n",
    "forest = RandomForestRegressor(random_state=0)\n",
    "\n",
    "forest.fit(x_train, y_train)\n",
    "\n",
    "pred = forest.predict(x_test)\n",
    "\n",
    "from sklearn.metrics import mean_absolute_error\n",
    "print(\"mae :\",mean_absolute_error(y_test, pred))\n",
    "\n",
    "from sklearn.metrics import r2_score\n",
    "print(\"r2_score :\",r2_score(y_test, pred))"
   ]
  },
  {
   "cell_type": "code",
   "execution_count": 23,
   "id": "fc13aaf0",
   "metadata": {
    "ExecuteTime": {
     "end_time": "2021-07-22T12:58:03.658754Z",
     "start_time": "2021-07-22T12:58:03.578948Z"
    }
   },
   "outputs": [
    {
     "name": "stdout",
     "output_type": "stream",
     "text": [
      "[21:58:03] WARNING: src/objective/regression_obj.cu:152: reg:linear is now deprecated in favor of reg:squarederror.\n",
      "mae : 86.0129791818014\n",
      "r2_score : 0.9169686194635103\n"
     ]
    }
   ],
   "source": [
    "from sklearn.model_selection import train_test_split\n",
    "\n",
    "x = train_data.iloc[:,:7]\n",
    "y = train_data.iloc[:,-1]\n",
    "\n",
    "x_train, x_test, y_train, y_test = train_test_split(x,y, random_state=0)\n",
    "\n",
    "import xgboost\n",
    "\n",
    "xgb = xgboost.XGBRegressor(random_state=0)\n",
    "\n",
    "xgb.fit(x_train, y_train)\n",
    "\n",
    "pred = xgb.predict(x_test)\n",
    "\n",
    "from sklearn.metrics import mean_absolute_error\n",
    "print(\"mae :\",mean_absolute_error(y_test, pred))\n",
    "\n",
    "from sklearn.metrics import r2_score\n",
    "print(\"r2_score :\",r2_score(y_test, pred))"
   ]
  }
 ],
 "metadata": {
  "kernelspec": {
   "display_name": "Python 3",
   "language": "python",
   "name": "python3"
  },
  "language_info": {
   "codemirror_mode": {
    "name": "ipython",
    "version": 3
   },
   "file_extension": ".py",
   "mimetype": "text/x-python",
   "name": "python",
   "nbconvert_exporter": "python",
   "pygments_lexer": "ipython3",
   "version": "3.7.10"
  },
  "toc": {
   "base_numbering": 1,
   "nav_menu": {},
   "number_sections": true,
   "sideBar": true,
   "skip_h1_title": false,
   "title_cell": "Table of Contents",
   "title_sidebar": "Contents",
   "toc_cell": false,
   "toc_position": {},
   "toc_section_display": true,
   "toc_window_display": false
  },
  "varInspector": {
   "cols": {
    "lenName": 16,
    "lenType": 16,
    "lenVar": 40
   },
   "kernels_config": {
    "python": {
     "delete_cmd_postfix": "",
     "delete_cmd_prefix": "del ",
     "library": "var_list.py",
     "varRefreshCmd": "print(var_dic_list())"
    },
    "r": {
     "delete_cmd_postfix": ") ",
     "delete_cmd_prefix": "rm(",
     "library": "var_list.r",
     "varRefreshCmd": "cat(var_dic_list()) "
    }
   },
   "types_to_exclude": [
    "module",
    "function",
    "builtin_function_or_method",
    "instance",
    "_Feature"
   ],
   "window_display": false
  }
 },
 "nbformat": 4,
 "nbformat_minor": 5
}
