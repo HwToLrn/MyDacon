{
 "cells": [
  {
   "cell_type": "markdown",
   "id": "b086bf34",
   "metadata": {},
   "source": [
    "# 추가사항\n",
    "#### V3.2_주차수요예측(최종)\n",
    "#### '-' 데이터 처리를 위한 함수 추가\n",
    "#### train/test 유형별 임대보증금/임대료 '-' 데이터 처리"
   ]
  },
  {
   "cell_type": "code",
   "execution_count": 48,
   "id": "1fb9d7bd",
   "metadata": {
    "ExecuteTime": {
     "end_time": "2021-07-23T13:38:44.529522Z",
     "start_time": "2021-07-23T13:38:44.505556Z"
    }
   },
   "outputs": [],
   "source": [
    "import pandas as pd\n",
    "import numpy as np"
   ]
  },
  {
   "cell_type": "markdown",
   "id": "20ec0eb8",
   "metadata": {},
   "source": [
    "# 데이터 불러오기"
   ]
  },
  {
   "cell_type": "code",
   "execution_count": 65,
   "id": "b9fe2f84",
   "metadata": {
    "ExecuteTime": {
     "end_time": "2021-07-23T13:50:56.090152Z",
     "start_time": "2021-07-23T13:50:56.066152Z"
    }
   },
   "outputs": [],
   "source": [
    "train = pd.read_csv('./data/train.csv')\n",
    "test = pd.read_csv('./data/test.csv')\n",
    "submission = pd.read_csv('./data/sample_submission.csv')"
   ]
  },
  {
   "cell_type": "markdown",
   "id": "588229ba",
   "metadata": {},
   "source": [
    "# 전용면적당 법정주차대수 "
   ]
  },
  {
   "cell_type": "markdown",
   "id": "6dc41a87",
   "metadata": {},
   "source": [
    "## 법정주차대수 Column 추가"
   ]
  },
  {
   "cell_type": "code",
   "execution_count": 43,
   "id": "b7a6082e",
   "metadata": {
    "ExecuteTime": {
     "end_time": "2021-07-23T09:16:36.962783Z",
     "start_time": "2021-07-23T09:16:36.954749Z"
    }
   },
   "outputs": [],
   "source": [
    "train.insert(loc=14, column='법정주차대수', value=0.0)"
   ]
  },
  {
   "cell_type": "markdown",
   "id": "5d603b2c",
   "metadata": {},
   "source": [
    "## 전용면적을 지역별 각 지역 기준으로 나누기"
   ]
  },
  {
   "cell_type": "code",
   "execution_count": 44,
   "id": "1c595fbc",
   "metadata": {
    "ExecuteTime": {
     "end_time": "2021-07-23T09:16:37.691268Z",
     "start_time": "2021-07-23T09:16:37.683266Z"
    }
   },
   "outputs": [],
   "source": [
    "def PlaceParkingDivision(dataframe, place_colNames ,denominatorLessNum, denominatorExceedNum):\n",
    "    df = dataframe.copy()\n",
    "    \n",
    "    for colName in place_colNames:\n",
    "        idx = df[ (df['지역'] == colName) & (df['전용면적'] <= 85) ].index\n",
    "        df.loc[idx, '법정주차대수'] = df[(df['지역'] == colName) & (df['전용면적'] <= 85) ]['전용면적'] / denominatorLessNum\n",
    "        idx = df[(df['지역'] == colName) & (train['전용면적'] > 85) ].index\n",
    "        df.loc[idx, '법정주차대수'] = df[(df['지역'] == colName) & (df['전용면적'] > 85) ]['전용면적'] / denominatorExceedNum\n",
    "        \n",
    "    return df"
   ]
  },
  {
   "cell_type": "code",
   "execution_count": 17,
   "id": "1b039eff",
   "metadata": {
    "ExecuteTime": {
     "end_time": "2021-07-23T08:57:17.901301Z",
     "start_time": "2021-07-23T08:57:17.769537Z"
    },
    "scrolled": true
   },
   "outputs": [],
   "source": [
    "# for문 columns 설정\n",
    "Gwang_colNames = ['부산광역시', '대전광역시', '광주광역시', '울산광역시', '대구광역시', '세종특별자치시', '경기도']\n",
    "Other_colNames = ['경상북도', '경상남도', '전라북도', '전라남도', '강원도', '충청남도', '충청북도', '제주특별자치도']\n",
    "\n",
    "# Train\n",
    "# 1. 서울특별시 \n",
    "# - 전용면적 {85이하 - 75} | {85초과 - 65} 나누기\n",
    "train = PlaceParkingDivision(train, ['서울특별시'], 75, 65)\n",
    "\n",
    "# 2. 광역시 + 경기도\n",
    "# - 전용면적 {85이하 - 85} | {85초과 - 70} 나누기\n",
    "train = PlaceParkingDivision(train, Gwang_colNames, 85, 70)\n",
    "    \n",
    "# 강원도, 충청남도 등 (1과 2 제외한 나머지 지역 OO도)\n",
    "# - 전용면적 {85이하 - 95} | {85초과 - 75} 나누기\n",
    "train = PlaceParkingDivision(train, Other_colNames, 95, 75)\n",
    "    \n",
    "# Test\n",
    "# 2. 광역시 + 경기도\n",
    "# - 전용면적 {85이하 - 85} | {85초과 - 70} 나누기\n",
    "test = PlaceParkingDivision(test, Gwang_colNames, 85, 70)\n",
    "    \n",
    "# 강원도, 충청남도 등 (1과 2 제외한 나머지 지역 OO도)\n",
    "# - 전용면적 {85이하 - 95} | {85초과 - 75} 나누기\n",
    "test = PlaceParkingDivision(test, Other_colNames, 95, 75)"
   ]
  },
  {
   "cell_type": "markdown",
   "id": "78d4f7d0",
   "metadata": {},
   "source": [
    "## 법정주차대수 소수점 정리"
   ]
  },
  {
   "cell_type": "code",
   "execution_count": 30,
   "id": "df40d90e",
   "metadata": {
    "ExecuteTime": {
     "end_time": "2021-07-23T09:01:30.217148Z",
     "start_time": "2021-07-23T09:01:30.209113Z"
    }
   },
   "outputs": [],
   "source": [
    "def MyCeil(dataframe, place_colNames):\n",
    "    df = dataframe.copy()\n",
    "    \n",
    "    for colName in place_colNames:\n",
    "        idx = df[ df['지역'] == colName ].index\n",
    "        df.loc[idx, '법정주차대수'] = np.ceil(df[ df['지역'] == colName ]['법정주차대수'])\n",
    "        \n",
    "    return df"
   ]
  },
  {
   "cell_type": "code",
   "execution_count": 5,
   "id": "25603d3e",
   "metadata": {
    "ExecuteTime": {
     "end_time": "2021-07-23T08:35:24.451458Z",
     "start_time": "2021-07-23T08:35:24.377847Z"
    }
   },
   "outputs": [],
   "source": [
    "# Train\n",
    "# 1. 서울특별시 \n",
    "# 1) 전용면적 30이하 : 0.5 고정\n",
    "idx = train[ (train['지역'] == '서울특별시') & (train['전용면적'] <= 30) ].index\n",
    "train.loc[idx, '법정주차대수'] = 0.5\n",
    "\n",
    "# 2) 전용면적 30초과 ~ 60이하 : 0.8 고정\n",
    "idx = train[ (train['지역'] == '서울특별시') & (train['전용면적'] > 30) & (train['전용면적'] <= 60) ].index\n",
    "train.loc[idx, '법정주차대수'] = 0.8\n",
    "\n",
    "# 3) 전용면적 60초과 : 1.xxx -> 2 or 2.xxxx -> 3\n",
    "# - 나머지가 조금이라도 나오면 몫의 값 + 1 => np.ceil 함수 사용\n",
    "idx = train[ (train['지역'] == '서울특별시') & (train['전용면적'] > 60) ].index\n",
    "train.loc[idx, '법정주차대수'] = np.ceil(train[ (train['지역'] == '서울특별시') & (train['전용면적'] > 60) ]['법정주차대수'])\n",
    "\n",
    "# 2. 광역시 + 경기도\n",
    "# - 필요한 조건은 앞서 한 조건(나누기 작업)만 하면 되기 때문에 소수점 올림만 작업하면 된다.\n",
    "train = MyCeil(train, Gwang_colName)\n",
    "\n",
    "# 3. 강원도, 충청남도 등 (1과 2 제외한 나머지 지역 OO도)\n",
    "# - 필요한 조건은 앞서 한 조건(나누기 작업)만 하면 되기 때문에 소수점 올림만 작업하면 된다.\n",
    "train = MyCeil(train, Other_colName)\n",
    "    \n",
    "# Test\n",
    "# 2. 광역시 + 경기도\n",
    "# - 필요한 조건은 앞서 한 조건(나누기 작업)만 하면 되기 때문에 소수점 올림만 작업하면 된다.\n",
    "test = MyCeil(test, Gwang_colName)\n",
    "\n",
    "# 3. 강원도, 충청남도 등 (1과 2 제외한 나머지 지역 OO도)\n",
    "# - 필요한 조건은 앞서 한 조건(나누기 작업)만 하면 되기 때문에 소수점 올림만 작업하면 된다.\n",
    "test = MyCeil(test, Other_colName)"
   ]
  },
  {
   "cell_type": "markdown",
   "id": "4ef63080",
   "metadata": {},
   "source": [
    "# 컬럼명 바꾸기"
   ]
  },
  {
   "cell_type": "code",
   "execution_count": 6,
   "id": "132a465b",
   "metadata": {
    "ExecuteTime": {
     "end_time": "2021-07-23T08:35:24.708577Z",
     "start_time": "2021-07-23T08:35:24.700576Z"
    }
   },
   "outputs": [],
   "source": [
    "train = train.rename(columns={'도보 10분거리 내 지하철역 수(환승노선 수 반영)':'지하철',\n",
    "                     '도보 10분거리 내 버스정류장 수':'버스'})\n",
    "\n",
    "test = test.rename(columns={'도보 10분거리 내 지하철역 수(환승노선 수 반영)':'지하철',\n",
    "                     '도보 10분거리 내 버스정류장 수':'버스'})"
   ]
  },
  {
   "cell_type": "markdown",
   "id": "74c51172",
   "metadata": {},
   "source": [
    "# 결측치 처리"
   ]
  },
  {
   "cell_type": "code",
   "execution_count": 7,
   "id": "d52f5329",
   "metadata": {
    "ExecuteTime": {
     "end_time": "2021-07-23T08:35:26.178120Z",
     "start_time": "2021-07-23T08:35:26.162087Z"
    }
   },
   "outputs": [
    {
     "name": "stdout",
     "output_type": "stream",
     "text": [
      "-------- train.csv --------\n",
      "단지코드          0\n",
      "총세대수          0\n",
      "임대건물구분        0\n",
      "지역            0\n",
      "공급유형          0\n",
      "전용면적          0\n",
      "전용면적별세대수      0\n",
      "공가수           0\n",
      "자격유형          0\n",
      "임대보증금       569\n",
      "임대료         569\n",
      "지하철         211\n",
      "버스            4\n",
      "단지내주차면수       0\n",
      "법정주차대수        0\n",
      "등록차량수         0\n",
      "dtype: int64\n",
      "-------- test.csv --------\n",
      "단지코드          0\n",
      "총세대수          0\n",
      "임대건물구분        0\n",
      "지역            0\n",
      "공급유형          0\n",
      "전용면적          0\n",
      "전용면적별세대수      0\n",
      "공가수           0\n",
      "자격유형          2\n",
      "임대보증금       180\n",
      "임대료         180\n",
      "지하철          42\n",
      "버스            0\n",
      "단지내주차면수       0\n",
      "법정주차대수        0\n",
      "dtype: int64\n"
     ]
    }
   ],
   "source": [
    "print(\"-------- train.csv --------\")\n",
    "print(train.isnull().sum())\n",
    "print(\"-------- test.csv --------\")\n",
    "print(test.isnull().sum())"
   ]
  },
  {
   "cell_type": "code",
   "execution_count": 8,
   "id": "fd8c741e",
   "metadata": {
    "ExecuteTime": {
     "end_time": "2021-07-23T08:35:26.474616Z",
     "start_time": "2021-07-23T08:35:26.458649Z"
    }
   },
   "outputs": [],
   "source": [
    "# train 데이터\n",
    "# train['임대보증금'] = train['임대보증금'].fillna(0)\n",
    "# train['임대료'] = train['임대료'].fillna(0)\n",
    "train['지하철'] = train['지하철'].fillna(0)\n",
    "train['버스'] = train['버스'].fillna(0)\n",
    "\n",
    "# test 데이터\n",
    "# test['임대보증금'] = test['임대보증금'].fillna(0)\n",
    "# test['임대료'] = test['임대료'].fillna(0)\n",
    "test['지하철'] = test['지하철'].fillna(0)\n",
    "\n",
    "test.loc[test.단지코드.isin(['C2411']) & test.자격유형.isnull(), '자격유형'] = 'A'\n",
    "test.loc[test.단지코드.isin(['C2253']) & test.자격유형.isnull(), '자격유형'] = 'C'"
   ]
  },
  {
   "cell_type": "code",
   "execution_count": 9,
   "id": "b9ebc47a",
   "metadata": {
    "ExecuteTime": {
     "end_time": "2021-07-23T08:35:26.879242Z",
     "start_time": "2021-07-23T08:35:26.855236Z"
    }
   },
   "outputs": [
    {
     "name": "stdout",
     "output_type": "stream",
     "text": [
      "-------- train.csv --------\n",
      "단지코드          0\n",
      "총세대수          0\n",
      "임대건물구분        0\n",
      "지역            0\n",
      "공급유형          0\n",
      "전용면적          0\n",
      "전용면적별세대수      0\n",
      "공가수           0\n",
      "자격유형          0\n",
      "임대보증금       569\n",
      "임대료         569\n",
      "지하철           0\n",
      "버스            0\n",
      "단지내주차면수       0\n",
      "법정주차대수        0\n",
      "등록차량수         0\n",
      "dtype: int64\n",
      "-------- test.csv --------\n",
      "단지코드          0\n",
      "총세대수          0\n",
      "임대건물구분        0\n",
      "지역            0\n",
      "공급유형          0\n",
      "전용면적          0\n",
      "전용면적별세대수      0\n",
      "공가수           0\n",
      "자격유형          0\n",
      "임대보증금       180\n",
      "임대료         180\n",
      "지하철           0\n",
      "버스            0\n",
      "단지내주차면수       0\n",
      "법정주차대수        0\n",
      "dtype: int64\n"
     ]
    }
   ],
   "source": [
    "print(\"-------- train.csv --------\")\n",
    "print(train.isnull().sum())\n",
    "print(\"-------- test.csv --------\")\n",
    "print(test.isnull().sum())"
   ]
  },
  {
   "cell_type": "markdown",
   "id": "91c56e44",
   "metadata": {},
   "source": [
    "# '-' 데이터 처리"
   ]
  },
  {
   "cell_type": "code",
   "execution_count": 10,
   "id": "5bfab98c",
   "metadata": {
    "ExecuteTime": {
     "end_time": "2021-07-23T08:35:28.178058Z",
     "start_time": "2021-07-23T08:35:28.170025Z"
    }
   },
   "outputs": [],
   "source": [
    "def HyphenDataProc(dataframe, demandName, qualificationName, getName, collection_range):\n",
    "    df = dataframe.copy()\n",
    "    cost_mean = []\n",
    "    \n",
    "    # 수집할 +/- 범위\n",
    "    collection_range = collection_range\n",
    "    \n",
    "    # 자격유형 'H'이면서  임대료/임대보증금 '-'인 것들의 전용면적 가져오기\n",
    "    area_list = df[(df[getName]=='-')&(df['자격유형']==qualificationName)]['전용면적'].to_list()\n",
    "\n",
    "    # 조건문\n",
    "    # '국민임대' & 'H' & '-' & 면적-0.5 이상 & 면적+0.5 이하 \n",
    "    for area in area_list:\n",
    "        cost_mean.append( np.mean(df[ (df['공급유형'] == demandName) & (df['자격유형'] == qualificationName) & (df[getName] != '-') \n",
    "          & (df['전용면적'] >= (area-collection_range)) & (df['전용면적'] <= (area+collection_range)) ][getName].values.astype(float)) )\n",
    "\n",
    "    # 데이터 입력\n",
    "    idx = df[(df[getName]=='-')&(df['자격유형']==qualificationName)].index\n",
    "    df.loc[idx, getName] = cost_mean\n",
    "    \n",
    "    return df"
   ]
  },
  {
   "cell_type": "markdown",
   "id": "6399bde6",
   "metadata": {},
   "source": [
    "## 장기전세 임대료 데이터 처리"
   ]
  },
  {
   "cell_type": "code",
   "execution_count": 11,
   "id": "84adb92d",
   "metadata": {
    "ExecuteTime": {
     "end_time": "2021-07-23T08:35:28.919242Z",
     "start_time": "2021-07-23T08:35:28.911211Z"
    }
   },
   "outputs": [],
   "source": [
    "idx = train[train['공급유형'] == '장기전세'].index\n",
    "train.loc[idx, '임대료'] = 0.0"
   ]
  },
  {
   "cell_type": "markdown",
   "id": "578e657c",
   "metadata": {},
   "source": [
    "## 유형별 임대보증금/임대료 '-' 데이터 처리"
   ]
  },
  {
   "cell_type": "code",
   "execution_count": 12,
   "id": "0139f65f",
   "metadata": {
    "ExecuteTime": {
     "end_time": "2021-07-23T08:35:30.354588Z",
     "start_time": "2021-07-23T08:35:30.266379Z"
    }
   },
   "outputs": [],
   "source": [
    "# Train 공급유형 '국민임대' & 자격유형 'H' & 임대료/임대보증금 '-' 데이터 처리\n",
    "train = HyphenDataProc(train, '국민임대', 'H', '임대료', 0.5)\n",
    "train = HyphenDataProc(train, '국민임대', 'H', '임대보증금', 0.5)\n",
    "\n",
    "# Train 공급유형 '행복주택' & 자격유형 'K' & 임대료/임대보증금 '-' 데이터 처리\n",
    "train = HyphenDataProc(train, '행복주택', 'K', '임대료', 0.5)\n",
    "train = HyphenDataProc(train, '행복주택', 'K', '임대보증금', 0.5)\n",
    "\n",
    "# Test 공급유형 '행복주택' & 자격유형 'L' & 임대료/임대보증금 '-' 데이터 처리\n",
    "test = HyphenDataProc(test, '행복주택', 'L', '임대료', 0.5)\n",
    "test = HyphenDataProc(test, '행복주택', 'L', '임대보증금', 0.5)\n",
    "\n",
    "# Test 공급유형 '영구임대' & 자격유형 'C' & 임대료/임대보증금 '-' 데이터 처리\n",
    "test = HyphenDataProc(test, '영구임대', 'C', '임대료', 1.5)\n",
    "test = HyphenDataProc(test, '영구임대', 'C', '임대보증금', 1.5)"
   ]
  },
  {
   "cell_type": "markdown",
   "id": "1f6f42ab",
   "metadata": {},
   "source": [
    "# 영구임대 임대보증금/임대료 결측치에 대하여"
   ]
  },
  {
   "cell_type": "code",
   "execution_count": 24,
   "id": "11144773",
   "metadata": {
    "ExecuteTime": {
     "end_time": "2021-07-23T08:19:33.737159Z",
     "start_time": "2021-07-23T08:19:33.707488Z"
    }
   },
   "outputs": [
    {
     "name": "stdout",
     "output_type": "stream",
     "text": [
      "임대보증금 결측치 개수 :  180 / 임대료 결측치 개수 :  180\n"
     ]
    },
    {
     "data": {
      "text/html": [
       "<div>\n",
       "<style scoped>\n",
       "    .dataframe tbody tr th:only-of-type {\n",
       "        vertical-align: middle;\n",
       "    }\n",
       "\n",
       "    .dataframe tbody tr th {\n",
       "        vertical-align: top;\n",
       "    }\n",
       "\n",
       "    .dataframe thead th {\n",
       "        text-align: right;\n",
       "    }\n",
       "</style>\n",
       "<table border=\"1\" class=\"dataframe\">\n",
       "  <thead>\n",
       "    <tr style=\"text-align: right;\">\n",
       "      <th></th>\n",
       "      <th>단지코드</th>\n",
       "      <th>총세대수</th>\n",
       "      <th>임대건물구분</th>\n",
       "      <th>지역</th>\n",
       "      <th>공급유형</th>\n",
       "      <th>전용면적</th>\n",
       "      <th>전용면적별세대수</th>\n",
       "      <th>공가수</th>\n",
       "      <th>자격유형</th>\n",
       "      <th>임대보증금</th>\n",
       "      <th>임대료</th>\n",
       "      <th>지하철</th>\n",
       "      <th>버스</th>\n",
       "      <th>단지내주차면수</th>\n",
       "      <th>법정주차대수</th>\n",
       "    </tr>\n",
       "  </thead>\n",
       "  <tbody>\n",
       "    <tr>\n",
       "      <th>80</th>\n",
       "      <td>C1006</td>\n",
       "      <td>1505</td>\n",
       "      <td>상가</td>\n",
       "      <td>대전광역시</td>\n",
       "      <td>임대상가</td>\n",
       "      <td>38.00</td>\n",
       "      <td>1</td>\n",
       "      <td>27.0</td>\n",
       "      <td>D</td>\n",
       "      <td>NaN</td>\n",
       "      <td>NaN</td>\n",
       "      <td>2.0</td>\n",
       "      <td>5.0</td>\n",
       "      <td>428.0</td>\n",
       "      <td>1.0</td>\n",
       "    </tr>\n",
       "    <tr>\n",
       "      <th>81</th>\n",
       "      <td>C1006</td>\n",
       "      <td>1505</td>\n",
       "      <td>상가</td>\n",
       "      <td>대전광역시</td>\n",
       "      <td>임대상가</td>\n",
       "      <td>38.00</td>\n",
       "      <td>1</td>\n",
       "      <td>27.0</td>\n",
       "      <td>D</td>\n",
       "      <td>NaN</td>\n",
       "      <td>NaN</td>\n",
       "      <td>2.0</td>\n",
       "      <td>5.0</td>\n",
       "      <td>428.0</td>\n",
       "      <td>1.0</td>\n",
       "    </tr>\n",
       "    <tr>\n",
       "      <th>82</th>\n",
       "      <td>C1006</td>\n",
       "      <td>1505</td>\n",
       "      <td>상가</td>\n",
       "      <td>대전광역시</td>\n",
       "      <td>임대상가</td>\n",
       "      <td>37.26</td>\n",
       "      <td>1</td>\n",
       "      <td>27.0</td>\n",
       "      <td>D</td>\n",
       "      <td>NaN</td>\n",
       "      <td>NaN</td>\n",
       "      <td>2.0</td>\n",
       "      <td>5.0</td>\n",
       "      <td>428.0</td>\n",
       "      <td>1.0</td>\n",
       "    </tr>\n",
       "    <tr>\n",
       "      <th>83</th>\n",
       "      <td>C1006</td>\n",
       "      <td>1505</td>\n",
       "      <td>상가</td>\n",
       "      <td>대전광역시</td>\n",
       "      <td>임대상가</td>\n",
       "      <td>37.41</td>\n",
       "      <td>1</td>\n",
       "      <td>27.0</td>\n",
       "      <td>D</td>\n",
       "      <td>NaN</td>\n",
       "      <td>NaN</td>\n",
       "      <td>2.0</td>\n",
       "      <td>5.0</td>\n",
       "      <td>428.0</td>\n",
       "      <td>1.0</td>\n",
       "    </tr>\n",
       "    <tr>\n",
       "      <th>84</th>\n",
       "      <td>C1006</td>\n",
       "      <td>1505</td>\n",
       "      <td>상가</td>\n",
       "      <td>대전광역시</td>\n",
       "      <td>임대상가</td>\n",
       "      <td>37.41</td>\n",
       "      <td>1</td>\n",
       "      <td>27.0</td>\n",
       "      <td>D</td>\n",
       "      <td>NaN</td>\n",
       "      <td>NaN</td>\n",
       "      <td>2.0</td>\n",
       "      <td>5.0</td>\n",
       "      <td>428.0</td>\n",
       "      <td>1.0</td>\n",
       "    </tr>\n",
       "    <tr>\n",
       "      <th>...</th>\n",
       "      <td>...</td>\n",
       "      <td>...</td>\n",
       "      <td>...</td>\n",
       "      <td>...</td>\n",
       "      <td>...</td>\n",
       "      <td>...</td>\n",
       "      <td>...</td>\n",
       "      <td>...</td>\n",
       "      <td>...</td>\n",
       "      <td>...</td>\n",
       "      <td>...</td>\n",
       "      <td>...</td>\n",
       "      <td>...</td>\n",
       "      <td>...</td>\n",
       "      <td>...</td>\n",
       "    </tr>\n",
       "    <tr>\n",
       "      <th>328</th>\n",
       "      <td>C1729</td>\n",
       "      <td>627</td>\n",
       "      <td>상가</td>\n",
       "      <td>강원도</td>\n",
       "      <td>임대상가</td>\n",
       "      <td>32.46</td>\n",
       "      <td>1</td>\n",
       "      <td>0.0</td>\n",
       "      <td>D</td>\n",
       "      <td>NaN</td>\n",
       "      <td>NaN</td>\n",
       "      <td>0.0</td>\n",
       "      <td>5.0</td>\n",
       "      <td>131.0</td>\n",
       "      <td>1.0</td>\n",
       "    </tr>\n",
       "    <tr>\n",
       "      <th>329</th>\n",
       "      <td>C1729</td>\n",
       "      <td>627</td>\n",
       "      <td>상가</td>\n",
       "      <td>강원도</td>\n",
       "      <td>임대상가</td>\n",
       "      <td>34.86</td>\n",
       "      <td>1</td>\n",
       "      <td>0.0</td>\n",
       "      <td>D</td>\n",
       "      <td>NaN</td>\n",
       "      <td>NaN</td>\n",
       "      <td>0.0</td>\n",
       "      <td>5.0</td>\n",
       "      <td>131.0</td>\n",
       "      <td>1.0</td>\n",
       "    </tr>\n",
       "    <tr>\n",
       "      <th>330</th>\n",
       "      <td>C1729</td>\n",
       "      <td>627</td>\n",
       "      <td>상가</td>\n",
       "      <td>강원도</td>\n",
       "      <td>임대상가</td>\n",
       "      <td>35.76</td>\n",
       "      <td>1</td>\n",
       "      <td>0.0</td>\n",
       "      <td>D</td>\n",
       "      <td>NaN</td>\n",
       "      <td>NaN</td>\n",
       "      <td>0.0</td>\n",
       "      <td>5.0</td>\n",
       "      <td>131.0</td>\n",
       "      <td>1.0</td>\n",
       "    </tr>\n",
       "    <tr>\n",
       "      <th>331</th>\n",
       "      <td>C1729</td>\n",
       "      <td>627</td>\n",
       "      <td>상가</td>\n",
       "      <td>강원도</td>\n",
       "      <td>임대상가</td>\n",
       "      <td>50.08</td>\n",
       "      <td>1</td>\n",
       "      <td>0.0</td>\n",
       "      <td>D</td>\n",
       "      <td>NaN</td>\n",
       "      <td>NaN</td>\n",
       "      <td>0.0</td>\n",
       "      <td>5.0</td>\n",
       "      <td>131.0</td>\n",
       "      <td>1.0</td>\n",
       "    </tr>\n",
       "    <tr>\n",
       "      <th>332</th>\n",
       "      <td>C1729</td>\n",
       "      <td>627</td>\n",
       "      <td>상가</td>\n",
       "      <td>강원도</td>\n",
       "      <td>임대상가</td>\n",
       "      <td>240.22</td>\n",
       "      <td>1</td>\n",
       "      <td>0.0</td>\n",
       "      <td>D</td>\n",
       "      <td>NaN</td>\n",
       "      <td>NaN</td>\n",
       "      <td>0.0</td>\n",
       "      <td>5.0</td>\n",
       "      <td>131.0</td>\n",
       "      <td>4.0</td>\n",
       "    </tr>\n",
       "  </tbody>\n",
       "</table>\n",
       "<p>177 rows × 15 columns</p>\n",
       "</div>"
      ],
      "text/plain": [
       "      단지코드  총세대수 임대건물구분     지역  공급유형    전용면적  전용면적별세대수   공가수 자격유형 임대보증금  임대료  \\\n",
       "80   C1006  1505     상가  대전광역시  임대상가   38.00         1  27.0    D   NaN  NaN   \n",
       "81   C1006  1505     상가  대전광역시  임대상가   38.00         1  27.0    D   NaN  NaN   \n",
       "82   C1006  1505     상가  대전광역시  임대상가   37.26         1  27.0    D   NaN  NaN   \n",
       "83   C1006  1505     상가  대전광역시  임대상가   37.41         1  27.0    D   NaN  NaN   \n",
       "84   C1006  1505     상가  대전광역시  임대상가   37.41         1  27.0    D   NaN  NaN   \n",
       "..     ...   ...    ...    ...   ...     ...       ...   ...  ...   ...  ...   \n",
       "328  C1729   627     상가    강원도  임대상가   32.46         1   0.0    D   NaN  NaN   \n",
       "329  C1729   627     상가    강원도  임대상가   34.86         1   0.0    D   NaN  NaN   \n",
       "330  C1729   627     상가    강원도  임대상가   35.76         1   0.0    D   NaN  NaN   \n",
       "331  C1729   627     상가    강원도  임대상가   50.08         1   0.0    D   NaN  NaN   \n",
       "332  C1729   627     상가    강원도  임대상가  240.22         1   0.0    D   NaN  NaN   \n",
       "\n",
       "     지하철   버스  단지내주차면수  법정주차대수  \n",
       "80   2.0  5.0    428.0     1.0  \n",
       "81   2.0  5.0    428.0     1.0  \n",
       "82   2.0  5.0    428.0     1.0  \n",
       "83   2.0  5.0    428.0     1.0  \n",
       "84   2.0  5.0    428.0     1.0  \n",
       "..   ...  ...      ...     ...  \n",
       "328  0.0  5.0    131.0     1.0  \n",
       "329  0.0  5.0    131.0     1.0  \n",
       "330  0.0  5.0    131.0     1.0  \n",
       "331  0.0  5.0    131.0     1.0  \n",
       "332  0.0  5.0    131.0     4.0  \n",
       "\n",
       "[177 rows x 15 columns]"
      ]
     },
     "execution_count": 24,
     "metadata": {},
     "output_type": "execute_result"
    }
   ],
   "source": [
    "# 180\n",
    "print('임대보증금 결측치 개수 : ', len(test[test['임대보증금'].isnull()]), '/ 임대료 결측치 개수 : ', len(test[test['임대료'].isnull()]))\n",
    "test[(test['공급유형']=='임대상가') & (test['임대보증금'].isnull())]"
   ]
  },
  {
   "cell_type": "code",
   "execution_count": 16,
   "id": "98092da5",
   "metadata": {
    "ExecuteTime": {
     "end_time": "2021-07-23T08:14:09.012933Z",
     "start_time": "2021-07-23T08:14:08.988934Z"
    }
   },
   "outputs": [
    {
     "data": {
      "text/html": [
       "<div>\n",
       "<style scoped>\n",
       "    .dataframe tbody tr th:only-of-type {\n",
       "        vertical-align: middle;\n",
       "    }\n",
       "\n",
       "    .dataframe tbody tr th {\n",
       "        vertical-align: top;\n",
       "    }\n",
       "\n",
       "    .dataframe thead th {\n",
       "        text-align: right;\n",
       "    }\n",
       "</style>\n",
       "<table border=\"1\" class=\"dataframe\">\n",
       "  <thead>\n",
       "    <tr style=\"text-align: right;\">\n",
       "      <th></th>\n",
       "      <th>단지코드</th>\n",
       "      <th>총세대수</th>\n",
       "      <th>임대건물구분</th>\n",
       "      <th>지역</th>\n",
       "      <th>공급유형</th>\n",
       "      <th>전용면적</th>\n",
       "      <th>전용면적별세대수</th>\n",
       "      <th>공가수</th>\n",
       "      <th>자격유형</th>\n",
       "      <th>임대보증금</th>\n",
       "      <th>임대료</th>\n",
       "      <th>지하철</th>\n",
       "      <th>버스</th>\n",
       "      <th>단지내주차면수</th>\n",
       "      <th>법정주차대수</th>\n",
       "    </tr>\n",
       "  </thead>\n",
       "  <tbody>\n",
       "    <tr>\n",
       "      <th>76</th>\n",
       "      <td>C1006</td>\n",
       "      <td>1505</td>\n",
       "      <td>아파트</td>\n",
       "      <td>대전광역시</td>\n",
       "      <td>영구임대</td>\n",
       "      <td>26.37</td>\n",
       "      <td>10</td>\n",
       "      <td>27.0</td>\n",
       "      <td>D</td>\n",
       "      <td>NaN</td>\n",
       "      <td>NaN</td>\n",
       "      <td>2.0</td>\n",
       "      <td>5.0</td>\n",
       "      <td>428.0</td>\n",
       "      <td>1.0</td>\n",
       "    </tr>\n",
       "    <tr>\n",
       "      <th>77</th>\n",
       "      <td>C1006</td>\n",
       "      <td>1505</td>\n",
       "      <td>아파트</td>\n",
       "      <td>대전광역시</td>\n",
       "      <td>영구임대</td>\n",
       "      <td>26.37</td>\n",
       "      <td>10</td>\n",
       "      <td>27.0</td>\n",
       "      <td>D</td>\n",
       "      <td>NaN</td>\n",
       "      <td>NaN</td>\n",
       "      <td>2.0</td>\n",
       "      <td>5.0</td>\n",
       "      <td>428.0</td>\n",
       "      <td>1.0</td>\n",
       "    </tr>\n",
       "    <tr>\n",
       "      <th>79</th>\n",
       "      <td>C1006</td>\n",
       "      <td>1505</td>\n",
       "      <td>아파트</td>\n",
       "      <td>대전광역시</td>\n",
       "      <td>영구임대</td>\n",
       "      <td>52.74</td>\n",
       "      <td>6</td>\n",
       "      <td>27.0</td>\n",
       "      <td>D</td>\n",
       "      <td>NaN</td>\n",
       "      <td>NaN</td>\n",
       "      <td>2.0</td>\n",
       "      <td>5.0</td>\n",
       "      <td>428.0</td>\n",
       "      <td>1.0</td>\n",
       "    </tr>\n",
       "  </tbody>\n",
       "</table>\n",
       "</div>"
      ],
      "text/plain": [
       "     단지코드  총세대수 임대건물구분     지역  공급유형   전용면적  전용면적별세대수   공가수 자격유형 임대보증금  임대료  \\\n",
       "76  C1006  1505    아파트  대전광역시  영구임대  26.37        10  27.0    D   NaN  NaN   \n",
       "77  C1006  1505    아파트  대전광역시  영구임대  26.37        10  27.0    D   NaN  NaN   \n",
       "79  C1006  1505    아파트  대전광역시  영구임대  52.74         6  27.0    D   NaN  NaN   \n",
       "\n",
       "    지하철   버스  단지내주차면수  법정주차대수  \n",
       "76  2.0  5.0    428.0     1.0  \n",
       "77  2.0  5.0    428.0     1.0  \n",
       "79  2.0  5.0    428.0     1.0  "
      ]
     },
     "execution_count": 16,
     "metadata": {},
     "output_type": "execute_result"
    }
   ],
   "source": [
    "test[(test['공급유형']=='영구임대') & (test['임대보증금'].isnull())]"
   ]
  },
  {
   "cell_type": "code",
   "execution_count": 18,
   "id": "e06e9321",
   "metadata": {
    "ExecuteTime": {
     "end_time": "2021-07-23T08:14:59.752861Z",
     "start_time": "2021-07-23T08:14:59.720857Z"
    }
   },
   "outputs": [
    {
     "data": {
      "text/html": [
       "<div>\n",
       "<style scoped>\n",
       "    .dataframe tbody tr th:only-of-type {\n",
       "        vertical-align: middle;\n",
       "    }\n",
       "\n",
       "    .dataframe tbody tr th {\n",
       "        vertical-align: top;\n",
       "    }\n",
       "\n",
       "    .dataframe thead th {\n",
       "        text-align: right;\n",
       "    }\n",
       "</style>\n",
       "<table border=\"1\" class=\"dataframe\">\n",
       "  <thead>\n",
       "    <tr style=\"text-align: right;\">\n",
       "      <th></th>\n",
       "      <th>단지코드</th>\n",
       "      <th>총세대수</th>\n",
       "      <th>임대건물구분</th>\n",
       "      <th>지역</th>\n",
       "      <th>공급유형</th>\n",
       "      <th>전용면적</th>\n",
       "      <th>전용면적별세대수</th>\n",
       "      <th>공가수</th>\n",
       "      <th>자격유형</th>\n",
       "      <th>임대보증금</th>\n",
       "      <th>임대료</th>\n",
       "      <th>지하철</th>\n",
       "      <th>버스</th>\n",
       "      <th>단지내주차면수</th>\n",
       "      <th>법정주차대수</th>\n",
       "    </tr>\n",
       "  </thead>\n",
       "  <tbody>\n",
       "    <tr>\n",
       "      <th>73</th>\n",
       "      <td>C1006</td>\n",
       "      <td>1505</td>\n",
       "      <td>아파트</td>\n",
       "      <td>대전광역시</td>\n",
       "      <td>영구임대</td>\n",
       "      <td>26.37</td>\n",
       "      <td>358</td>\n",
       "      <td>27.0</td>\n",
       "      <td>C</td>\n",
       "      <td>5787000</td>\n",
       "      <td>79980</td>\n",
       "      <td>2.0</td>\n",
       "      <td>5.0</td>\n",
       "      <td>428.0</td>\n",
       "      <td>1.0</td>\n",
       "    </tr>\n",
       "    <tr>\n",
       "      <th>74</th>\n",
       "      <td>C1006</td>\n",
       "      <td>1505</td>\n",
       "      <td>아파트</td>\n",
       "      <td>대전광역시</td>\n",
       "      <td>영구임대</td>\n",
       "      <td>26.37</td>\n",
       "      <td>229</td>\n",
       "      <td>27.0</td>\n",
       "      <td>C</td>\n",
       "      <td>5787000</td>\n",
       "      <td>79980</td>\n",
       "      <td>2.0</td>\n",
       "      <td>5.0</td>\n",
       "      <td>428.0</td>\n",
       "      <td>1.0</td>\n",
       "    </tr>\n",
       "    <tr>\n",
       "      <th>75</th>\n",
       "      <td>C1006</td>\n",
       "      <td>1505</td>\n",
       "      <td>아파트</td>\n",
       "      <td>대전광역시</td>\n",
       "      <td>영구임대</td>\n",
       "      <td>26.37</td>\n",
       "      <td>574</td>\n",
       "      <td>27.0</td>\n",
       "      <td>C</td>\n",
       "      <td>5787000</td>\n",
       "      <td>79980</td>\n",
       "      <td>2.0</td>\n",
       "      <td>5.0</td>\n",
       "      <td>428.0</td>\n",
       "      <td>1.0</td>\n",
       "    </tr>\n",
       "    <tr>\n",
       "      <th>76</th>\n",
       "      <td>C1006</td>\n",
       "      <td>1505</td>\n",
       "      <td>아파트</td>\n",
       "      <td>대전광역시</td>\n",
       "      <td>영구임대</td>\n",
       "      <td>26.37</td>\n",
       "      <td>10</td>\n",
       "      <td>27.0</td>\n",
       "      <td>D</td>\n",
       "      <td>NaN</td>\n",
       "      <td>NaN</td>\n",
       "      <td>2.0</td>\n",
       "      <td>5.0</td>\n",
       "      <td>428.0</td>\n",
       "      <td>1.0</td>\n",
       "    </tr>\n",
       "    <tr>\n",
       "      <th>77</th>\n",
       "      <td>C1006</td>\n",
       "      <td>1505</td>\n",
       "      <td>아파트</td>\n",
       "      <td>대전광역시</td>\n",
       "      <td>영구임대</td>\n",
       "      <td>26.37</td>\n",
       "      <td>10</td>\n",
       "      <td>27.0</td>\n",
       "      <td>D</td>\n",
       "      <td>NaN</td>\n",
       "      <td>NaN</td>\n",
       "      <td>2.0</td>\n",
       "      <td>5.0</td>\n",
       "      <td>428.0</td>\n",
       "      <td>1.0</td>\n",
       "    </tr>\n",
       "    <tr>\n",
       "      <th>78</th>\n",
       "      <td>C1006</td>\n",
       "      <td>1505</td>\n",
       "      <td>아파트</td>\n",
       "      <td>대전광역시</td>\n",
       "      <td>영구임대</td>\n",
       "      <td>31.32</td>\n",
       "      <td>298</td>\n",
       "      <td>27.0</td>\n",
       "      <td>C</td>\n",
       "      <td>6873000</td>\n",
       "      <td>94990</td>\n",
       "      <td>2.0</td>\n",
       "      <td>5.0</td>\n",
       "      <td>428.0</td>\n",
       "      <td>1.0</td>\n",
       "    </tr>\n",
       "    <tr>\n",
       "      <th>79</th>\n",
       "      <td>C1006</td>\n",
       "      <td>1505</td>\n",
       "      <td>아파트</td>\n",
       "      <td>대전광역시</td>\n",
       "      <td>영구임대</td>\n",
       "      <td>52.74</td>\n",
       "      <td>6</td>\n",
       "      <td>27.0</td>\n",
       "      <td>D</td>\n",
       "      <td>NaN</td>\n",
       "      <td>NaN</td>\n",
       "      <td>2.0</td>\n",
       "      <td>5.0</td>\n",
       "      <td>428.0</td>\n",
       "      <td>1.0</td>\n",
       "    </tr>\n",
       "  </tbody>\n",
       "</table>\n",
       "</div>"
      ],
      "text/plain": [
       "     단지코드  총세대수 임대건물구분     지역  공급유형   전용면적  전용면적별세대수   공가수 자격유형    임대보증금  \\\n",
       "73  C1006  1505    아파트  대전광역시  영구임대  26.37       358  27.0    C  5787000   \n",
       "74  C1006  1505    아파트  대전광역시  영구임대  26.37       229  27.0    C  5787000   \n",
       "75  C1006  1505    아파트  대전광역시  영구임대  26.37       574  27.0    C  5787000   \n",
       "76  C1006  1505    아파트  대전광역시  영구임대  26.37        10  27.0    D      NaN   \n",
       "77  C1006  1505    아파트  대전광역시  영구임대  26.37        10  27.0    D      NaN   \n",
       "78  C1006  1505    아파트  대전광역시  영구임대  31.32       298  27.0    C  6873000   \n",
       "79  C1006  1505    아파트  대전광역시  영구임대  52.74         6  27.0    D      NaN   \n",
       "\n",
       "      임대료  지하철   버스  단지내주차면수  법정주차대수  \n",
       "73  79980  2.0  5.0    428.0     1.0  \n",
       "74  79980  2.0  5.0    428.0     1.0  \n",
       "75  79980  2.0  5.0    428.0     1.0  \n",
       "76    NaN  2.0  5.0    428.0     1.0  \n",
       "77    NaN  2.0  5.0    428.0     1.0  \n",
       "78  94990  2.0  5.0    428.0     1.0  \n",
       "79    NaN  2.0  5.0    428.0     1.0  "
      ]
     },
     "execution_count": 18,
     "metadata": {},
     "output_type": "execute_result"
    }
   ],
   "source": [
    "# 1. 자격유형 D의 임대보증금/임대료를 자격유형 C의 임대보증금/임대료를 이용해서 값을 채우는 것이 적합한가?\n",
    "# 2. 또 1번이 적절하다면, 차이가 큰 전용면적 52.74짜리의 임대보증금/임대료는 어떻게 채울 것인가?\n",
    "test[(test['공급유형']=='영구임대') & (test['지역'] == '대전광역시')]"
   ]
  },
  {
   "cell_type": "markdown",
   "id": "b8f25c41",
   "metadata": {},
   "source": [
    "# 지하철 Y or N로 변경"
   ]
  },
  {
   "cell_type": "code",
   "execution_count": 112,
   "id": "6e507ba5",
   "metadata": {
    "ExecuteTime": {
     "end_time": "2021-07-23T03:35:43.217303Z",
     "start_time": "2021-07-23T03:35:43.209300Z"
    }
   },
   "outputs": [],
   "source": [
    "train['지하철'] = np.where(train['지하철'] == 0, 0, 1)\n",
    "test['지하철'] = np.where(test['지하철'] == 0, 0, 1)"
   ]
  },
  {
   "cell_type": "markdown",
   "id": "8a53769b",
   "metadata": {},
   "source": [
    "# 임대건물구분 컬럼 처리"
   ]
  },
  {
   "cell_type": "code",
   "execution_count": 113,
   "id": "68ed4522",
   "metadata": {
    "ExecuteTime": {
     "end_time": "2021-07-23T03:35:45.347772Z",
     "start_time": "2021-07-23T03:35:45.323740Z"
    }
   },
   "outputs": [],
   "source": [
    "# 임대건물구분에서 7개의 아파트는 상가로 예상이됨 이를 처리 함.\n",
    "# 임대건물구분이 상가인 경우는 전용면적별세대수도 1이므로 이를 처리 함.\n",
    "\n",
    "idx = train[(train['임대건물구분']=='아파트') & (train['자격유형']=='D')]['전용면적별세대수'].index\n",
    "train.loc[idx, '전용면적별세대수'] = 1\n",
    "train.loc[idx, '임대건물구분'] = '상가'"
   ]
  },
  {
   "cell_type": "markdown",
   "id": "8423be0e",
   "metadata": {},
   "source": [
    "# 지역 데이터를 숫자로 매핑"
   ]
  },
  {
   "cell_type": "code",
   "execution_count": 114,
   "id": "ae9c2154",
   "metadata": {
    "ExecuteTime": {
     "end_time": "2021-07-23T03:35:46.220665Z",
     "start_time": "2021-07-23T03:35:46.196620Z"
    }
   },
   "outputs": [],
   "source": [
    "local_map = {}\n",
    "for i, loc in enumerate(train['지역'].unique()):\n",
    "    local_map[loc] = i\n",
    "    \n",
    "train['지역'] = train['지역'].map(local_map)\n",
    "\n",
    "local_map = {}\n",
    "for i, loc in enumerate(test['지역'].unique()):\n",
    "    local_map[loc] = i\n",
    "    \n",
    "test['지역'] = test['지역'].map(local_map)"
   ]
  },
  {
   "cell_type": "markdown",
   "id": "d32cdf89",
   "metadata": {},
   "source": [
    "# 전용면적을 상/하한 적용"
   ]
  },
  {
   "cell_type": "code",
   "execution_count": 115,
   "id": "cd32d741",
   "metadata": {
    "ExecuteTime": {
     "end_time": "2021-07-23T03:35:47.598950Z",
     "start_time": "2021-07-23T03:35:47.574950Z"
    }
   },
   "outputs": [],
   "source": [
    "# 전용면적을 5의 배수로 변경 후 상/하한 적용\n",
    "# 하한 값 15, 상한 값 100을 적용\n",
    "\n",
    "train['전용면적'] = np.round(train['전용면적'], 0)\n",
    "train['전용면적'] = train['전용면적']//5*5\n",
    "\n",
    "idx = train[train['전용면적']>100].index\n",
    "train.loc[idx, '전용면적'] = 100\n",
    "\n",
    "idx = train[train['전용면적']<15].index\n",
    "train.loc[idx, '전용면적'] = 15\n",
    "\n",
    "test['전용면적'] = np.round(test['전용면적'], 0)\n",
    "test['전용면적'] = test['전용면적']//5*5\n",
    "\n",
    "idx = test[test['전용면적']>100].index\n",
    "test.loc[idx, '전용면적'] = 100\n",
    "\n",
    "idx = test[test['전용면적']<15].index\n",
    "test.loc[idx, '전용면적'] = 15"
   ]
  },
  {
   "cell_type": "markdown",
   "id": "db91203f",
   "metadata": {},
   "source": [
    "# 법정주차수요 만들기"
   ]
  },
  {
   "cell_type": "code",
   "execution_count": 116,
   "id": "662c1ebe",
   "metadata": {
    "ExecuteTime": {
     "end_time": "2021-07-23T03:35:49.069985Z",
     "start_time": "2021-07-23T03:35:49.061985Z"
    }
   },
   "outputs": [],
   "source": [
    "value = train['총세대수'] * train['법정주차대수']\n",
    "train.insert(loc=15, column='법정주차수요', value=value)\n",
    "\n",
    "value = test['총세대수'] * test['법정주차대수']\n",
    "test['법정주차수요'] = value"
   ]
  },
  {
   "cell_type": "markdown",
   "id": "a0f62216",
   "metadata": {},
   "source": [
    "# 아파트 / 상가 데이터 분리"
   ]
  },
  {
   "cell_type": "code",
   "execution_count": 34,
   "id": "951b8f34",
   "metadata": {
    "ExecuteTime": {
     "end_time": "2021-07-22T13:30:46.340348Z",
     "start_time": "2021-07-22T13:30:46.332347Z"
    }
   },
   "outputs": [],
   "source": [
    "# Train\n",
    "apart_train = train[train['임대건물구분'] == '아파트']\n",
    "shop_train = train[train['임대건물구분'] == '상가']\n",
    "\n",
    "# Test\n",
    "apart_test = test[test['임대건물구분'] == '아파트']\n",
    "shop_test = test[test['임대건물구분'] == '상가']"
   ]
  },
  {
   "cell_type": "markdown",
   "id": "48626cd7",
   "metadata": {},
   "source": [
    "# 상관관계"
   ]
  },
  {
   "cell_type": "code",
   "execution_count": null,
   "id": "61503542",
   "metadata": {},
   "outputs": [],
   "source": [
    "pd.DataFrame(apart_train.corr()['등록차량수'].sort_values(ascending=False))"
   ]
  },
  {
   "cell_type": "markdown",
   "id": "013ec571",
   "metadata": {},
   "source": [
    "# 학습 데이터 생성"
   ]
  },
  {
   "cell_type": "code",
   "execution_count": 35,
   "id": "6ff2126b",
   "metadata": {
    "ExecuteTime": {
     "end_time": "2021-07-22T13:30:49.070415Z",
     "start_time": "2021-07-22T13:30:49.046394Z"
    }
   },
   "outputs": [
    {
     "name": "stdout",
     "output_type": "stream",
     "text": [
      "Apart train 데이터: (2383, 8)\n",
      "Shop train 데이터: (569, 8)\n",
      "Apart test 데이터: (845, 7)\n",
      "Shop test 데이터: (177, 7)\n"
     ]
    }
   ],
   "source": [
    "# Train\n",
    "apart_train_data = apart_train[['총세대수','전용면적','전용면적별세대수','공가수','임대보증금','임대료','단지내주차면수','등록차량수']]\n",
    "shop_train_data = shop_train[['총세대수','전용면적','전용면적별세대수','공가수','임대보증금','임대료','단지내주차면수','등록차량수']]\n",
    "\n",
    "# Test\n",
    "apart_test_data = apart_test[['총세대수','전용면적','전용면적별세대수','공가수','임대보증금','임대료','단지내주차면수']]\n",
    "shop_test_data = shop_test[['총세대수','전용면적','전용면적별세대수','공가수','임대보증금','임대료','단지내주차면수']]\n",
    "\n",
    "print(\"Apart train 데이터:\",apart_train_data.shape)\n",
    "print(\"Shop train 데이터:\",shop_train_data.shape)\n",
    "print(\"Apart test 데이터:\",apart_test_data.shape)\n",
    "print(\"Shop test 데이터:\",shop_test_data.shape)"
   ]
  },
  {
   "cell_type": "code",
   "execution_count": 36,
   "id": "1e73b5dd",
   "metadata": {
    "ExecuteTime": {
     "end_time": "2021-07-22T13:30:50.982085Z",
     "start_time": "2021-07-22T13:30:50.958085Z"
    }
   },
   "outputs": [
    {
     "name": "stdout",
     "output_type": "stream",
     "text": [
      "x_apart_train 데이터: (2383, 7)\n",
      "y_apart_train 데이터: (2383,)\n",
      "x_shop_train 데이터: (569, 7)\n",
      "y_shop_train 데이터: (569,)\n",
      "x_apart_test 데이터: (845, 7)\n",
      "x_shop_test 데이터: (177, 7)\n"
     ]
    }
   ],
   "source": [
    "# 데이터 target 설정\n",
    "x_apart_train = apart_train_data.iloc[:,:7]\n",
    "y_apart_train = apart_train_data.iloc[:,-1]\n",
    "\n",
    "x_shop_train = shop_train_data.iloc[:,:7]\n",
    "y_shop_train = shop_train_data.iloc[:,-1]\n",
    "\n",
    "x_apart_test = apart_test_data\n",
    "x_shop_test = shop_test_data\n",
    "\n",
    "print(\"x_apart_train 데이터:\",x_apart_train.shape)\n",
    "print(\"y_apart_train 데이터:\",y_apart_train.shape)\n",
    "print(\"x_shop_train 데이터:\",x_shop_train.shape)\n",
    "print(\"y_shop_train 데이터:\",y_shop_train.shape)\n",
    "print(\"x_apart_test 데이터:\",x_apart_test.shape)\n",
    "print(\"x_shop_test 데이터:\",x_shop_test.shape)"
   ]
  },
  {
   "cell_type": "markdown",
   "id": "da9e1516",
   "metadata": {},
   "source": [
    "# 모델링"
   ]
  },
  {
   "cell_type": "code",
   "execution_count": 18,
   "id": "24543e33",
   "metadata": {
    "ExecuteTime": {
     "end_time": "2021-07-22T12:58:02.936875Z",
     "start_time": "2021-07-22T12:58:01.843537Z"
    }
   },
   "outputs": [],
   "source": [
    "from sklearn.ensemble import RandomForestRegressor\n",
    "\n",
    "forest = RandomForestRegressor(n_jobs=-1, random_state=42)\n",
    "\n",
    "forest.fit(x_train, y_train)\n",
    "\n",
    "pred = forest.predict(x_test)"
   ]
  },
  {
   "cell_type": "code",
   "execution_count": 19,
   "id": "7a059a38",
   "metadata": {
    "ExecuteTime": {
     "end_time": "2021-07-22T12:58:03.074346Z",
     "start_time": "2021-07-22T12:58:02.936875Z"
    }
   },
   "outputs": [
    {
     "name": "stdout",
     "output_type": "stream",
     "text": [
      "[21:58:02] WARNING: src/objective/regression_obj.cu:152: reg:linear is now deprecated in favor of reg:squarederror.\n"
     ]
    }
   ],
   "source": [
    "import xgboost\n",
    "\n",
    "xgb = xgboost.XGBRegressor()\n",
    "\n",
    "xgb.fit(x_train, y_train)\n",
    "\n",
    "pred = xgb.predict(x_test)"
   ]
  },
  {
   "cell_type": "markdown",
   "id": "3cdb2ee3",
   "metadata": {},
   "source": [
    "# 예측 데이터셋 생성"
   ]
  },
  {
   "cell_type": "code",
   "execution_count": 20,
   "id": "17af2b82",
   "metadata": {
    "ExecuteTime": {
     "end_time": "2021-07-22T12:58:03.090129Z",
     "start_time": "2021-07-22T12:58:03.074346Z"
    }
   },
   "outputs": [],
   "source": [
    "df = []\n",
    "df = pd.DataFrame(df)\n",
    "df['code'] = test['단지코드']\n",
    "df['num'] = pred\n",
    "sub = df.groupby(['code'],sort=False,as_index=False).mean()"
   ]
  },
  {
   "cell_type": "code",
   "execution_count": 21,
   "id": "25f3d6bd",
   "metadata": {
    "ExecuteTime": {
     "end_time": "2021-07-22T12:58:03.105963Z",
     "start_time": "2021-07-22T12:58:03.090129Z"
    }
   },
   "outputs": [
    {
     "data": {
      "text/html": [
       "<div>\n",
       "<style scoped>\n",
       "    .dataframe tbody tr th:only-of-type {\n",
       "        vertical-align: middle;\n",
       "    }\n",
       "\n",
       "    .dataframe tbody tr th {\n",
       "        vertical-align: top;\n",
       "    }\n",
       "\n",
       "    .dataframe thead th {\n",
       "        text-align: right;\n",
       "    }\n",
       "</style>\n",
       "<table border=\"1\" class=\"dataframe\">\n",
       "  <thead>\n",
       "    <tr style=\"text-align: right;\">\n",
       "      <th></th>\n",
       "      <th>code</th>\n",
       "      <th>num</th>\n",
       "    </tr>\n",
       "  </thead>\n",
       "  <tbody>\n",
       "    <tr>\n",
       "      <th>0</th>\n",
       "      <td>C1072</td>\n",
       "      <td>696.358887</td>\n",
       "    </tr>\n",
       "    <tr>\n",
       "      <th>1</th>\n",
       "      <td>C1128</td>\n",
       "      <td>1199.364014</td>\n",
       "    </tr>\n",
       "    <tr>\n",
       "      <th>2</th>\n",
       "      <td>C1456</td>\n",
       "      <td>601.295471</td>\n",
       "    </tr>\n",
       "    <tr>\n",
       "      <th>3</th>\n",
       "      <td>C1840</td>\n",
       "      <td>557.970764</td>\n",
       "    </tr>\n",
       "    <tr>\n",
       "      <th>4</th>\n",
       "      <td>C1332</td>\n",
       "      <td>1090.653198</td>\n",
       "    </tr>\n",
       "  </tbody>\n",
       "</table>\n",
       "</div>"
      ],
      "text/plain": [
       "    code          num\n",
       "0  C1072   696.358887\n",
       "1  C1128  1199.364014\n",
       "2  C1456   601.295471\n",
       "3  C1840   557.970764\n",
       "4  C1332  1090.653198"
      ]
     },
     "execution_count": 21,
     "metadata": {},
     "output_type": "execute_result"
    }
   ],
   "source": [
    "# sub.to_csv('xgb.csv', index=False)\n",
    "sub.head()"
   ]
  },
  {
   "cell_type": "markdown",
   "id": "687e0ff0",
   "metadata": {},
   "source": [
    "# 모델 평가"
   ]
  },
  {
   "cell_type": "code",
   "execution_count": 22,
   "id": "de44c510",
   "metadata": {
    "ExecuteTime": {
     "end_time": "2021-07-22T12:58:03.578948Z",
     "start_time": "2021-07-22T12:58:03.105963Z"
    }
   },
   "outputs": [
    {
     "name": "stdout",
     "output_type": "stream",
     "text": [
      "mae : 28.853726287262873\n",
      "r2_score : 0.9783652648951725\n"
     ]
    }
   ],
   "source": [
    "from sklearn.model_selection import train_test_split\n",
    "\n",
    "x = train_data.iloc[:,:7]\n",
    "y = train_data.iloc[:,-1]\n",
    "\n",
    "x_train, x_test, y_train, y_test = train_test_split(x,y, random_state=0)\n",
    "\n",
    "from sklearn.ensemble import RandomForestRegressor\n",
    "\n",
    "forest = RandomForestRegressor(random_state=0)\n",
    "\n",
    "forest.fit(x_train, y_train)\n",
    "\n",
    "pred = forest.predict(x_test)\n",
    "\n",
    "from sklearn.metrics import mean_absolute_error\n",
    "print(\"mae :\",mean_absolute_error(y_test, pred))\n",
    "\n",
    "from sklearn.metrics import r2_score\n",
    "print(\"r2_score :\",r2_score(y_test, pred))"
   ]
  },
  {
   "cell_type": "code",
   "execution_count": 23,
   "id": "fc13aaf0",
   "metadata": {
    "ExecuteTime": {
     "end_time": "2021-07-22T12:58:03.658754Z",
     "start_time": "2021-07-22T12:58:03.578948Z"
    }
   },
   "outputs": [
    {
     "name": "stdout",
     "output_type": "stream",
     "text": [
      "[21:58:03] WARNING: src/objective/regression_obj.cu:152: reg:linear is now deprecated in favor of reg:squarederror.\n",
      "mae : 86.0129791818014\n",
      "r2_score : 0.9169686194635103\n"
     ]
    }
   ],
   "source": [
    "from sklearn.model_selection import train_test_split\n",
    "\n",
    "x = train_data.iloc[:,:7]\n",
    "y = train_data.iloc[:,-1]\n",
    "\n",
    "x_train, x_test, y_train, y_test = train_test_split(x,y, random_state=0)\n",
    "\n",
    "import xgboost\n",
    "\n",
    "xgb = xgboost.XGBRegressor(random_state=0)\n",
    "\n",
    "xgb.fit(x_train, y_train)\n",
    "\n",
    "pred = xgb.predict(x_test)\n",
    "\n",
    "from sklearn.metrics import mean_absolute_error\n",
    "print(\"mae :\",mean_absolute_error(y_test, pred))\n",
    "\n",
    "from sklearn.metrics import r2_score\n",
    "print(\"r2_score :\",r2_score(y_test, pred))"
   ]
  }
 ],
 "metadata": {
  "kernelspec": {
   "display_name": "Python 3",
   "language": "python",
   "name": "python3"
  },
  "language_info": {
   "codemirror_mode": {
    "name": "ipython",
    "version": 3
   },
   "file_extension": ".py",
   "mimetype": "text/x-python",
   "name": "python",
   "nbconvert_exporter": "python",
   "pygments_lexer": "ipython3",
   "version": "3.7.10"
  },
  "toc": {
   "base_numbering": 1,
   "nav_menu": {},
   "number_sections": true,
   "sideBar": true,
   "skip_h1_title": false,
   "title_cell": "Table of Contents",
   "title_sidebar": "Contents",
   "toc_cell": false,
   "toc_position": {},
   "toc_section_display": true,
   "toc_window_display": false
  },
  "varInspector": {
   "cols": {
    "lenName": 16,
    "lenType": 16,
    "lenVar": 40
   },
   "kernels_config": {
    "python": {
     "delete_cmd_postfix": "",
     "delete_cmd_prefix": "del ",
     "library": "var_list.py",
     "varRefreshCmd": "print(var_dic_list())"
    },
    "r": {
     "delete_cmd_postfix": ") ",
     "delete_cmd_prefix": "rm(",
     "library": "var_list.r",
     "varRefreshCmd": "cat(var_dic_list()) "
    }
   },
   "types_to_exclude": [
    "module",
    "function",
    "builtin_function_or_method",
    "instance",
    "_Feature"
   ],
   "window_display": false
  }
 },
 "nbformat": 4,
 "nbformat_minor": 5
}
