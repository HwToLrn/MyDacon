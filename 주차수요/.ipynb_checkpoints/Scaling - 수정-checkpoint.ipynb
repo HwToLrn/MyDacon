{
 "cells": [
  {
   "cell_type": "code",
   "execution_count": 51,
   "id": "f5d8c700",
   "metadata": {
    "ExecuteTime": {
     "end_time": "2021-07-21T09:16:10.197468Z",
     "start_time": "2021-07-21T09:16:10.185531Z"
    }
   },
   "outputs": [],
   "source": [
    "%matplotlib inline\n",
    "%config InlineBackend.figure_format = 'retina'"
   ]
  },
  {
   "cell_type": "code",
   "execution_count": 52,
   "id": "fde9e222",
   "metadata": {
    "ExecuteTime": {
     "end_time": "2021-07-21T09:16:10.229382Z",
     "start_time": "2021-07-21T09:16:10.198477Z"
    },
    "executionInfo": {
     "elapsed": 1506,
     "status": "ok",
     "timestamp": 1626418405988,
     "user": {
      "displayName": "박재완",
      "photoUrl": "",
      "userId": "18327523315282194311"
     },
     "user_tz": -540
    },
    "id": "fde9e222"
   },
   "outputs": [],
   "source": [
    "import pandas as pd\n",
    "import numpy as np\n",
    "from sklearn.ensemble import RandomForestRegressor\n",
    "from tqdm import tqdm\n",
    "import matplotlib.pyplot as plt\n",
    "import seaborn as sns\n",
    "pd.options.display.float_format = '{:.5f}'.format"
   ]
  },
  {
   "cell_type": "markdown",
   "id": "8371ff54",
   "metadata": {
    "id": "8371ff54"
   },
   "source": [
    "# 데이터 불러오기"
   ]
  },
  {
   "cell_type": "code",
   "execution_count": 73,
   "id": "cdbae582",
   "metadata": {
    "ExecuteTime": {
     "end_time": "2021-07-21T10:23:34.318082Z",
     "start_time": "2021-07-21T10:23:34.291441Z"
    }
   },
   "outputs": [],
   "source": [
    "train = pd.read_csv('data/train.csv')\n",
    "test = pd.read_csv('data/test.csv')\n",
    "car_2020 = pd.read_csv('data/car_2020.csv',encoding='cp949')\n",
    "age = pd.read_csv('data/age_gender_info.csv')\n",
    "submission = pd.read_csv('data/sample_submission.csv')"
   ]
  },
  {
   "cell_type": "code",
   "execution_count": 74,
   "id": "254ca72a",
   "metadata": {
    "ExecuteTime": {
     "end_time": "2021-07-21T10:23:44.846619Z",
     "start_time": "2021-07-21T10:23:44.818516Z"
    }
   },
   "outputs": [
    {
     "data": {
      "text/html": [
       "<div>\n",
       "<style scoped>\n",
       "    .dataframe tbody tr th:only-of-type {\n",
       "        vertical-align: middle;\n",
       "    }\n",
       "\n",
       "    .dataframe tbody tr th {\n",
       "        vertical-align: top;\n",
       "    }\n",
       "\n",
       "    .dataframe thead th {\n",
       "        text-align: right;\n",
       "    }\n",
       "</style>\n",
       "<table border=\"1\" class=\"dataframe\">\n",
       "  <thead>\n",
       "    <tr style=\"text-align: right;\">\n",
       "      <th></th>\n",
       "      <th>단지코드</th>\n",
       "      <th>총세대수</th>\n",
       "      <th>임대건물구분</th>\n",
       "      <th>지역</th>\n",
       "      <th>공급유형</th>\n",
       "      <th>전용면적</th>\n",
       "      <th>전용면적별세대수</th>\n",
       "      <th>공가수</th>\n",
       "      <th>자격유형</th>\n",
       "      <th>임대보증금</th>\n",
       "      <th>임대료</th>\n",
       "      <th>도보 10분거리 내 지하철역 수(환승노선 수 반영)</th>\n",
       "      <th>도보 10분거리 내 버스정류장 수</th>\n",
       "      <th>단지내주차면수</th>\n",
       "      <th>등록차량수</th>\n",
       "    </tr>\n",
       "  </thead>\n",
       "  <tbody>\n",
       "    <tr>\n",
       "      <th>2547</th>\n",
       "      <td>C1326</td>\n",
       "      <td>1934</td>\n",
       "      <td>아파트</td>\n",
       "      <td>부산광역시</td>\n",
       "      <td>국민임대</td>\n",
       "      <td>24.72000</td>\n",
       "      <td>472</td>\n",
       "      <td>43.00000</td>\n",
       "      <td>H</td>\n",
       "      <td>-</td>\n",
       "      <td>-</td>\n",
       "      <td>0.00000</td>\n",
       "      <td>4.00000</td>\n",
       "      <td>1670.00000</td>\n",
       "      <td>1153.00000</td>\n",
       "    </tr>\n",
       "    <tr>\n",
       "      <th>2548</th>\n",
       "      <td>C1326</td>\n",
       "      <td>1934</td>\n",
       "      <td>아파트</td>\n",
       "      <td>부산광역시</td>\n",
       "      <td>국민임대</td>\n",
       "      <td>24.79000</td>\n",
       "      <td>104</td>\n",
       "      <td>43.00000</td>\n",
       "      <td>H</td>\n",
       "      <td>-</td>\n",
       "      <td>-</td>\n",
       "      <td>0.00000</td>\n",
       "      <td>4.00000</td>\n",
       "      <td>1670.00000</td>\n",
       "      <td>1153.00000</td>\n",
       "    </tr>\n",
       "    <tr>\n",
       "      <th>2549</th>\n",
       "      <td>C1326</td>\n",
       "      <td>1934</td>\n",
       "      <td>아파트</td>\n",
       "      <td>부산광역시</td>\n",
       "      <td>국민임대</td>\n",
       "      <td>26.83000</td>\n",
       "      <td>590</td>\n",
       "      <td>43.00000</td>\n",
       "      <td>H</td>\n",
       "      <td>-</td>\n",
       "      <td>-</td>\n",
       "      <td>0.00000</td>\n",
       "      <td>4.00000</td>\n",
       "      <td>1670.00000</td>\n",
       "      <td>1153.00000</td>\n",
       "    </tr>\n",
       "    <tr>\n",
       "      <th>2550</th>\n",
       "      <td>C1326</td>\n",
       "      <td>1934</td>\n",
       "      <td>아파트</td>\n",
       "      <td>부산광역시</td>\n",
       "      <td>국민임대</td>\n",
       "      <td>37.70000</td>\n",
       "      <td>464</td>\n",
       "      <td>43.00000</td>\n",
       "      <td>H</td>\n",
       "      <td>-</td>\n",
       "      <td>-</td>\n",
       "      <td>0.00000</td>\n",
       "      <td>4.00000</td>\n",
       "      <td>1670.00000</td>\n",
       "      <td>1153.00000</td>\n",
       "    </tr>\n",
       "    <tr>\n",
       "      <th>2551</th>\n",
       "      <td>C1326</td>\n",
       "      <td>1934</td>\n",
       "      <td>아파트</td>\n",
       "      <td>부산광역시</td>\n",
       "      <td>국민임대</td>\n",
       "      <td>46.94000</td>\n",
       "      <td>304</td>\n",
       "      <td>43.00000</td>\n",
       "      <td>H</td>\n",
       "      <td>-</td>\n",
       "      <td>-</td>\n",
       "      <td>0.00000</td>\n",
       "      <td>4.00000</td>\n",
       "      <td>1670.00000</td>\n",
       "      <td>1153.00000</td>\n",
       "    </tr>\n",
       "    <tr>\n",
       "      <th>2680</th>\n",
       "      <td>C1786</td>\n",
       "      <td>480</td>\n",
       "      <td>아파트</td>\n",
       "      <td>강원도</td>\n",
       "      <td>행복주택</td>\n",
       "      <td>16.91000</td>\n",
       "      <td>156</td>\n",
       "      <td>25.00000</td>\n",
       "      <td>K</td>\n",
       "      <td>-</td>\n",
       "      <td>-</td>\n",
       "      <td>0.00000</td>\n",
       "      <td>3.00000</td>\n",
       "      <td>338.00000</td>\n",
       "      <td>345.00000</td>\n",
       "    </tr>\n",
       "    <tr>\n",
       "      <th>2681</th>\n",
       "      <td>C1786</td>\n",
       "      <td>480</td>\n",
       "      <td>아파트</td>\n",
       "      <td>강원도</td>\n",
       "      <td>행복주택</td>\n",
       "      <td>26.90000</td>\n",
       "      <td>136</td>\n",
       "      <td>25.00000</td>\n",
       "      <td>K</td>\n",
       "      <td>-</td>\n",
       "      <td>-</td>\n",
       "      <td>0.00000</td>\n",
       "      <td>3.00000</td>\n",
       "      <td>338.00000</td>\n",
       "      <td>345.00000</td>\n",
       "    </tr>\n",
       "    <tr>\n",
       "      <th>2682</th>\n",
       "      <td>C1786</td>\n",
       "      <td>480</td>\n",
       "      <td>아파트</td>\n",
       "      <td>강원도</td>\n",
       "      <td>행복주택</td>\n",
       "      <td>26.90000</td>\n",
       "      <td>72</td>\n",
       "      <td>25.00000</td>\n",
       "      <td>K</td>\n",
       "      <td>-</td>\n",
       "      <td>-</td>\n",
       "      <td>0.00000</td>\n",
       "      <td>3.00000</td>\n",
       "      <td>338.00000</td>\n",
       "      <td>345.00000</td>\n",
       "    </tr>\n",
       "    <tr>\n",
       "      <th>2683</th>\n",
       "      <td>C1786</td>\n",
       "      <td>480</td>\n",
       "      <td>아파트</td>\n",
       "      <td>강원도</td>\n",
       "      <td>행복주택</td>\n",
       "      <td>26.90000</td>\n",
       "      <td>24</td>\n",
       "      <td>25.00000</td>\n",
       "      <td>K</td>\n",
       "      <td>-</td>\n",
       "      <td>-</td>\n",
       "      <td>0.00000</td>\n",
       "      <td>3.00000</td>\n",
       "      <td>338.00000</td>\n",
       "      <td>345.00000</td>\n",
       "    </tr>\n",
       "    <tr>\n",
       "      <th>2906</th>\n",
       "      <td>C2186</td>\n",
       "      <td>924</td>\n",
       "      <td>아파트</td>\n",
       "      <td>대구광역시</td>\n",
       "      <td>국민임대</td>\n",
       "      <td>29.17000</td>\n",
       "      <td>238</td>\n",
       "      <td>0.00000</td>\n",
       "      <td>H</td>\n",
       "      <td>-</td>\n",
       "      <td>-</td>\n",
       "      <td>0.00000</td>\n",
       "      <td>8.00000</td>\n",
       "      <td>664.00000</td>\n",
       "      <td>744.00000</td>\n",
       "    </tr>\n",
       "    <tr>\n",
       "      <th>2907</th>\n",
       "      <td>C2186</td>\n",
       "      <td>924</td>\n",
       "      <td>아파트</td>\n",
       "      <td>대구광역시</td>\n",
       "      <td>국민임대</td>\n",
       "      <td>29.34000</td>\n",
       "      <td>38</td>\n",
       "      <td>0.00000</td>\n",
       "      <td>H</td>\n",
       "      <td>-</td>\n",
       "      <td>-</td>\n",
       "      <td>0.00000</td>\n",
       "      <td>8.00000</td>\n",
       "      <td>664.00000</td>\n",
       "      <td>744.00000</td>\n",
       "    </tr>\n",
       "    <tr>\n",
       "      <th>2908</th>\n",
       "      <td>C2186</td>\n",
       "      <td>924</td>\n",
       "      <td>아파트</td>\n",
       "      <td>대구광역시</td>\n",
       "      <td>국민임대</td>\n",
       "      <td>37.43000</td>\n",
       "      <td>220</td>\n",
       "      <td>0.00000</td>\n",
       "      <td>H</td>\n",
       "      <td>-</td>\n",
       "      <td>-</td>\n",
       "      <td>0.00000</td>\n",
       "      <td>8.00000</td>\n",
       "      <td>664.00000</td>\n",
       "      <td>744.00000</td>\n",
       "    </tr>\n",
       "  </tbody>\n",
       "</table>\n",
       "</div>"
      ],
      "text/plain": [
       "       단지코드  총세대수 임대건물구분     지역  공급유형     전용면적  전용면적별세대수      공가수 자격유형 임대보증금  \\\n",
       "2547  C1326  1934    아파트  부산광역시  국민임대 24.72000       472 43.00000    H     -   \n",
       "2548  C1326  1934    아파트  부산광역시  국민임대 24.79000       104 43.00000    H     -   \n",
       "2549  C1326  1934    아파트  부산광역시  국민임대 26.83000       590 43.00000    H     -   \n",
       "2550  C1326  1934    아파트  부산광역시  국민임대 37.70000       464 43.00000    H     -   \n",
       "2551  C1326  1934    아파트  부산광역시  국민임대 46.94000       304 43.00000    H     -   \n",
       "2680  C1786   480    아파트    강원도  행복주택 16.91000       156 25.00000    K     -   \n",
       "2681  C1786   480    아파트    강원도  행복주택 26.90000       136 25.00000    K     -   \n",
       "2682  C1786   480    아파트    강원도  행복주택 26.90000        72 25.00000    K     -   \n",
       "2683  C1786   480    아파트    강원도  행복주택 26.90000        24 25.00000    K     -   \n",
       "2906  C2186   924    아파트  대구광역시  국민임대 29.17000       238  0.00000    H     -   \n",
       "2907  C2186   924    아파트  대구광역시  국민임대 29.34000        38  0.00000    H     -   \n",
       "2908  C2186   924    아파트  대구광역시  국민임대 37.43000       220  0.00000    H     -   \n",
       "\n",
       "     임대료  도보 10분거리 내 지하철역 수(환승노선 수 반영)  도보 10분거리 내 버스정류장 수    단지내주차면수  \\\n",
       "2547   -                       0.00000             4.00000 1670.00000   \n",
       "2548   -                       0.00000             4.00000 1670.00000   \n",
       "2549   -                       0.00000             4.00000 1670.00000   \n",
       "2550   -                       0.00000             4.00000 1670.00000   \n",
       "2551   -                       0.00000             4.00000 1670.00000   \n",
       "2680   -                       0.00000             3.00000  338.00000   \n",
       "2681   -                       0.00000             3.00000  338.00000   \n",
       "2682   -                       0.00000             3.00000  338.00000   \n",
       "2683   -                       0.00000             3.00000  338.00000   \n",
       "2906   -                       0.00000             8.00000  664.00000   \n",
       "2907   -                       0.00000             8.00000  664.00000   \n",
       "2908   -                       0.00000             8.00000  664.00000   \n",
       "\n",
       "          등록차량수  \n",
       "2547 1153.00000  \n",
       "2548 1153.00000  \n",
       "2549 1153.00000  \n",
       "2550 1153.00000  \n",
       "2551 1153.00000  \n",
       "2680  345.00000  \n",
       "2681  345.00000  \n",
       "2682  345.00000  \n",
       "2683  345.00000  \n",
       "2906  744.00000  \n",
       "2907  744.00000  \n",
       "2908  744.00000  "
      ]
     },
     "execution_count": 74,
     "metadata": {},
     "output_type": "execute_result"
    }
   ],
   "source": [
    "train[train['임대보증금']=='-']"
   ]
  },
  {
   "cell_type": "code",
   "execution_count": 54,
   "id": "bd30f0bf",
   "metadata": {
    "ExecuteTime": {
     "end_time": "2021-07-21T09:16:10.277255Z",
     "start_time": "2021-07-21T09:16:10.262364Z"
    }
   },
   "outputs": [
    {
     "data": {
      "text/plain": [
       "Index(['단지코드', '총세대수', '임대건물구분', '지역', '공급유형', '전용면적', '전용면적별세대수', '공가수',\n",
       "       '자격유형', '임대보증금', '임대료', '도보 10분거리 내 지하철역 수(환승노선 수 반영)',\n",
       "       '도보 10분거리 내 버스정류장 수', '단지내주차면수', '등록차량수'],\n",
       "      dtype='object')"
      ]
     },
     "execution_count": 54,
     "metadata": {},
     "output_type": "execute_result"
    }
   ],
   "source": [
    "train.columns"
   ]
  },
  {
   "cell_type": "code",
   "execution_count": 55,
   "id": "2a119f67",
   "metadata": {
    "ExecuteTime": {
     "end_time": "2021-07-21T09:16:10.293212Z",
     "start_time": "2021-07-21T09:16:10.278262Z"
    }
   },
   "outputs": [
    {
     "name": "stdout",
     "output_type": "stream",
     "text": [
      "<class 'pandas.core.frame.DataFrame'>\n",
      "RangeIndex: 2952 entries, 0 to 2951\n",
      "Data columns (total 15 columns):\n",
      " #   Column                        Non-Null Count  Dtype  \n",
      "---  ------                        --------------  -----  \n",
      " 0   단지코드                          2952 non-null   object \n",
      " 1   총세대수                          2952 non-null   int64  \n",
      " 2   임대건물구분                        2952 non-null   object \n",
      " 3   지역                            2952 non-null   object \n",
      " 4   공급유형                          2952 non-null   object \n",
      " 5   전용면적                          2952 non-null   float64\n",
      " 6   전용면적별세대수                      2952 non-null   int64  \n",
      " 7   공가수                           2952 non-null   float64\n",
      " 8   자격유형                          2952 non-null   object \n",
      " 9   임대보증금                         2383 non-null   object \n",
      " 10  임대료                           2383 non-null   object \n",
      " 11  도보 10분거리 내 지하철역 수(환승노선 수 반영)  2741 non-null   float64\n",
      " 12  도보 10분거리 내 버스정류장 수            2948 non-null   float64\n",
      " 13  단지내주차면수                       2952 non-null   float64\n",
      " 14  등록차량수                         2952 non-null   float64\n",
      "dtypes: float64(6), int64(2), object(7)\n",
      "memory usage: 346.1+ KB\n"
     ]
    }
   ],
   "source": [
    "train.info()"
   ]
  },
  {
   "cell_type": "markdown",
   "id": "ffbee22f",
   "metadata": {
    "id": "ffbee22f"
   },
   "source": [
    "# 수치형 컬럼만 가져오기"
   ]
  },
  {
   "cell_type": "code",
   "execution_count": 56,
   "id": "b61b70fa",
   "metadata": {
    "ExecuteTime": {
     "end_time": "2021-07-21T09:16:10.309169Z",
     "start_time": "2021-07-21T09:16:10.294209Z"
    }
   },
   "outputs": [],
   "source": [
    "train = train[['총세대수', '전용면적', '전용면적별세대수', '공가수', '임대보증금', '임대료', '단지내주차면수', '등록차량수']]"
   ]
  },
  {
   "cell_type": "code",
   "execution_count": 57,
   "id": "7a8cd874",
   "metadata": {
    "ExecuteTime": {
     "end_time": "2021-07-21T09:16:10.324129Z",
     "start_time": "2021-07-21T09:16:10.311165Z"
    }
   },
   "outputs": [
    {
     "data": {
      "text/plain": [
       "Index(['총세대수', '전용면적', '전용면적별세대수', '공가수', '임대보증금', '임대료', '단지내주차면수', '등록차량수'], dtype='object')"
      ]
     },
     "execution_count": 57,
     "metadata": {},
     "output_type": "execute_result"
    }
   ],
   "source": [
    "train.columns"
   ]
  },
  {
   "cell_type": "markdown",
   "id": "13db3682",
   "metadata": {
    "id": "13db3682"
   },
   "source": [
    "# 결측치 처리"
   ]
  },
  {
   "cell_type": "code",
   "execution_count": 58,
   "id": "6c2a944b",
   "metadata": {
    "ExecuteTime": {
     "end_time": "2021-07-21T09:16:10.339089Z",
     "start_time": "2021-07-21T09:16:10.326124Z"
    },
    "executionInfo": {
     "elapsed": 398,
     "status": "ok",
     "timestamp": 1626418574070,
     "user": {
      "displayName": "박재완",
      "photoUrl": "",
      "userId": "18327523315282194311"
     },
     "user_tz": -540
    },
    "id": "6c2a944b"
   },
   "outputs": [],
   "source": [
    "train.loc[train.임대보증금=='-', '임대보증금'] = np.nan\n",
    "train.loc[train.임대료=='-', '임대료'] = np.nan\n",
    "train['임대보증금'] = train['임대보증금'].astype(float)\n",
    "train['임대료'] = train['임대료'].astype(float)\n",
    "train['임대보증금'] = train['임대보증금'].fillna(0)\n",
    "train['임대료'] = train['임대료'].fillna(0)"
   ]
  },
  {
   "cell_type": "markdown",
   "id": "003a226b",
   "metadata": {
    "id": "003a226b"
   },
   "source": [
    "# 임대건물구분 : 아파트->상가 / 전용면적별세대수 : x->1"
   ]
  },
  {
   "cell_type": "code",
   "execution_count": 59,
   "id": "7eac904f",
   "metadata": {
    "ExecuteTime": {
     "end_time": "2021-07-21T09:16:10.355068Z",
     "start_time": "2021-07-21T09:16:10.340087Z"
    },
    "executionInfo": {
     "elapsed": 2,
     "status": "ok",
     "timestamp": 1626418577250,
     "user": {
      "displayName": "박재완",
      "photoUrl": "",
      "userId": "18327523315282194311"
     },
     "user_tz": -540
    },
    "id": "7eac904f"
   },
   "outputs": [],
   "source": [
    "# 점수를 대폭 줄였던 부분\n",
    "# idx = train[(train['임대건물구분']=='아파트') & (train['D']=='D')]['전용면적별세대수'].index\n",
    "# train.loc[idx, '전용면적별세대수'] = 1\n",
    "# train.loc[idx, '임대건물구분'] = '상가'"
   ]
  },
  {
   "cell_type": "markdown",
   "id": "e640c287",
   "metadata": {
    "id": "e640c287"
   },
   "source": [
    "# 전용면적 상/하한 적용"
   ]
  },
  {
   "cell_type": "code",
   "execution_count": 60,
   "id": "d4067e14",
   "metadata": {
    "ExecuteTime": {
     "end_time": "2021-07-21T09:16:10.371017Z",
     "start_time": "2021-07-21T09:16:10.356044Z"
    },
    "executionInfo": {
     "elapsed": 1,
     "status": "ok",
     "timestamp": 1626418585010,
     "user": {
      "displayName": "박재완",
      "photoUrl": "",
      "userId": "18327523315282194311"
     },
     "user_tz": -540
    },
    "id": "d4067e14"
   },
   "outputs": [],
   "source": [
    "idx = train[train['전용면적']>100].index\n",
    "train.loc[idx, '전용면적'] = 100\n",
    "\n",
    "idx = train[train['전용면적']<15].index\n",
    "train.loc[idx, '전용면적'] = 15"
   ]
  },
  {
   "cell_type": "markdown",
   "id": "d148174e",
   "metadata": {},
   "source": [
    "# Scaling"
   ]
  },
  {
   "cell_type": "code",
   "execution_count": 70,
   "id": "c61d853b",
   "metadata": {
    "ExecuteTime": {
     "end_time": "2021-07-21T09:19:26.156926Z",
     "start_time": "2021-07-21T09:19:26.149952Z"
    }
   },
   "outputs": [],
   "source": [
    "from sklearn.preprocessing import MinMaxScaler\n",
    "\n",
    "train_copy = train.copy()\n",
    "scaler = MinMaxScaler()\n",
    "scaler.fit(train_copy)\n",
    "train_copy_scaled = scaler.transform(train_copy)"
   ]
  },
  {
   "cell_type": "markdown",
   "id": "300cd409",
   "metadata": {
    "id": "300cd409"
   },
   "source": [
    "# Test Data 전처리"
   ]
  },
  {
   "cell_type": "code",
   "execution_count": 62,
   "id": "405d1fd7",
   "metadata": {
    "ExecuteTime": {
     "end_time": "2021-07-21T09:16:10.403104Z",
     "start_time": "2021-07-21T09:16:10.387979Z"
    },
    "executionInfo": {
     "elapsed": 424,
     "status": "ok",
     "timestamp": 1626418587986,
     "user": {
      "displayName": "박재완",
      "photoUrl": "",
      "userId": "18327523315282194311"
     },
     "user_tz": -540
    },
    "id": "405d1fd7"
   },
   "outputs": [],
   "source": [
    "test = test[['총세대수', '전용면적', '전용면적별세대수', '공가수', '임대보증금', '임대료', '단지내주차면수']]"
   ]
  },
  {
   "cell_type": "code",
   "execution_count": 63,
   "id": "3e5a344d",
   "metadata": {
    "ExecuteTime": {
     "end_time": "2021-07-21T09:16:10.419022Z",
     "start_time": "2021-07-21T09:16:10.404064Z"
    },
    "executionInfo": {
     "elapsed": 394,
     "status": "ok",
     "timestamp": 1626419593919,
     "user": {
      "displayName": "박재완",
      "photoUrl": "",
      "userId": "18327523315282194311"
     },
     "user_tz": -540
    },
    "id": "3e5a344d"
   },
   "outputs": [],
   "source": [
    "test.loc[test['임대보증금']=='-', '임대보증금'] = np.nan\n",
    "test.loc[test['임대료']=='-', '임대료'] = np.nan\n",
    "test['임대보증금'] = test['임대보증금'].fillna(0)\n",
    "test['임대료'] = test['임대료'].fillna(0)\n",
    "test['임대보증금'] = test['임대보증금'].astype(float)\n",
    "test['임대료'] = test['임대료'].astype(float)"
   ]
  },
  {
   "cell_type": "code",
   "execution_count": 64,
   "id": "kpmRHrwKKLUU",
   "metadata": {
    "ExecuteTime": {
     "end_time": "2021-07-21T09:16:10.433982Z",
     "start_time": "2021-07-21T09:16:10.420021Z"
    },
    "executionInfo": {
     "elapsed": 2,
     "status": "ok",
     "timestamp": 1626419595695,
     "user": {
      "displayName": "박재완",
      "photoUrl": "",
      "userId": "18327523315282194311"
     },
     "user_tz": -540
    },
    "id": "kpmRHrwKKLUU"
   },
   "outputs": [],
   "source": [
    "idx = test[test['전용면적']>100].index\n",
    "test.loc[idx, '전용면적'] = 100\n",
    "\n",
    "idx = test[test['전용면적']<15].index\n",
    "test.loc[idx, '전용면적'] = 15"
   ]
  },
  {
   "cell_type": "code",
   "execution_count": 65,
   "id": "a902ca6c",
   "metadata": {
    "ExecuteTime": {
     "end_time": "2021-07-21T09:16:10.448981Z",
     "start_time": "2021-07-21T09:16:10.434980Z"
    }
   },
   "outputs": [
    {
     "data": {
      "text/html": [
       "<div>\n",
       "<style scoped>\n",
       "    .dataframe tbody tr th:only-of-type {\n",
       "        vertical-align: middle;\n",
       "    }\n",
       "\n",
       "    .dataframe tbody tr th {\n",
       "        vertical-align: top;\n",
       "    }\n",
       "\n",
       "    .dataframe thead th {\n",
       "        text-align: right;\n",
       "    }\n",
       "</style>\n",
       "<table border=\"1\" class=\"dataframe\">\n",
       "  <thead>\n",
       "    <tr style=\"text-align: right;\">\n",
       "      <th></th>\n",
       "      <th>총세대수</th>\n",
       "      <th>전용면적</th>\n",
       "      <th>전용면적별세대수</th>\n",
       "      <th>공가수</th>\n",
       "      <th>임대보증금</th>\n",
       "      <th>임대료</th>\n",
       "      <th>단지내주차면수</th>\n",
       "      <th>등록차량수</th>\n",
       "    </tr>\n",
       "  </thead>\n",
       "  <tbody>\n",
       "    <tr>\n",
       "      <th>0</th>\n",
       "      <td>900</td>\n",
       "      <td>39.72000</td>\n",
       "      <td>134</td>\n",
       "      <td>38.00000</td>\n",
       "      <td>15667000.00000</td>\n",
       "      <td>103680.00000</td>\n",
       "      <td>1425.00000</td>\n",
       "      <td>1015.00000</td>\n",
       "    </tr>\n",
       "    <tr>\n",
       "      <th>1</th>\n",
       "      <td>900</td>\n",
       "      <td>39.72000</td>\n",
       "      <td>15</td>\n",
       "      <td>38.00000</td>\n",
       "      <td>15667000.00000</td>\n",
       "      <td>103680.00000</td>\n",
       "      <td>1425.00000</td>\n",
       "      <td>1015.00000</td>\n",
       "    </tr>\n",
       "  </tbody>\n",
       "</table>\n",
       "</div>"
      ],
      "text/plain": [
       "   총세대수     전용면적  전용면적별세대수      공가수          임대보증금          임대료    단지내주차면수  \\\n",
       "0   900 39.72000       134 38.00000 15667000.00000 103680.00000 1425.00000   \n",
       "1   900 39.72000        15 38.00000 15667000.00000 103680.00000 1425.00000   \n",
       "\n",
       "       등록차량수  \n",
       "0 1015.00000  \n",
       "1 1015.00000  "
      ]
     },
     "execution_count": 65,
     "metadata": {},
     "output_type": "execute_result"
    }
   ],
   "source": [
    "train.head(2)"
   ]
  },
  {
   "cell_type": "markdown",
   "id": "aa094a85",
   "metadata": {},
   "source": [
    "# Training / Test Data Split"
   ]
  },
  {
   "cell_type": "code",
   "execution_count": 66,
   "id": "1ecf366d",
   "metadata": {
    "ExecuteTime": {
     "end_time": "2021-07-21T09:16:10.464900Z",
     "start_time": "2021-07-21T09:16:10.449941Z"
    },
    "id": "1ecf366d"
   },
   "outputs": [
    {
     "ename": "NameError",
     "evalue": "name 'new_train' is not defined",
     "output_type": "error",
     "traceback": [
      "\u001b[1;31m---------------------------------------------------------------------------\u001b[0m",
      "\u001b[1;31mNameError\u001b[0m                                 Traceback (most recent call last)",
      "\u001b[1;32m<ipython-input-66-e0af8426d2c0>\u001b[0m in \u001b[0;36m<module>\u001b[1;34m\u001b[0m\n\u001b[1;32m----> 1\u001b[1;33m \u001b[0mx_train\u001b[0m \u001b[1;33m=\u001b[0m \u001b[0mnew_train\u001b[0m\u001b[1;33m.\u001b[0m\u001b[0miloc\u001b[0m\u001b[1;33m[\u001b[0m\u001b[1;33m:\u001b[0m\u001b[1;33m,\u001b[0m \u001b[1;33m:\u001b[0m\u001b[1;33m-\u001b[0m\u001b[1;36m1\u001b[0m\u001b[1;33m]\u001b[0m\u001b[1;33m\u001b[0m\u001b[1;33m\u001b[0m\u001b[0m\n\u001b[0m\u001b[0;32m      2\u001b[0m \u001b[0my_train\u001b[0m \u001b[1;33m=\u001b[0m \u001b[0mnew_train\u001b[0m\u001b[1;33m.\u001b[0m\u001b[0miloc\u001b[0m\u001b[1;33m[\u001b[0m\u001b[1;33m:\u001b[0m\u001b[1;33m,\u001b[0m\u001b[1;33m-\u001b[0m\u001b[1;36m1\u001b[0m\u001b[1;33m]\u001b[0m\u001b[1;33m\u001b[0m\u001b[1;33m\u001b[0m\u001b[0m\n\u001b[0;32m      3\u001b[0m \u001b[0mx_test\u001b[0m \u001b[1;33m=\u001b[0m \u001b[0mnew_test\u001b[0m\u001b[1;33m\u001b[0m\u001b[1;33m\u001b[0m\u001b[0m\n",
      "\u001b[1;31mNameError\u001b[0m: name 'new_train' is not defined"
     ]
    }
   ],
   "source": [
    "x_train = new_train.iloc[:, :-1]\n",
    "y_train = new_train.iloc[:,-1]\n",
    "x_test = new_test"
   ]
  },
  {
   "cell_type": "markdown",
   "id": "ef655df0",
   "metadata": {},
   "source": [
    "# Model 학습"
   ]
  },
  {
   "cell_type": "code",
   "execution_count": null,
   "id": "1eca88c9",
   "metadata": {
    "ExecuteTime": {
     "end_time": "2021-07-21T09:16:10.465898Z",
     "start_time": "2021-07-21T09:16:10.283Z"
    }
   },
   "outputs": [],
   "source": [
    "forest = RandomForestRegressor(n_jobs=-1, random_state=42)\n",
    "forest.fit(x_train, y_train)"
   ]
  },
  {
   "cell_type": "markdown",
   "id": "585f3ea5",
   "metadata": {},
   "source": [
    "# Prediction"
   ]
  },
  {
   "cell_type": "code",
   "execution_count": null,
   "id": "67f28227",
   "metadata": {
    "ExecuteTime": {
     "end_time": "2021-07-21T09:16:10.466895Z",
     "start_time": "2021-07-21T09:16:10.285Z"
    },
    "id": "67f28227"
   },
   "outputs": [],
   "source": [
    "pred = forest.predict(x_test)"
   ]
  },
  {
   "cell_type": "code",
   "execution_count": null,
   "id": "f5ce95c9",
   "metadata": {
    "ExecuteTime": {
     "end_time": "2021-07-21T09:16:10.467892Z",
     "start_time": "2021-07-21T09:16:10.286Z"
    },
    "id": "f5ce95c9"
   },
   "outputs": [],
   "source": [
    "submission['num'] = pred"
   ]
  },
  {
   "cell_type": "markdown",
   "id": "9f7b8628",
   "metadata": {},
   "source": [
    "# Save file"
   ]
  },
  {
   "cell_type": "code",
   "execution_count": null,
   "id": "4c1491a5",
   "metadata": {
    "ExecuteTime": {
     "end_time": "2021-07-21T09:16:10.467892Z",
     "start_time": "2021-07-21T09:16:10.288Z"
    },
    "id": "4c1491a5"
   },
   "outputs": [],
   "source": [
    "# submission.to_csv('./신분OneHot.csv', index=False)"
   ]
  }
 ],
 "metadata": {
  "colab": {
   "collapsed_sections": [],
   "name": "Lastest_주차 수요 예측(제출).ipynb",
   "provenance": []
  },
  "kernelspec": {
   "display_name": "test",
   "language": "python",
   "name": "test"
  },
  "language_info": {
   "codemirror_mode": {
    "name": "ipython",
    "version": 3
   },
   "file_extension": ".py",
   "mimetype": "text/x-python",
   "name": "python",
   "nbconvert_exporter": "python",
   "pygments_lexer": "ipython3",
   "version": "3.7.10"
  },
  "toc": {
   "base_numbering": 1,
   "nav_menu": {},
   "number_sections": true,
   "sideBar": true,
   "skip_h1_title": false,
   "title_cell": "Table of Contents",
   "title_sidebar": "Contents",
   "toc_cell": false,
   "toc_position": {},
   "toc_section_display": true,
   "toc_window_display": false
  },
  "varInspector": {
   "cols": {
    "lenName": 16,
    "lenType": 16,
    "lenVar": 40
   },
   "kernels_config": {
    "python": {
     "delete_cmd_postfix": "",
     "delete_cmd_prefix": "del ",
     "library": "var_list.py",
     "varRefreshCmd": "print(var_dic_list())"
    },
    "r": {
     "delete_cmd_postfix": ") ",
     "delete_cmd_prefix": "rm(",
     "library": "var_list.r",
     "varRefreshCmd": "cat(var_dic_list()) "
    }
   },
   "types_to_exclude": [
    "module",
    "function",
    "builtin_function_or_method",
    "instance",
    "_Feature"
   ],
   "window_display": false
  }
 },
 "nbformat": 4,
 "nbformat_minor": 5
}
