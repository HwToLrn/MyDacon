{
 "cells": [
  {
   "cell_type": "code",
   "execution_count": 1,
   "id": "4bccbbf7",
   "metadata": {
    "ExecuteTime": {
     "end_time": "2021-07-22T01:23:17.741591Z",
     "start_time": "2021-07-22T01:23:17.393118Z"
    },
    "executionInfo": {
     "elapsed": 384,
     "status": "ok",
     "timestamp": 1626418401860,
     "user": {
      "displayName": "박재완",
      "photoUrl": "",
      "userId": "18327523315282194311"
     },
     "user_tz": -540
    },
    "id": "4bccbbf7"
   },
   "outputs": [],
   "source": [
    "%matplotlib inline"
   ]
  },
  {
   "cell_type": "code",
   "execution_count": 2,
   "id": "fde9e222",
   "metadata": {
    "ExecuteTime": {
     "end_time": "2021-07-22T01:23:18.770049Z",
     "start_time": "2021-07-22T01:23:17.741591Z"
    },
    "executionInfo": {
     "elapsed": 1506,
     "status": "ok",
     "timestamp": 1626418405988,
     "user": {
      "displayName": "박재완",
      "photoUrl": "",
      "userId": "18327523315282194311"
     },
     "user_tz": -540
    },
    "id": "fde9e222"
   },
   "outputs": [],
   "source": [
    "import pandas as pd\n",
    "import numpy as np\n",
    "from sklearn.ensemble import RandomForestRegressor\n",
    "from tqdm import tqdm\n",
    "import matplotlib.pyplot as plt\n",
    "pd.options.display.float_format = '{:.3f}'.format"
   ]
  },
  {
   "cell_type": "markdown",
   "id": "8371ff54",
   "metadata": {
    "id": "8371ff54"
   },
   "source": [
    "# 데이터 불러오기"
   ]
  },
  {
   "cell_type": "code",
   "execution_count": 3,
   "id": "8a9a38e6",
   "metadata": {
    "ExecuteTime": {
     "end_time": "2021-07-22T01:23:18.802067Z",
     "start_time": "2021-07-22T01:23:18.770049Z"
    },
    "executionInfo": {
     "elapsed": 2675,
     "status": "ok",
     "timestamp": 1626418508349,
     "user": {
      "displayName": "박재완",
      "photoUrl": "",
      "userId": "18327523315282194311"
     },
     "user_tz": -540
    },
    "id": "8a9a38e6"
   },
   "outputs": [],
   "source": [
    "train = pd.read_csv('./data/train.csv')\n",
    "test = pd.read_csv('./data/test.csv')\n",
    "car_2020 = pd.read_csv('./data/car_2020.csv',encoding='cp949')\n",
    "submission = pd.read_csv('./data/sample_submission.csv')"
   ]
  },
  {
   "cell_type": "markdown",
   "id": "ffbee22f",
   "metadata": {
    "id": "ffbee22f"
   },
   "source": [
    "# 컬렴명 바꿔주기"
   ]
  },
  {
   "cell_type": "code",
   "execution_count": 4,
   "id": "8a1e4b55",
   "metadata": {
    "ExecuteTime": {
     "end_time": "2021-07-22T01:23:18.818047Z",
     "start_time": "2021-07-22T01:23:18.802067Z"
    },
    "executionInfo": {
     "elapsed": 384,
     "status": "ok",
     "timestamp": 1626418569160,
     "user": {
      "displayName": "박재완",
      "photoUrl": "",
      "userId": "18327523315282194311"
     },
     "user_tz": -540
    },
    "id": "8a1e4b55"
   },
   "outputs": [],
   "source": [
    "train.columns = ['단지코드', '총세대수', '임대건물구분', '지역', '공급유형', '전용면적', '전용면적별세대수', '공가수', '신분',\n",
    "                 '임대보증금', '임대료', '지하철', '버스', '단지내주차면수', '등록차량수' ]\n"
   ]
  },
  {
   "cell_type": "markdown",
   "id": "a2ee7ec0",
   "metadata": {
    "id": "a2ee7ec0"
   },
   "source": [
    "# 지하철 Y or N로 변경"
   ]
  },
  {
   "cell_type": "code",
   "execution_count": 5,
   "id": "d4ea84cb",
   "metadata": {
    "ExecuteTime": {
     "end_time": "2021-07-22T01:23:18.850158Z",
     "start_time": "2021-07-22T01:23:18.818047Z"
    },
    "executionInfo": {
     "elapsed": 478,
     "status": "ok",
     "timestamp": 1626418571230,
     "user": {
      "displayName": "박재완",
      "photoUrl": "",
      "userId": "18327523315282194311"
     },
     "user_tz": -540
    },
    "id": "d4ea84cb"
   },
   "outputs": [],
   "source": [
    "train['지하철'] = train['지하철'].fillna(0)\n",
    "train['지하철'] = np.where(train['지하철'] == 0, 0, 1)"
   ]
  },
  {
   "cell_type": "markdown",
   "id": "13db3682",
   "metadata": {
    "id": "13db3682"
   },
   "source": [
    "# 결측치 처리"
   ]
  },
  {
   "cell_type": "code",
   "execution_count": 6,
   "id": "6c2a944b",
   "metadata": {
    "ExecuteTime": {
     "end_time": "2021-07-22T01:23:18.866082Z",
     "start_time": "2021-07-22T01:23:18.850158Z"
    },
    "executionInfo": {
     "elapsed": 398,
     "status": "ok",
     "timestamp": 1626418574070,
     "user": {
      "displayName": "박재완",
      "photoUrl": "",
      "userId": "18327523315282194311"
     },
     "user_tz": -540
    },
    "id": "6c2a944b"
   },
   "outputs": [],
   "source": [
    "train.loc[train.임대보증금=='-', '임대보증금'] = np.nan\n",
    "train.loc[train.임대료=='-', '임대료'] = np.nan\n",
    "train['임대보증금'] = train['임대보증금'].astype(float)\n",
    "train['임대료'] = train['임대료'].astype(float)\n",
    "train['임대보증금'] = train['임대보증금'].fillna(0)\n",
    "train['임대료'] = train['임대료'].fillna(0)"
   ]
  },
  {
   "cell_type": "code",
   "execution_count": 7,
   "id": "2ca7b917",
   "metadata": {
    "ExecuteTime": {
     "end_time": "2021-07-22T01:23:18.882046Z",
     "start_time": "2021-07-22T01:23:18.866082Z"
    },
    "executionInfo": {
     "elapsed": 2,
     "status": "ok",
     "timestamp": 1626418574586,
     "user": {
      "displayName": "박재완",
      "photoUrl": "",
      "userId": "18327523315282194311"
     },
     "user_tz": -540
    },
    "id": "2ca7b917"
   },
   "outputs": [],
   "source": [
    "train['버스'] = train['버스'].fillna(train['버스'].mean())"
   ]
  },
  {
   "cell_type": "markdown",
   "id": "003a226b",
   "metadata": {
    "id": "003a226b"
   },
   "source": [
    "# 임대건물구분 : 아파트->상가 / 전용면적별세대수 : x->1"
   ]
  },
  {
   "cell_type": "code",
   "execution_count": 8,
   "id": "7eac904f",
   "metadata": {
    "ExecuteTime": {
     "end_time": "2021-07-22T01:23:18.898077Z",
     "start_time": "2021-07-22T01:23:18.882046Z"
    },
    "executionInfo": {
     "elapsed": 2,
     "status": "ok",
     "timestamp": 1626418577250,
     "user": {
      "displayName": "박재완",
      "photoUrl": "",
      "userId": "18327523315282194311"
     },
     "user_tz": -540
    },
    "id": "7eac904f"
   },
   "outputs": [],
   "source": [
    "idx = train[(train['임대건물구분']=='아파트') & (train['신분']=='D')]['전용면적별세대수'].index\n",
    "train.loc[idx, '전용면적별세대수'] = 1\n",
    "train.loc[idx, '임대건물구분'] = '상가'"
   ]
  },
  {
   "cell_type": "markdown",
   "id": "39d4618c",
   "metadata": {
    "id": "39d4618c"
   },
   "source": [
    "# 지역명 숫자로 매핑"
   ]
  },
  {
   "cell_type": "code",
   "execution_count": 9,
   "id": "8cbf446a",
   "metadata": {
    "ExecuteTime": {
     "end_time": "2021-07-22T01:23:18.914084Z",
     "start_time": "2021-07-22T01:23:18.898077Z"
    },
    "executionInfo": {
     "elapsed": 2,
     "status": "ok",
     "timestamp": 1626418581357,
     "user": {
      "displayName": "박재완",
      "photoUrl": "",
      "userId": "18327523315282194311"
     },
     "user_tz": -540
    },
    "id": "8cbf446a"
   },
   "outputs": [],
   "source": [
    "local_map = {}\n",
    "for i, loc in enumerate(train['지역'].unique()):\n",
    "    local_map[loc] = i\n",
    "    \n",
    "train['지역'] = train['지역'].map(local_map)"
   ]
  },
  {
   "cell_type": "markdown",
   "id": "d78571a2",
   "metadata": {},
   "source": [
    "# 총세대수 scale"
   ]
  },
  {
   "cell_type": "code",
   "execution_count": 10,
   "id": "828ca9fe",
   "metadata": {
    "ExecuteTime": {
     "end_time": "2021-07-22T01:23:18.930077Z",
     "start_time": "2021-07-22T01:23:18.914084Z"
    }
   },
   "outputs": [],
   "source": [
    "train['총세대수'] = np.log(train['총세대수'])"
   ]
  },
  {
   "cell_type": "markdown",
   "id": "3519ff39",
   "metadata": {},
   "source": [
    "# "
   ]
  },
  {
   "cell_type": "code",
   "execution_count": 11,
   "id": "eeafb757",
   "metadata": {
    "ExecuteTime": {
     "end_time": "2021-07-22T01:23:18.946078Z",
     "start_time": "2021-07-22T01:23:18.930077Z"
    }
   },
   "outputs": [],
   "source": [
    "train_copy = train.copy()\n",
    "\n",
    "del train_copy['신분'], train_copy['단지코드'], train_copy['임대건물구분'], train_copy['공급유형']"
   ]
  },
  {
   "cell_type": "markdown",
   "id": "3824e391",
   "metadata": {},
   "source": [
    "# Model Fitting"
   ]
  },
  {
   "cell_type": "code",
   "execution_count": 12,
   "id": "1ecf366d",
   "metadata": {
    "ExecuteTime": {
     "end_time": "2021-07-22T01:23:19.227414Z",
     "start_time": "2021-07-22T01:23:18.946078Z"
    },
    "id": "1ecf366d"
   },
   "outputs": [
    {
     "data": {
      "text/plain": [
       "RandomForestRegressor(n_jobs=-1, random_state=42)"
      ]
     },
     "execution_count": 12,
     "metadata": {},
     "output_type": "execute_result"
    }
   ],
   "source": [
    "x_train = train_copy.iloc[:, :-1]\n",
    "y_train = train_copy.iloc[:,-1]\n",
    "\n",
    "forest = RandomForestRegressor(n_jobs=-1, random_state=42)\n",
    "forest.fit(x_train, y_train)"
   ]
  },
  {
   "cell_type": "code",
   "execution_count": 13,
   "id": "98a416f1",
   "metadata": {
    "ExecuteTime": {
     "end_time": "2021-07-22T01:23:19.243325Z",
     "start_time": "2021-07-22T01:23:19.227414Z"
    }
   },
   "outputs": [
    {
     "data": {
      "text/plain": [
       "Index(['총세대수', '지역', '전용면적', '전용면적별세대수', '공가수', '임대보증금', '임대료', '지하철', '버스',\n",
       "       '단지내주차면수'],\n",
       "      dtype='object')"
      ]
     },
     "execution_count": 13,
     "metadata": {},
     "output_type": "execute_result"
    }
   ],
   "source": [
    "x_train.columns"
   ]
  },
  {
   "cell_type": "markdown",
   "id": "300cd409",
   "metadata": {
    "id": "300cd409"
   },
   "source": [
    "# test 불러오기"
   ]
  },
  {
   "cell_type": "code",
   "execution_count": 14,
   "id": "405d1fd7",
   "metadata": {
    "ExecuteTime": {
     "end_time": "2021-07-22T01:23:19.259284Z",
     "start_time": "2021-07-22T01:23:19.243325Z"
    },
    "executionInfo": {
     "elapsed": 424,
     "status": "ok",
     "timestamp": 1626418587986,
     "user": {
      "displayName": "박재완",
      "photoUrl": "",
      "userId": "18327523315282194311"
     },
     "user_tz": -540
    },
    "id": "405d1fd7"
   },
   "outputs": [],
   "source": [
    "test.columns = [ '단지코드', '총세대수', '임대건물구분', '지역', '공급유형', '전용면적', '전용면적별세대수', '공가수', '신분',\n",
    "                '임대보증금', '임대료', '지하철', '버스', '단지내주차면수' ]"
   ]
  },
  {
   "cell_type": "code",
   "execution_count": 15,
   "id": "3e5a344d",
   "metadata": {
    "ExecuteTime": {
     "end_time": "2021-07-22T01:23:19.275285Z",
     "start_time": "2021-07-22T01:23:19.259284Z"
    },
    "executionInfo": {
     "elapsed": 394,
     "status": "ok",
     "timestamp": 1626419593919,
     "user": {
      "displayName": "박재완",
      "photoUrl": "",
      "userId": "18327523315282194311"
     },
     "user_tz": -540
    },
    "id": "3e5a344d"
   },
   "outputs": [],
   "source": [
    "test.loc[test.임대보증금=='-', '임대보증금'] = np.nan\n",
    "test.loc[test.임대료=='-', '임대료'] = np.nan\n",
    "test['임대보증금'] = test['임대보증금'].fillna(0)\n",
    "test['임대료'] = test['임대료'].fillna(0)\n",
    "test['임대보증금'] = test['임대보증금'].astype(float)\n",
    "test['임대료'] = test['임대료'].astype(float)"
   ]
  },
  {
   "cell_type": "code",
   "execution_count": 16,
   "id": "8f296691",
   "metadata": {
    "ExecuteTime": {
     "end_time": "2021-07-22T01:23:19.291461Z",
     "start_time": "2021-07-22T01:23:19.275285Z"
    },
    "executionInfo": {
     "elapsed": 3,
     "status": "ok",
     "timestamp": 1626419594311,
     "user": {
      "displayName": "박재완",
      "photoUrl": "",
      "userId": "18327523315282194311"
     },
     "user_tz": -540
    },
    "id": "8f296691"
   },
   "outputs": [],
   "source": [
    "test['지하철'] = test['지하철'].fillna(0)\n",
    "test['지하철'] = np.where(test['지하철'] == 0, 0, 1)"
   ]
  },
  {
   "cell_type": "code",
   "execution_count": 17,
   "id": "ce2ae6a1",
   "metadata": {
    "ExecuteTime": {
     "end_time": "2021-07-22T01:23:19.307462Z",
     "start_time": "2021-07-22T01:23:19.291461Z"
    },
    "executionInfo": {
     "elapsed": 504,
     "status": "ok",
     "timestamp": 1626419595304,
     "user": {
      "displayName": "박재완",
      "photoUrl": "",
      "userId": "18327523315282194311"
     },
     "user_tz": -540
    },
    "id": "ce2ae6a1"
   },
   "outputs": [],
   "source": [
    "test.loc[test.단지코드.isin(['C2411']) & test.신분.isnull(), '신분'] = 'A'\n",
    "test.loc[test.단지코드.isin(['C2253']) & test.신분.isnull(), '신분'] = 'C'"
   ]
  },
  {
   "cell_type": "code",
   "execution_count": 18,
   "id": "270b6f5f",
   "metadata": {
    "ExecuteTime": {
     "end_time": "2021-07-22T01:23:19.323284Z",
     "start_time": "2021-07-22T01:23:19.307462Z"
    },
    "executionInfo": {
     "elapsed": 2,
     "status": "ok",
     "timestamp": 1626419595305,
     "user": {
      "displayName": "박재완",
      "photoUrl": "",
      "userId": "18327523315282194311"
     },
     "user_tz": -540
    },
    "id": "270b6f5f"
   },
   "outputs": [],
   "source": [
    "local_map = {}\n",
    "for i, loc in enumerate(test['지역'].unique()):\n",
    "    local_map[loc] = i\n",
    "    \n",
    "test['지역'] = test['지역'].map(local_map)"
   ]
  },
  {
   "cell_type": "code",
   "execution_count": 19,
   "id": "219ed1aa",
   "metadata": {
    "ExecuteTime": {
     "end_time": "2021-07-22T01:23:19.339472Z",
     "start_time": "2021-07-22T01:23:19.323284Z"
    }
   },
   "outputs": [],
   "source": [
    "test = test[['단지코드', '총세대수', '지역', '전용면적', '전용면적별세대수', '공가수', '임대보증금', '임대료', '지하철', '버스', '단지내주차면수']]"
   ]
  },
  {
   "cell_type": "code",
   "execution_count": 20,
   "id": "fe8fa56a",
   "metadata": {
    "ExecuteTime": {
     "end_time": "2021-07-22T01:23:19.355319Z",
     "start_time": "2021-07-22T01:23:19.339472Z"
    }
   },
   "outputs": [
    {
     "name": "stdout",
     "output_type": "stream",
     "text": [
      "단지코드의 Unique :  150\n",
      "총세대수의 Unique :  144\n"
     ]
    }
   ],
   "source": [
    "print('단지코드의 Unique : ', len(test['단지코드'].unique()))\n",
    "print('총세대수의 Unique : ', len(test['총세대수'].unique()))"
   ]
  },
  {
   "cell_type": "code",
   "execution_count": 24,
   "id": "8216704b",
   "metadata": {
    "ExecuteTime": {
     "end_time": "2021-07-22T01:33:15.946070Z",
     "start_time": "2021-07-22T01:33:15.922070Z"
    }
   },
   "outputs": [
    {
     "data": {
      "text/html": [
       "<div>\n",
       "<style scoped>\n",
       "    .dataframe tbody tr th:only-of-type {\n",
       "        vertical-align: middle;\n",
       "    }\n",
       "\n",
       "    .dataframe tbody tr th {\n",
       "        vertical-align: top;\n",
       "    }\n",
       "\n",
       "    .dataframe thead th {\n",
       "        text-align: right;\n",
       "    }\n",
       "</style>\n",
       "<table border=\"1\" class=\"dataframe\">\n",
       "  <thead>\n",
       "    <tr style=\"text-align: right;\">\n",
       "      <th></th>\n",
       "      <th>단지코드</th>\n",
       "      <th>총세대수</th>\n",
       "      <th>지역</th>\n",
       "      <th>전용면적</th>\n",
       "      <th>전용면적별세대수</th>\n",
       "      <th>공가수</th>\n",
       "      <th>임대보증금</th>\n",
       "      <th>임대료</th>\n",
       "      <th>지하철</th>\n",
       "      <th>버스</th>\n",
       "      <th>단지내주차면수</th>\n",
       "    </tr>\n",
       "  </thead>\n",
       "  <tbody>\n",
       "    <tr>\n",
       "      <th>0</th>\n",
       "      <td>C1072</td>\n",
       "      <td>754</td>\n",
       "      <td>0</td>\n",
       "      <td>39.790</td>\n",
       "      <td>116</td>\n",
       "      <td>14.000</td>\n",
       "      <td>22830000.000</td>\n",
       "      <td>189840.000</td>\n",
       "      <td>0</td>\n",
       "      <td>2.000</td>\n",
       "      <td>683.000</td>\n",
       "    </tr>\n",
       "    <tr>\n",
       "      <th>1</th>\n",
       "      <td>C1072</td>\n",
       "      <td>754</td>\n",
       "      <td>0</td>\n",
       "      <td>46.810</td>\n",
       "      <td>30</td>\n",
       "      <td>14.000</td>\n",
       "      <td>36048000.000</td>\n",
       "      <td>249930.000</td>\n",
       "      <td>0</td>\n",
       "      <td>2.000</td>\n",
       "      <td>683.000</td>\n",
       "    </tr>\n",
       "    <tr>\n",
       "      <th>2</th>\n",
       "      <td>C1072</td>\n",
       "      <td>754</td>\n",
       "      <td>0</td>\n",
       "      <td>46.900</td>\n",
       "      <td>112</td>\n",
       "      <td>14.000</td>\n",
       "      <td>36048000.000</td>\n",
       "      <td>249930.000</td>\n",
       "      <td>0</td>\n",
       "      <td>2.000</td>\n",
       "      <td>683.000</td>\n",
       "    </tr>\n",
       "    <tr>\n",
       "      <th>3</th>\n",
       "      <td>C1072</td>\n",
       "      <td>754</td>\n",
       "      <td>0</td>\n",
       "      <td>46.900</td>\n",
       "      <td>120</td>\n",
       "      <td>14.000</td>\n",
       "      <td>36048000.000</td>\n",
       "      <td>249930.000</td>\n",
       "      <td>0</td>\n",
       "      <td>2.000</td>\n",
       "      <td>683.000</td>\n",
       "    </tr>\n",
       "    <tr>\n",
       "      <th>4</th>\n",
       "      <td>C1072</td>\n",
       "      <td>754</td>\n",
       "      <td>0</td>\n",
       "      <td>51.460</td>\n",
       "      <td>60</td>\n",
       "      <td>14.000</td>\n",
       "      <td>43497000.000</td>\n",
       "      <td>296780.000</td>\n",
       "      <td>0</td>\n",
       "      <td>2.000</td>\n",
       "      <td>683.000</td>\n",
       "    </tr>\n",
       "    <tr>\n",
       "      <th>5</th>\n",
       "      <td>C1072</td>\n",
       "      <td>754</td>\n",
       "      <td>0</td>\n",
       "      <td>51.710</td>\n",
       "      <td>51</td>\n",
       "      <td>14.000</td>\n",
       "      <td>43497000.000</td>\n",
       "      <td>296780.000</td>\n",
       "      <td>0</td>\n",
       "      <td>2.000</td>\n",
       "      <td>683.000</td>\n",
       "    </tr>\n",
       "    <tr>\n",
       "      <th>6</th>\n",
       "      <td>C1072</td>\n",
       "      <td>754</td>\n",
       "      <td>0</td>\n",
       "      <td>51.960</td>\n",
       "      <td>198</td>\n",
       "      <td>14.000</td>\n",
       "      <td>43497000.000</td>\n",
       "      <td>296780.000</td>\n",
       "      <td>0</td>\n",
       "      <td>2.000</td>\n",
       "      <td>683.000</td>\n",
       "    </tr>\n",
       "    <tr>\n",
       "      <th>7</th>\n",
       "      <td>C1072</td>\n",
       "      <td>754</td>\n",
       "      <td>0</td>\n",
       "      <td>51.960</td>\n",
       "      <td>67</td>\n",
       "      <td>14.000</td>\n",
       "      <td>43497000.000</td>\n",
       "      <td>296780.000</td>\n",
       "      <td>0</td>\n",
       "      <td>2.000</td>\n",
       "      <td>683.000</td>\n",
       "    </tr>\n",
       "    <tr>\n",
       "      <th>8</th>\n",
       "      <td>C1128</td>\n",
       "      <td>1354</td>\n",
       "      <td>0</td>\n",
       "      <td>39.790</td>\n",
       "      <td>368</td>\n",
       "      <td>9.000</td>\n",
       "      <td>22830000.000</td>\n",
       "      <td>189840.000</td>\n",
       "      <td>0</td>\n",
       "      <td>3.000</td>\n",
       "      <td>1216.000</td>\n",
       "    </tr>\n",
       "    <tr>\n",
       "      <th>9</th>\n",
       "      <td>C1128</td>\n",
       "      <td>1354</td>\n",
       "      <td>0</td>\n",
       "      <td>39.790</td>\n",
       "      <td>30</td>\n",
       "      <td>9.000</td>\n",
       "      <td>22830000.000</td>\n",
       "      <td>189840.000</td>\n",
       "      <td>0</td>\n",
       "      <td>3.000</td>\n",
       "      <td>1216.000</td>\n",
       "    </tr>\n",
       "  </tbody>\n",
       "</table>\n",
       "</div>"
      ],
      "text/plain": [
       "    단지코드  총세대수  지역   전용면적  전용면적별세대수    공가수        임대보증금        임대료  지하철    버스  \\\n",
       "0  C1072   754   0 39.790       116 14.000 22830000.000 189840.000    0 2.000   \n",
       "1  C1072   754   0 46.810        30 14.000 36048000.000 249930.000    0 2.000   \n",
       "2  C1072   754   0 46.900       112 14.000 36048000.000 249930.000    0 2.000   \n",
       "3  C1072   754   0 46.900       120 14.000 36048000.000 249930.000    0 2.000   \n",
       "4  C1072   754   0 51.460        60 14.000 43497000.000 296780.000    0 2.000   \n",
       "5  C1072   754   0 51.710        51 14.000 43497000.000 296780.000    0 2.000   \n",
       "6  C1072   754   0 51.960       198 14.000 43497000.000 296780.000    0 2.000   \n",
       "7  C1072   754   0 51.960        67 14.000 43497000.000 296780.000    0 2.000   \n",
       "8  C1128  1354   0 39.790       368  9.000 22830000.000 189840.000    0 3.000   \n",
       "9  C1128  1354   0 39.790        30  9.000 22830000.000 189840.000    0 3.000   \n",
       "\n",
       "   단지내주차면수  \n",
       "0  683.000  \n",
       "1  683.000  \n",
       "2  683.000  \n",
       "3  683.000  \n",
       "4  683.000  \n",
       "5  683.000  \n",
       "6  683.000  \n",
       "7  683.000  \n",
       "8 1216.000  \n",
       "9 1216.000  "
      ]
     },
     "execution_count": 24,
     "metadata": {},
     "output_type": "execute_result"
    }
   ],
   "source": [
    "# ['총세대수', '지역', '전용면적', '전용면적별세대수', '공가수', '임대보증금', '임대료', '지하철', '버스', '단지내주차면수']\n",
    "test.head(10)"
   ]
  },
  {
   "cell_type": "code",
   "execution_count": 27,
   "id": "bbc5ffa4",
   "metadata": {
    "ExecuteTime": {
     "end_time": "2021-07-22T02:01:16.825557Z",
     "start_time": "2021-07-22T02:01:16.769555Z"
    }
   },
   "outputs": [
    {
     "ename": "KeyError",
     "evalue": "'C1072'",
     "output_type": "error",
     "traceback": [
      "\u001b[1;31m---------------------------------------------------------------------------\u001b[0m",
      "\u001b[1;31mKeyError\u001b[0m                                  Traceback (most recent call last)",
      "\u001b[1;32m~\\anaconda3\\envs\\test\\lib\\site-packages\\pandas\\core\\indexes\\base.py\u001b[0m in \u001b[0;36mget_loc\u001b[1;34m(self, key, method, tolerance)\u001b[0m\n\u001b[0;32m   3080\u001b[0m             \u001b[1;32mtry\u001b[0m\u001b[1;33m:\u001b[0m\u001b[1;33m\u001b[0m\u001b[1;33m\u001b[0m\u001b[0m\n\u001b[1;32m-> 3081\u001b[1;33m                 \u001b[1;32mreturn\u001b[0m \u001b[0mself\u001b[0m\u001b[1;33m.\u001b[0m\u001b[0m_engine\u001b[0m\u001b[1;33m.\u001b[0m\u001b[0mget_loc\u001b[0m\u001b[1;33m(\u001b[0m\u001b[0mcasted_key\u001b[0m\u001b[1;33m)\u001b[0m\u001b[1;33m\u001b[0m\u001b[1;33m\u001b[0m\u001b[0m\n\u001b[0m\u001b[0;32m   3082\u001b[0m             \u001b[1;32mexcept\u001b[0m \u001b[0mKeyError\u001b[0m \u001b[1;32mas\u001b[0m \u001b[0merr\u001b[0m\u001b[1;33m:\u001b[0m\u001b[1;33m\u001b[0m\u001b[1;33m\u001b[0m\u001b[0m\n",
      "\u001b[1;32mpandas\\_libs\\index.pyx\u001b[0m in \u001b[0;36mpandas._libs.index.IndexEngine.get_loc\u001b[1;34m()\u001b[0m\n",
      "\u001b[1;32mpandas\\_libs\\index.pyx\u001b[0m in \u001b[0;36mpandas._libs.index.IndexEngine.get_loc\u001b[1;34m()\u001b[0m\n",
      "\u001b[1;32mpandas\\_libs\\hashtable_class_helper.pxi\u001b[0m in \u001b[0;36mpandas._libs.hashtable.PyObjectHashTable.get_item\u001b[1;34m()\u001b[0m\n",
      "\u001b[1;32mpandas\\_libs\\hashtable_class_helper.pxi\u001b[0m in \u001b[0;36mpandas._libs.hashtable.PyObjectHashTable.get_item\u001b[1;34m()\u001b[0m\n",
      "\u001b[1;31mKeyError\u001b[0m: 'C1072'",
      "\nThe above exception was the direct cause of the following exception:\n",
      "\u001b[1;31mKeyError\u001b[0m                                  Traceback (most recent call last)",
      "\u001b[1;32m<ipython-input-27-ae10e585a13d>\u001b[0m in \u001b[0;36m<module>\u001b[1;34m\u001b[0m\n\u001b[0;32m      7\u001b[0m \u001b[1;32mfor\u001b[0m \u001b[0midx\u001b[0m\u001b[1;33m,\u001b[0m \u001b[0mdanji_code\u001b[0m \u001b[1;32min\u001b[0m \u001b[0menumerate\u001b[0m\u001b[1;33m(\u001b[0m\u001b[0mtest\u001b[0m\u001b[1;33m[\u001b[0m\u001b[1;34m'단지코드'\u001b[0m\u001b[1;33m]\u001b[0m\u001b[1;33m.\u001b[0m\u001b[0munique\u001b[0m\u001b[1;33m(\u001b[0m\u001b[1;33m)\u001b[0m\u001b[1;33m)\u001b[0m\u001b[1;33m:\u001b[0m\u001b[1;33m\u001b[0m\u001b[1;33m\u001b[0m\u001b[0m\n\u001b[0;32m      8\u001b[0m \u001b[1;33m\u001b[0m\u001b[0m\n\u001b[1;32m----> 9\u001b[1;33m     \u001b[0mtemp_df\u001b[0m \u001b[1;33m=\u001b[0m \u001b[0mtest_copy\u001b[0m\u001b[1;33m[\u001b[0m\u001b[0mdanji_code\u001b[0m\u001b[1;33m]\u001b[0m\u001b[1;33m\u001b[0m\u001b[1;33m\u001b[0m\u001b[0m\n\u001b[0m\u001b[0;32m     10\u001b[0m \u001b[1;33m\u001b[0m\u001b[0m\n\u001b[0;32m     11\u001b[0m     \u001b[1;31m# columns name 가져와서 넣기\u001b[0m\u001b[1;33m\u001b[0m\u001b[1;33m\u001b[0m\u001b[1;33m\u001b[0m\u001b[0m\n",
      "\u001b[1;32m~\\anaconda3\\envs\\test\\lib\\site-packages\\pandas\\core\\frame.py\u001b[0m in \u001b[0;36m__getitem__\u001b[1;34m(self, key)\u001b[0m\n\u001b[0;32m   3022\u001b[0m             \u001b[1;32mif\u001b[0m \u001b[0mself\u001b[0m\u001b[1;33m.\u001b[0m\u001b[0mcolumns\u001b[0m\u001b[1;33m.\u001b[0m\u001b[0mnlevels\u001b[0m \u001b[1;33m>\u001b[0m \u001b[1;36m1\u001b[0m\u001b[1;33m:\u001b[0m\u001b[1;33m\u001b[0m\u001b[1;33m\u001b[0m\u001b[0m\n\u001b[0;32m   3023\u001b[0m                 \u001b[1;32mreturn\u001b[0m \u001b[0mself\u001b[0m\u001b[1;33m.\u001b[0m\u001b[0m_getitem_multilevel\u001b[0m\u001b[1;33m(\u001b[0m\u001b[0mkey\u001b[0m\u001b[1;33m)\u001b[0m\u001b[1;33m\u001b[0m\u001b[1;33m\u001b[0m\u001b[0m\n\u001b[1;32m-> 3024\u001b[1;33m             \u001b[0mindexer\u001b[0m \u001b[1;33m=\u001b[0m \u001b[0mself\u001b[0m\u001b[1;33m.\u001b[0m\u001b[0mcolumns\u001b[0m\u001b[1;33m.\u001b[0m\u001b[0mget_loc\u001b[0m\u001b[1;33m(\u001b[0m\u001b[0mkey\u001b[0m\u001b[1;33m)\u001b[0m\u001b[1;33m\u001b[0m\u001b[1;33m\u001b[0m\u001b[0m\n\u001b[0m\u001b[0;32m   3025\u001b[0m             \u001b[1;32mif\u001b[0m \u001b[0mis_integer\u001b[0m\u001b[1;33m(\u001b[0m\u001b[0mindexer\u001b[0m\u001b[1;33m)\u001b[0m\u001b[1;33m:\u001b[0m\u001b[1;33m\u001b[0m\u001b[1;33m\u001b[0m\u001b[0m\n\u001b[0;32m   3026\u001b[0m                 \u001b[0mindexer\u001b[0m \u001b[1;33m=\u001b[0m \u001b[1;33m[\u001b[0m\u001b[0mindexer\u001b[0m\u001b[1;33m]\u001b[0m\u001b[1;33m\u001b[0m\u001b[1;33m\u001b[0m\u001b[0m\n",
      "\u001b[1;32m~\\anaconda3\\envs\\test\\lib\\site-packages\\pandas\\core\\indexes\\base.py\u001b[0m in \u001b[0;36mget_loc\u001b[1;34m(self, key, method, tolerance)\u001b[0m\n\u001b[0;32m   3081\u001b[0m                 \u001b[1;32mreturn\u001b[0m \u001b[0mself\u001b[0m\u001b[1;33m.\u001b[0m\u001b[0m_engine\u001b[0m\u001b[1;33m.\u001b[0m\u001b[0mget_loc\u001b[0m\u001b[1;33m(\u001b[0m\u001b[0mcasted_key\u001b[0m\u001b[1;33m)\u001b[0m\u001b[1;33m\u001b[0m\u001b[1;33m\u001b[0m\u001b[0m\n\u001b[0;32m   3082\u001b[0m             \u001b[1;32mexcept\u001b[0m \u001b[0mKeyError\u001b[0m \u001b[1;32mas\u001b[0m \u001b[0merr\u001b[0m\u001b[1;33m:\u001b[0m\u001b[1;33m\u001b[0m\u001b[1;33m\u001b[0m\u001b[0m\n\u001b[1;32m-> 3083\u001b[1;33m                 \u001b[1;32mraise\u001b[0m \u001b[0mKeyError\u001b[0m\u001b[1;33m(\u001b[0m\u001b[0mkey\u001b[0m\u001b[1;33m)\u001b[0m \u001b[1;32mfrom\u001b[0m \u001b[0merr\u001b[0m\u001b[1;33m\u001b[0m\u001b[1;33m\u001b[0m\u001b[0m\n\u001b[0m\u001b[0;32m   3084\u001b[0m \u001b[1;33m\u001b[0m\u001b[0m\n\u001b[0;32m   3085\u001b[0m         \u001b[1;32mif\u001b[0m \u001b[0mtolerance\u001b[0m \u001b[1;32mis\u001b[0m \u001b[1;32mnot\u001b[0m \u001b[1;32mNone\u001b[0m\u001b[1;33m:\u001b[0m\u001b[1;33m\u001b[0m\u001b[1;33m\u001b[0m\u001b[0m\n",
      "\u001b[1;31mKeyError\u001b[0m: 'C1072'"
     ]
    }
   ],
   "source": [
    "fixedData_colName = ['단지코드', '총세대수', '지역', '공가수', '지하철', '버스', '단지내주차면수']\n",
    "UnfixedData_colName = ['전용면적', '전용면적별세대수', '임대보증금', '임대료']\n",
    "new_test = pd.DataFrame(columns=test.columns)\n",
    "\n",
    "test_copy = test.copy()\n",
    "\n",
    "for idx, danji_code in enumerate(test['단지코드'].unique()):\n",
    "    \n",
    "    temp_df = test_copyp[test_copy['단지코드'] == danji_code]\n",
    "    \n",
    "    # columns name 가져와서 넣기\n",
    "    for fixed_colName in fixedData_colName:\n",
    "        new_test.loc[inx, fixed_colName] = temp_df[fixed_colName][0]"
   ]
  },
  {
   "cell_type": "markdown",
   "id": "565f72df",
   "metadata": {},
   "source": [
    "# Predict"
   ]
  },
  {
   "cell_type": "code",
   "execution_count": 21,
   "id": "67f28227",
   "metadata": {
    "ExecuteTime": {
     "end_time": "2021-07-22T01:23:19.443465Z",
     "start_time": "2021-07-22T01:23:19.355319Z"
    },
    "id": "67f28227"
   },
   "outputs": [
    {
     "ename": "NameError",
     "evalue": "name 'x_test' is not defined",
     "output_type": "error",
     "traceback": [
      "\u001b[1;31m---------------------------------------------------------------------------\u001b[0m",
      "\u001b[1;31mNameError\u001b[0m                                 Traceback (most recent call last)",
      "\u001b[1;32m<ipython-input-21-0c40eedb2b60>\u001b[0m in \u001b[0;36m<module>\u001b[1;34m\u001b[0m\n\u001b[1;32m----> 1\u001b[1;33m \u001b[0mpred\u001b[0m \u001b[1;33m=\u001b[0m \u001b[0mforest\u001b[0m\u001b[1;33m.\u001b[0m\u001b[0mpredict\u001b[0m\u001b[1;33m(\u001b[0m\u001b[0mx_test\u001b[0m\u001b[1;33m)\u001b[0m\u001b[1;33m\u001b[0m\u001b[1;33m\u001b[0m\u001b[0m\n\u001b[0m",
      "\u001b[1;31mNameError\u001b[0m: name 'x_test' is not defined"
     ]
    }
   ],
   "source": [
    "pred = forest.predict(x_test)"
   ]
  },
  {
   "cell_type": "code",
   "execution_count": null,
   "id": "318298cd",
   "metadata": {
    "ExecuteTime": {
     "end_time": "2021-07-22T01:23:19.443465Z",
     "start_time": "2021-07-22T01:23:17.414Z"
    }
   },
   "outputs": [],
   "source": [
    "pred"
   ]
  },
  {
   "cell_type": "code",
   "execution_count": null,
   "id": "f5ce95c9",
   "metadata": {
    "ExecuteTime": {
     "end_time": "2021-07-22T01:23:19.443465Z",
     "start_time": "2021-07-22T01:23:17.415Z"
    },
    "id": "f5ce95c9"
   },
   "outputs": [],
   "source": [
    "submission['num'] = pred"
   ]
  },
  {
   "cell_type": "code",
   "execution_count": null,
   "id": "f874aee1",
   "metadata": {
    "ExecuteTime": {
     "end_time": "2021-07-22T01:23:19.443465Z",
     "start_time": "2021-07-22T01:23:17.416Z"
    }
   },
   "outputs": [],
   "source": [
    "submission"
   ]
  },
  {
   "cell_type": "code",
   "execution_count": null,
   "id": "4c1491a5",
   "metadata": {
    "ExecuteTime": {
     "end_time": "2021-07-22T01:23:19.451283Z",
     "start_time": "2021-07-22T01:23:17.417Z"
    },
    "id": "4c1491a5"
   },
   "outputs": [],
   "source": [
    "# submission.to_csv('baseline.csv', index=False)"
   ]
  }
 ],
 "metadata": {
  "colab": {
   "collapsed_sections": [],
   "name": "Lastest_주차 수요 예측(제출).ipynb",
   "provenance": []
  },
  "kernelspec": {
   "display_name": "Python 3",
   "language": "python",
   "name": "python3"
  },
  "language_info": {
   "codemirror_mode": {
    "name": "ipython",
    "version": 3
   },
   "file_extension": ".py",
   "mimetype": "text/x-python",
   "name": "python",
   "nbconvert_exporter": "python",
   "pygments_lexer": "ipython3",
   "version": "3.7.10"
  },
  "toc": {
   "base_numbering": 1,
   "nav_menu": {},
   "number_sections": true,
   "sideBar": true,
   "skip_h1_title": false,
   "title_cell": "Table of Contents",
   "title_sidebar": "Contents",
   "toc_cell": false,
   "toc_position": {},
   "toc_section_display": true,
   "toc_window_display": false
  },
  "varInspector": {
   "cols": {
    "lenName": 16,
    "lenType": 16,
    "lenVar": 40
   },
   "kernels_config": {
    "python": {
     "delete_cmd_postfix": "",
     "delete_cmd_prefix": "del ",
     "library": "var_list.py",
     "varRefreshCmd": "print(var_dic_list())"
    },
    "r": {
     "delete_cmd_postfix": ") ",
     "delete_cmd_prefix": "rm(",
     "library": "var_list.r",
     "varRefreshCmd": "cat(var_dic_list()) "
    }
   },
   "types_to_exclude": [
    "module",
    "function",
    "builtin_function_or_method",
    "instance",
    "_Feature"
   ],
   "window_display": false
  }
 },
 "nbformat": 4,
 "nbformat_minor": 5
}
