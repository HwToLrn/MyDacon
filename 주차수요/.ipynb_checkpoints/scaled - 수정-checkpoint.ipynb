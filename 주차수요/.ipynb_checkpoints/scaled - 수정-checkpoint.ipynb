{
 "cells": [
  {
   "cell_type": "code",
   "execution_count": 1,
   "id": "4bccbbf7",
   "metadata": {
    "ExecuteTime": {
     "end_time": "2021-07-21T14:32:56.576642Z",
     "start_time": "2021-07-21T14:32:56.218133Z"
    },
    "executionInfo": {
     "elapsed": 384,
     "status": "ok",
     "timestamp": 1626418401860,
     "user": {
      "displayName": "박재완",
      "photoUrl": "",
      "userId": "18327523315282194311"
     },
     "user_tz": -540
    },
    "id": "4bccbbf7"
   },
   "outputs": [],
   "source": [
    "%matplotlib inline\n",
    "%config InlineBackend.figure_format = 'retina'"
   ]
  },
  {
   "cell_type": "code",
   "execution_count": 2,
   "id": "fde9e222",
   "metadata": {
    "ExecuteTime": {
     "end_time": "2021-07-21T14:32:57.648641Z",
     "start_time": "2021-07-21T14:32:56.576642Z"
    },
    "executionInfo": {
     "elapsed": 1506,
     "status": "ok",
     "timestamp": 1626418405988,
     "user": {
      "displayName": "박재완",
      "photoUrl": "",
      "userId": "18327523315282194311"
     },
     "user_tz": -540
    },
    "id": "fde9e222"
   },
   "outputs": [],
   "source": [
    "import pandas as pd\n",
    "import numpy as np\n",
    "from sklearn.ensemble import RandomForestRegressor\n",
    "from tqdm import tqdm\n",
    "import matplotlib.pyplot as plt\n",
    "import seaborn as sns\n",
    "from sklearn.preprocessing import MinMaxScaler, StandardScaler, Normalizer, RobustScaler\n",
    "pd.options.display.float_format = '{:.3f}'.format"
   ]
  },
  {
   "cell_type": "markdown",
   "id": "8371ff54",
   "metadata": {
    "id": "8371ff54"
   },
   "source": [
    "# 데이터 불러오기"
   ]
  },
  {
   "cell_type": "code",
   "execution_count": 3,
   "id": "8a9a38e6",
   "metadata": {
    "ExecuteTime": {
     "end_time": "2021-07-21T14:32:57.688641Z",
     "start_time": "2021-07-21T14:32:57.648641Z"
    },
    "executionInfo": {
     "elapsed": 2675,
     "status": "ok",
     "timestamp": 1626418508349,
     "user": {
      "displayName": "박재완",
      "photoUrl": "",
      "userId": "18327523315282194311"
     },
     "user_tz": -540
    },
    "id": "8a9a38e6"
   },
   "outputs": [],
   "source": [
    "train = pd.read_csv('data/train.csv')\n",
    "test = pd.read_csv('data/test.csv')\n",
    "car_2020 = pd.read_csv('data/car_2020.csv',encoding='cp949')\n",
    "age = pd.read_csv('data/age_gender_info.csv')\n",
    "submission = pd.read_csv('data/sample_submission.csv')"
   ]
  },
  {
   "cell_type": "markdown",
   "id": "ffbee22f",
   "metadata": {
    "id": "ffbee22f"
   },
   "source": [
    "# 필요한 컬럼만 가져오기"
   ]
  },
  {
   "cell_type": "code",
   "execution_count": 4,
   "id": "8a1e4b55",
   "metadata": {
    "ExecuteTime": {
     "end_time": "2021-07-21T14:32:57.704641Z",
     "start_time": "2021-07-21T14:32:57.688641Z"
    },
    "executionInfo": {
     "elapsed": 384,
     "status": "ok",
     "timestamp": 1626418569160,
     "user": {
      "displayName": "박재완",
      "photoUrl": "",
      "userId": "18327523315282194311"
     },
     "user_tz": -540
    },
    "id": "8a1e4b55"
   },
   "outputs": [],
   "source": [
    "train = train[ ['단지코드', '총세대수', '전용면적', '전용면적별세대수', '공가수', '임대보증금', '임대료', '단지내주차면수', '등록차량수'] ]"
   ]
  },
  {
   "cell_type": "markdown",
   "id": "13db3682",
   "metadata": {
    "id": "13db3682"
   },
   "source": [
    "# 결측치 처리"
   ]
  },
  {
   "cell_type": "code",
   "execution_count": 5,
   "id": "6c2a944b",
   "metadata": {
    "ExecuteTime": {
     "end_time": "2021-07-21T14:32:57.736720Z",
     "start_time": "2021-07-21T14:32:57.704641Z"
    },
    "executionInfo": {
     "elapsed": 398,
     "status": "ok",
     "timestamp": 1626418574070,
     "user": {
      "displayName": "박재완",
      "photoUrl": "",
      "userId": "18327523315282194311"
     },
     "user_tz": -540
    },
    "id": "6c2a944b"
   },
   "outputs": [],
   "source": [
    "train.loc[train.임대보증금=='-', '임대보증금'] = np.nan\n",
    "train.loc[train.임대료=='-', '임대료'] = np.nan\n",
    "train['임대보증금'] = train['임대보증금'].astype(float)\n",
    "train['임대료'] = train['임대료'].astype(float)\n",
    "train['임대보증금'] = train['임대보증금'].fillna(0)\n",
    "train['임대료'] = train['임대료'].fillna(0)"
   ]
  },
  {
   "cell_type": "code",
   "execution_count": 6,
   "id": "70a59871",
   "metadata": {
    "ExecuteTime": {
     "end_time": "2021-07-21T14:32:57.752642Z",
     "start_time": "2021-07-21T14:32:57.736720Z"
    }
   },
   "outputs": [
    {
     "data": {
      "text/html": [
       "<div>\n",
       "<style scoped>\n",
       "    .dataframe tbody tr th:only-of-type {\n",
       "        vertical-align: middle;\n",
       "    }\n",
       "\n",
       "    .dataframe tbody tr th {\n",
       "        vertical-align: top;\n",
       "    }\n",
       "\n",
       "    .dataframe thead th {\n",
       "        text-align: right;\n",
       "    }\n",
       "</style>\n",
       "<table border=\"1\" class=\"dataframe\">\n",
       "  <thead>\n",
       "    <tr style=\"text-align: right;\">\n",
       "      <th></th>\n",
       "      <th>등록차량수</th>\n",
       "    </tr>\n",
       "  </thead>\n",
       "  <tbody>\n",
       "    <tr>\n",
       "      <th>등록차량수</th>\n",
       "      <td>1.000</td>\n",
       "    </tr>\n",
       "    <tr>\n",
       "      <th>단지내주차면수</th>\n",
       "      <td>0.859</td>\n",
       "    </tr>\n",
       "    <tr>\n",
       "      <th>임대료</th>\n",
       "      <td>0.520</td>\n",
       "    </tr>\n",
       "    <tr>\n",
       "      <th>임대보증금</th>\n",
       "      <td>0.436</td>\n",
       "    </tr>\n",
       "    <tr>\n",
       "      <th>총세대수</th>\n",
       "      <td>0.317</td>\n",
       "    </tr>\n",
       "    <tr>\n",
       "      <th>전용면적별세대수</th>\n",
       "      <td>0.247</td>\n",
       "    </tr>\n",
       "    <tr>\n",
       "      <th>공가수</th>\n",
       "      <td>0.118</td>\n",
       "    </tr>\n",
       "    <tr>\n",
       "      <th>전용면적</th>\n",
       "      <td>0.115</td>\n",
       "    </tr>\n",
       "  </tbody>\n",
       "</table>\n",
       "</div>"
      ],
      "text/plain": [
       "          등록차량수\n",
       "등록차량수     1.000\n",
       "단지내주차면수   0.859\n",
       "임대료       0.520\n",
       "임대보증금     0.436\n",
       "총세대수      0.317\n",
       "전용면적별세대수  0.247\n",
       "공가수       0.118\n",
       "전용면적      0.115"
      ]
     },
     "execution_count": 6,
     "metadata": {},
     "output_type": "execute_result"
    }
   ],
   "source": [
    "pd.DataFrame(train.corr()['등록차량수'].abs().sort_values(ascending=False))"
   ]
  },
  {
   "cell_type": "markdown",
   "id": "837efa3b",
   "metadata": {
    "id": "837efa3b"
   },
   "source": [
    "# 전용면적을 5의 배수로 변경"
   ]
  },
  {
   "cell_type": "code",
   "execution_count": 7,
   "id": "fd726145",
   "metadata": {
    "ExecuteTime": {
     "end_time": "2021-07-21T14:32:57.768604Z",
     "start_time": "2021-07-21T14:32:57.752642Z"
    },
    "executionInfo": {
     "elapsed": 508,
     "status": "ok",
     "timestamp": 1626418583646,
     "user": {
      "displayName": "박재완",
      "photoUrl": "",
      "userId": "18327523315282194311"
     },
     "user_tz": -540
    },
    "id": "fd726145"
   },
   "outputs": [],
   "source": [
    "train['전용면적'] = np.round(train['전용면적'], 0)\n",
    "train['전용면적'] = train['전용면적']//5*5"
   ]
  },
  {
   "cell_type": "markdown",
   "id": "e640c287",
   "metadata": {
    "id": "e640c287"
   },
   "source": [
    "# 전용면적 상/하한 적용"
   ]
  },
  {
   "cell_type": "code",
   "execution_count": 8,
   "id": "d4067e14",
   "metadata": {
    "ExecuteTime": {
     "end_time": "2021-07-21T14:32:57.784603Z",
     "start_time": "2021-07-21T14:32:57.768604Z"
    },
    "executionInfo": {
     "elapsed": 1,
     "status": "ok",
     "timestamp": 1626418585010,
     "user": {
      "displayName": "박재완",
      "photoUrl": "",
      "userId": "18327523315282194311"
     },
     "user_tz": -540
    },
    "id": "d4067e14"
   },
   "outputs": [],
   "source": [
    "idx = train[train['전용면적']>100].index\n",
    "train.loc[idx, '전용면적'] = 100\n",
    "\n",
    "idx = train[train['전용면적']<15].index\n",
    "train.loc[idx, '전용면적'] = 15"
   ]
  },
  {
   "cell_type": "markdown",
   "id": "300cd409",
   "metadata": {
    "id": "300cd409"
   },
   "source": [
    "# test 불러오기"
   ]
  },
  {
   "cell_type": "code",
   "execution_count": 9,
   "id": "405d1fd7",
   "metadata": {
    "ExecuteTime": {
     "end_time": "2021-07-21T14:32:57.800642Z",
     "start_time": "2021-07-21T14:32:57.784603Z"
    },
    "executionInfo": {
     "elapsed": 424,
     "status": "ok",
     "timestamp": 1626418587986,
     "user": {
      "displayName": "박재완",
      "photoUrl": "",
      "userId": "18327523315282194311"
     },
     "user_tz": -540
    },
    "id": "405d1fd7"
   },
   "outputs": [],
   "source": [
    "test = test[ ['단지코드', '총세대수', '전용면적', '전용면적별세대수', '공가수', '임대보증금', '임대료', '단지내주차면수'] ]"
   ]
  },
  {
   "cell_type": "code",
   "execution_count": 10,
   "id": "3e5a344d",
   "metadata": {
    "ExecuteTime": {
     "end_time": "2021-07-21T14:32:57.816603Z",
     "start_time": "2021-07-21T14:32:57.800642Z"
    },
    "executionInfo": {
     "elapsed": 394,
     "status": "ok",
     "timestamp": 1626419593919,
     "user": {
      "displayName": "박재완",
      "photoUrl": "",
      "userId": "18327523315282194311"
     },
     "user_tz": -540
    },
    "id": "3e5a344d"
   },
   "outputs": [],
   "source": [
    "test.loc[test.임대보증금=='-', '임대보증금'] = np.nan\n",
    "test.loc[test.임대료=='-', '임대료'] = np.nan\n",
    "test['임대보증금'] = test['임대보증금'].fillna(0)\n",
    "test['임대료'] = test['임대료'].fillna(0)\n",
    "test['임대보증금'] = test['임대보증금'].astype(float)\n",
    "test['임대료'] = test['임대료'].astype(float)"
   ]
  },
  {
   "cell_type": "code",
   "execution_count": 11,
   "id": "kpmRHrwKKLUU",
   "metadata": {
    "ExecuteTime": {
     "end_time": "2021-07-21T14:32:57.832654Z",
     "start_time": "2021-07-21T14:32:57.816603Z"
    },
    "executionInfo": {
     "elapsed": 2,
     "status": "ok",
     "timestamp": 1626419595695,
     "user": {
      "displayName": "박재완",
      "photoUrl": "",
      "userId": "18327523315282194311"
     },
     "user_tz": -540
    },
    "id": "kpmRHrwKKLUU"
   },
   "outputs": [],
   "source": [
    "test['전용면적'] = np.round(test['전용면적'], 0)\n",
    "test['전용면적'] = test['전용면적']//5*5\n",
    "\n",
    "idx = test[test['전용면적']>100].index\n",
    "test.loc[idx, '전용면적'] = 100\n",
    "\n",
    "idx = test[test['전용면적']<15].index\n",
    "test.loc[idx, '전용면적'] = 15"
   ]
  },
  {
   "cell_type": "code",
   "execution_count": 12,
   "id": "d7d3c8db",
   "metadata": {
    "ExecuteTime": {
     "end_time": "2021-07-21T14:32:57.848650Z",
     "start_time": "2021-07-21T14:32:57.832654Z"
    },
    "executionInfo": {
     "elapsed": 412,
     "status": "ok",
     "timestamp": 1626419604376,
     "user": {
      "displayName": "박재완",
      "photoUrl": "",
      "userId": "18327523315282194311"
     },
     "user_tz": -540
    },
    "id": "d7d3c8db"
   },
   "outputs": [],
   "source": [
    "columns = ['총세대수', '전용면적', '전용면적별세대수', '공가수', '임대보증금', '임대료', '단지내주차면수']\n",
    "target = '등록차량수'\n",
    "area_columns = []\n",
    "for area in train['전용면적'].unique():\n",
    "    area_columns.append(f'면적_{area}')"
   ]
  },
  {
   "cell_type": "code",
   "execution_count": 13,
   "id": "1d6a9bbf",
   "metadata": {
    "ExecuteTime": {
     "end_time": "2021-07-21T14:32:57.864642Z",
     "start_time": "2021-07-21T14:32:57.848650Z"
    },
    "executionInfo": {
     "elapsed": 2,
     "status": "ok",
     "timestamp": 1626419604793,
     "user": {
      "displayName": "박재완",
      "photoUrl": "",
      "userId": "18327523315282194311"
     },
     "user_tz": -540
    },
    "id": "1d6a9bbf"
   },
   "outputs": [],
   "source": [
    "new_train = pd.DataFrame()\n",
    "new_test = pd.DataFrame()\n",
    "\n",
    "new_train['임대보증금'] = 0\n",
    "new_train['임대료'] = 0"
   ]
  },
  {
   "cell_type": "markdown",
   "id": "t_MyqJ24G5dp",
   "metadata": {
    "id": "t_MyqJ24G5dp"
   },
   "source": [
    "# 전용면적 / 최빈값\n",
    "# 전용면적별세대수, 임대보증금, 임대료 / 평균값"
   ]
  },
  {
   "cell_type": "code",
   "execution_count": 14,
   "id": "FwCH0aL1G74e",
   "metadata": {
    "ExecuteTime": {
     "end_time": "2021-07-21T14:33:07.810378Z",
     "start_time": "2021-07-21T14:32:57.864642Z"
    },
    "colab": {
     "base_uri": "https://localhost:8080/"
    },
    "executionInfo": {
     "elapsed": 17110,
     "status": "ok",
     "timestamp": 1626419631425,
     "user": {
      "displayName": "박재완",
      "photoUrl": "",
      "userId": "18327523315282194311"
     },
     "user_tz": -540
    },
    "id": "FwCH0aL1G74e",
    "outputId": "e63df926-4ebe-4fb3-91bf-9715cff73de7"
   },
   "outputs": [
    {
     "name": "stderr",
     "output_type": "stream",
     "text": [
      "423it [00:07, 57.86it/s]\n",
      "150it [00:02, 58.96it/s]\n"
     ]
    }
   ],
   "source": [
    "# Train Dataframe Set\n",
    "# 미사용 열s - 임대건물구분, 공급유형, 자격유형 임대보증금, 임대료\n",
    "for i, code in tqdm(enumerate(train['단지코드'].unique())):\n",
    "    temp = train[train['단지코드']==code]\n",
    "    temp.index = range(temp.shape[0]) # index 재설정\n",
    "    for col in columns:\n",
    "        new_train.loc[i, col] = temp.loc[0, col] # Fixed Data\n",
    "    \n",
    "    deposit_cost = []\n",
    "    rental_cost = []\n",
    "\n",
    "    for col in area_columns:\n",
    "        area = float(col.split('_')[-1]) # 면적의 숫자를 float형으로 저장\n",
    "        # '면적_10' 등의 열을 만들고 - 같은 전용면적들 끼리 전용면적별세대수의 합을 Value로 Cell에 입력\n",
    "        new_train.loc[i, col] = temp[temp['전용면적']==area]['전용면적별세대수'].sum()\n",
    "        \n",
    "        try:\n",
    "          deposit_cost.append(temp[temp['전용면적']==area]['임대보증금'][0])\n",
    "          rental_cost.append(temp[temp['전용면적']==area]['임대료'][0])\n",
    "        except KeyError as e:\n",
    "          continue\n",
    "    \n",
    "    new_train.loc[i, '등록차량수'] = temp.loc[0, '등록차량수']\n",
    "    \n",
    "    new_train.loc[i, '임대보증금'] = np.mean(float(np.array(deposit_cost)))\n",
    "    new_train.loc[i, '임대료'] = np.mean(float(np.array(rental_cost)))\n",
    "\n",
    "# Test DataFrame Set\n",
    "# 미사용 열s - 임대건물구분, 공급유형, 자격유형 임대보증금, 임대료, 등록차량수\n",
    "for i, code in tqdm(enumerate(test['단지코드'].unique())):\n",
    "    temp = test[test['단지코드']==code]\n",
    "    temp.index = range(temp.shape[0])\n",
    "    for col in columns:\n",
    "        new_test.loc[i, col] = temp.loc[0, col]\n",
    "\n",
    "    deposit_cost = []\n",
    "    rental_cost = []\n",
    "    \n",
    "    for col in area_columns:\n",
    "        area = float(col.split('_')[-1])\n",
    "        new_test.loc[i, col] = temp[temp['전용면적']==area]['전용면적별세대수'].sum()\n",
    "        \n",
    "        try:\n",
    "          deposit_cost.append(temp[temp['전용면적']==area]['임대보증금'][0])\n",
    "          rental_cost.append(temp[temp['전용면적']==area]['임대료'][0])\n",
    "        except KeyError as e:\n",
    "          continue\n",
    "          \n",
    "    new_test.loc[i, '임대보증금'] = np.mean(float(np.array(deposit_cost)))\n",
    "    new_test.loc[i, '임대료'] = np.mean(float(np.array(rental_cost)))"
   ]
  },
  {
   "cell_type": "code",
   "execution_count": 15,
   "id": "iFbUQZ0lKkaE",
   "metadata": {
    "ExecuteTime": {
     "end_time": "2021-07-21T14:33:07.826236Z",
     "start_time": "2021-07-21T14:33:07.810378Z"
    },
    "colab": {
     "base_uri": "https://localhost:8080/",
     "height": 394
    },
    "executionInfo": {
     "elapsed": 481,
     "status": "ok",
     "timestamp": 1626419655580,
     "user": {
      "displayName": "박재완",
      "photoUrl": "",
      "userId": "18327523315282194311"
     },
     "user_tz": -540
    },
    "id": "iFbUQZ0lKkaE",
    "outputId": "0fd54612-0a4b-41e4-d5c2-414f3f6f9a4e",
    "scrolled": true
   },
   "outputs": [
    {
     "data": {
      "text/html": [
       "<div>\n",
       "<style scoped>\n",
       "    .dataframe tbody tr th:only-of-type {\n",
       "        vertical-align: middle;\n",
       "    }\n",
       "\n",
       "    .dataframe tbody tr th {\n",
       "        vertical-align: top;\n",
       "    }\n",
       "\n",
       "    .dataframe thead th {\n",
       "        text-align: right;\n",
       "    }\n",
       "</style>\n",
       "<table border=\"1\" class=\"dataframe\">\n",
       "  <thead>\n",
       "    <tr style=\"text-align: right;\">\n",
       "      <th></th>\n",
       "      <th>임대보증금</th>\n",
       "      <th>임대료</th>\n",
       "      <th>총세대수</th>\n",
       "      <th>전용면적</th>\n",
       "      <th>전용면적별세대수</th>\n",
       "      <th>공가수</th>\n",
       "      <th>단지내주차면수</th>\n",
       "      <th>면적_40.0</th>\n",
       "      <th>면적_50.0</th>\n",
       "      <th>면적_60.0</th>\n",
       "      <th>면적_30.0</th>\n",
       "      <th>면적_45.0</th>\n",
       "      <th>면적_35.0</th>\n",
       "      <th>면적_25.0</th>\n",
       "      <th>면적_70.0</th>\n",
       "      <th>면적_15.0</th>\n",
       "      <th>면적_20.0</th>\n",
       "      <th>면적_55.0</th>\n",
       "      <th>면적_100.0</th>\n",
       "      <th>면적_75.0</th>\n",
       "      <th>면적_80.0</th>\n",
       "      <th>면적_85.0</th>\n",
       "      <th>면적_65.0</th>\n",
       "      <th>등록차량수</th>\n",
       "    </tr>\n",
       "  </thead>\n",
       "  <tbody>\n",
       "    <tr>\n",
       "      <th>0</th>\n",
       "      <td>15667000.000</td>\n",
       "      <td>103680.000</td>\n",
       "      <td>900.000</td>\n",
       "      <td>40.000</td>\n",
       "      <td>134.000</td>\n",
       "      <td>38.000</td>\n",
       "      <td>1425.000</td>\n",
       "      <td>149.000</td>\n",
       "      <td>665.000</td>\n",
       "      <td>86.000</td>\n",
       "      <td>0.000</td>\n",
       "      <td>0.000</td>\n",
       "      <td>0.000</td>\n",
       "      <td>0.000</td>\n",
       "      <td>0.000</td>\n",
       "      <td>0.000</td>\n",
       "      <td>0.000</td>\n",
       "      <td>0.000</td>\n",
       "      <td>0.000</td>\n",
       "      <td>0.000</td>\n",
       "      <td>0.000</td>\n",
       "      <td>0.000</td>\n",
       "      <td>0.000</td>\n",
       "      <td>1015.000</td>\n",
       "    </tr>\n",
       "    <tr>\n",
       "      <th>1</th>\n",
       "      <td>9216000.000</td>\n",
       "      <td>82940.000</td>\n",
       "      <td>545.000</td>\n",
       "      <td>30.000</td>\n",
       "      <td>276.000</td>\n",
       "      <td>17.000</td>\n",
       "      <td>624.000</td>\n",
       "      <td>80.000</td>\n",
       "      <td>132.000</td>\n",
       "      <td>0.000</td>\n",
       "      <td>276.000</td>\n",
       "      <td>57.000</td>\n",
       "      <td>0.000</td>\n",
       "      <td>0.000</td>\n",
       "      <td>0.000</td>\n",
       "      <td>0.000</td>\n",
       "      <td>0.000</td>\n",
       "      <td>0.000</td>\n",
       "      <td>0.000</td>\n",
       "      <td>0.000</td>\n",
       "      <td>0.000</td>\n",
       "      <td>0.000</td>\n",
       "      <td>0.000</td>\n",
       "      <td>205.000</td>\n",
       "    </tr>\n",
       "  </tbody>\n",
       "</table>\n",
       "</div>"
      ],
      "text/plain": [
       "         임대보증금        임대료    총세대수   전용면적  전용면적별세대수    공가수  단지내주차면수  면적_40.0  \\\n",
       "0 15667000.000 103680.000 900.000 40.000   134.000 38.000 1425.000  149.000   \n",
       "1  9216000.000  82940.000 545.000 30.000   276.000 17.000  624.000   80.000   \n",
       "\n",
       "   면적_50.0  면적_60.0  면적_30.0  면적_45.0  면적_35.0  면적_25.0  면적_70.0  면적_15.0  \\\n",
       "0  665.000   86.000    0.000    0.000    0.000    0.000    0.000    0.000   \n",
       "1  132.000    0.000  276.000   57.000    0.000    0.000    0.000    0.000   \n",
       "\n",
       "   면적_20.0  면적_55.0  면적_100.0  면적_75.0  면적_80.0  면적_85.0  면적_65.0    등록차량수  \n",
       "0    0.000    0.000     0.000    0.000    0.000    0.000    0.000 1015.000  \n",
       "1    0.000    0.000     0.000    0.000    0.000    0.000    0.000  205.000  "
      ]
     },
     "execution_count": 15,
     "metadata": {},
     "output_type": "execute_result"
    }
   ],
   "source": [
    "pd.set_option('max_columns', 30)\n",
    "new_train.head(2)"
   ]
  },
  {
   "cell_type": "markdown",
   "id": "b567bf64",
   "metadata": {},
   "source": [
    "# Training / Test Data Split"
   ]
  },
  {
   "cell_type": "code",
   "execution_count": 16,
   "id": "1ecf366d",
   "metadata": {
    "ExecuteTime": {
     "end_time": "2021-07-21T14:33:07.842220Z",
     "start_time": "2021-07-21T14:33:07.826236Z"
    },
    "id": "1ecf366d"
   },
   "outputs": [],
   "source": [
    "new_train_copy = new_train.copy()\n",
    "new_test_copy = new_test.copy()\n",
    "\n",
    "new_train_copy = new_train_copy[new_train_copy['임대보증금'] != 0 ]\n",
    "new_train_copy = new_train_copy[new_train_copy['임대료'] != 0 ]\n",
    "\n",
    "# del new_train_copy['전용면적별세대수']\n",
    "# del new_test_copy['전용면적별세대수']\n",
    "del new_train_copy['전용면적']\n",
    "del new_test_copy['전용면적']\n",
    "\n",
    "x_train = new_train_copy.iloc[:, :-1]\n",
    "y_train = new_train_copy.iloc[:,-1]\n",
    "x_test = new_test_copy"
   ]
  },
  {
   "cell_type": "markdown",
   "id": "aabaeb62",
   "metadata": {},
   "source": [
    "# Training Data Scaling"
   ]
  },
  {
   "cell_type": "code",
   "execution_count": 17,
   "id": "c9043811",
   "metadata": {
    "ExecuteTime": {
     "end_time": "2021-07-21T14:33:07.858216Z",
     "start_time": "2021-07-21T14:33:07.842220Z"
    }
   },
   "outputs": [
    {
     "data": {
      "text/plain": [
       "Index(['임대보증금', '임대료', '총세대수', '전용면적별세대수', '공가수', '단지내주차면수', '면적_40.0',\n",
       "       '면적_50.0', '면적_60.0', '면적_30.0', '면적_45.0', '면적_35.0', '면적_25.0',\n",
       "       '면적_70.0', '면적_15.0', '면적_20.0', '면적_55.0', '면적_100.0', '면적_75.0',\n",
       "       '면적_80.0', '면적_85.0', '면적_65.0'],\n",
       "      dtype='object')"
      ]
     },
     "execution_count": 17,
     "metadata": {},
     "output_type": "execute_result"
    }
   ],
   "source": [
    "x_train.columns"
   ]
  },
  {
   "cell_type": "code",
   "execution_count": 18,
   "id": "c1a6e3c5",
   "metadata": {
    "ExecuteTime": {
     "end_time": "2021-07-21T14:33:07.874219Z",
     "start_time": "2021-07-21T14:33:07.858216Z"
    },
    "scrolled": true
   },
   "outputs": [
    {
     "name": "stderr",
     "output_type": "stream",
     "text": [
      "C:\\Users\\pksmb\\anaconda3\\envs\\test\\lib\\site-packages\\ipykernel_launcher.py:7: SettingWithCopyWarning: \n",
      "A value is trying to be set on a copy of a slice from a DataFrame.\n",
      "Try using .loc[row_indexer,col_indexer] = value instead\n",
      "\n",
      "See the caveats in the documentation: https://pandas.pydata.org/pandas-docs/stable/user_guide/indexing.html#returning-a-view-versus-a-copy\n",
      "  import sys\n",
      "C:\\Users\\pksmb\\anaconda3\\envs\\test\\lib\\site-packages\\ipykernel_launcher.py:8: SettingWithCopyWarning: \n",
      "A value is trying to be set on a copy of a slice from a DataFrame.\n",
      "Try using .loc[row_indexer,col_indexer] = value instead\n",
      "\n",
      "See the caveats in the documentation: https://pandas.pydata.org/pandas-docs/stable/user_guide/indexing.html#returning-a-view-versus-a-copy\n",
      "  \n",
      "C:\\Users\\pksmb\\anaconda3\\envs\\test\\lib\\site-packages\\ipykernel_launcher.py:9: SettingWithCopyWarning: \n",
      "A value is trying to be set on a copy of a slice from a DataFrame.\n",
      "Try using .loc[row_indexer,col_indexer] = value instead\n",
      "\n",
      "See the caveats in the documentation: https://pandas.pydata.org/pandas-docs/stable/user_guide/indexing.html#returning-a-view-versus-a-copy\n",
      "  if __name__ == '__main__':\n"
     ]
    }
   ],
   "source": [
    "cols = x_train.columns\n",
    "\n",
    "# log scale을 해주는 이유\n",
    "# - 너무 큰 값을 log scale해주면 minmaxscaler를 쓸 때 4분위수가 잘 나눠지기 때문임\n",
    "# log를 할 때 0인 값이 있으면 ValueError가 발생함\n",
    "\n",
    "x_train['총세대수'] = np.where(x_train['총세대수'] == 0, 0, np.log(x_train['총세대수']))\n",
    "x_train['임대료'] = np.where(x_train['임대료'] == 0, 0, np.log(x_train['임대료']))\n",
    "x_train['임대보증금'] = np.where(x_train['임대보증금'] == 0, 0, np.log(x_train['임대보증금']))\n",
    "# x_train['면적_15.0'] = np.where(x_train['면적_15.0'] == 0, 0, np.log(x_train['면적_15.0']))\n",
    "# x_train['면적_25.0'] = np.where(x_train['면적_25.0'] == 0, 0, np.log(x_train['면적_25.0']))\n",
    "# x_train['면적_30.0'] = np.where(x_train['면적_30.0'] == 0, 0, np.log(x_train['면적_30.0']))\n",
    "# x_train['면적_55.0'] = np.where(x_train['면적_55.0'] == 0, 0, np.log(x_train['면적_55.0']))\n",
    "# x_train['면적_65.0'] = np.where(x_train['면적_65.0'] == 0, 0, np.log(x_train['면적_65.0']))\n",
    "# x_train['면적_75.0'] = np.where(x_train['면적_75.0'] == 0, 0, np.log(x_train['면적_75.0']))\n",
    "# x_train['면적_85.0'] = np.where(x_train['면적_85.0'] == 0, 0, np.log(x_train['면적_85.0']))\n",
    "\n",
    "# scaler = MinMaxScaler()\n",
    "# scaler = StandardScaler()\n",
    "# scaler = RobustScaler()\n",
    "# scaler.fit(x_train)\n",
    "\n",
    "# scaler.transform의 DataType이 numpy.array type임 \n",
    "# x_train_scaled = pd.DataFrame(data=scaler.transform(x_train), columns=cols)"
   ]
  },
  {
   "cell_type": "markdown",
   "id": "3e62b3b2",
   "metadata": {},
   "source": [
    "### 총세대수, 면적 15/25/30/55/65/75/85"
   ]
  },
  {
   "cell_type": "code",
   "execution_count": 19,
   "id": "a3501d02",
   "metadata": {
    "ExecuteTime": {
     "end_time": "2021-07-21T14:33:07.890225Z",
     "start_time": "2021-07-21T14:33:07.874219Z"
    }
   },
   "outputs": [],
   "source": [
    "# x_train_scaled = x_train_scaled[ ['총세대수', '공가수', '임대보증금', '임대료',\t'단지내주차면수'] ]\n",
    "# x_test = x_test[ ['총세대수', '공가수', '임대보증금', '임대료',\t'단지내주차면수'] ]"
   ]
  },
  {
   "cell_type": "markdown",
   "id": "39c5aba8",
   "metadata": {},
   "source": [
    "# Create Model & Fitting"
   ]
  },
  {
   "cell_type": "code",
   "execution_count": 20,
   "id": "db70b735",
   "metadata": {
    "ExecuteTime": {
     "end_time": "2021-07-21T14:33:08.062441Z",
     "start_time": "2021-07-21T14:33:07.890225Z"
    },
    "id": "db70b735",
    "outputId": "b8dce862-5ff1-45ba-ea72-420b5b5215ac"
   },
   "outputs": [
    {
     "data": {
      "text/plain": [
       "RandomForestRegressor(n_jobs=-1, random_state=42)"
      ]
     },
     "execution_count": 20,
     "metadata": {},
     "output_type": "execute_result"
    }
   ],
   "source": [
    "from sklearn.linear_model import LinearRegression\n",
    "import xgboost\n",
    "\n",
    "# xgb = xgboost.XGBRegressor()\n",
    "# xgb.fit(x_train_scaled, y_train)\n",
    "# forest = LinearRegression()\n",
    "forest = RandomForestRegressor(n_jobs=-1, random_state=42)\n",
    "forest.fit(x_train, y_train)"
   ]
  },
  {
   "cell_type": "markdown",
   "id": "854b1351",
   "metadata": {},
   "source": [
    "# Predict"
   ]
  },
  {
   "cell_type": "code",
   "execution_count": 21,
   "id": "67f28227",
   "metadata": {
    "ExecuteTime": {
     "end_time": "2021-07-21T14:33:08.190453Z",
     "start_time": "2021-07-21T14:33:08.062441Z"
    },
    "id": "67f28227"
   },
   "outputs": [],
   "source": [
    "pred = forest.predict(x_test)"
   ]
  },
  {
   "cell_type": "code",
   "execution_count": 22,
   "id": "f5ce95c9",
   "metadata": {
    "ExecuteTime": {
     "end_time": "2021-07-21T14:33:08.214469Z",
     "start_time": "2021-07-21T14:33:08.198412Z"
    },
    "id": "f5ce95c9"
   },
   "outputs": [],
   "source": [
    "submission['num'] = pred"
   ]
  },
  {
   "cell_type": "code",
   "execution_count": 23,
   "id": "d57a06ce",
   "metadata": {
    "ExecuteTime": {
     "end_time": "2021-07-21T14:33:08.238449Z",
     "start_time": "2021-07-21T14:33:08.214469Z"
    }
   },
   "outputs": [
    {
     "data": {
      "text/plain": [
       "array([ 825.35, 1293.67,  610.31,  609.96, 1249.13, 1540.1 , 1187.79,\n",
       "        532.57,  410.85,  212.34,  498.11,  406.34,  449.3 ,  210.64,\n",
       "        389.69,  354.78,  473.51,  199.09,  167.58,  996.89,  235.75,\n",
       "        481.73,  579.2 ,  624.39,  497.57,  139.16,  138.87,  693.54,\n",
       "        638.86,  568.93, 1188.62,  139.07,  500.93,  252.47,  104.96,\n",
       "        254.74,  481.74,  638.66,  972.73,  319.43,  476.03,  500.37,\n",
       "        482.17,  514.35,  862.41, 1430.42,  482.19,  619.05,  395.15,\n",
       "        404.78,  916.01,  211.93, 1318.38,  762.63,  608.68,  286.26,\n",
       "        629.  ,  255.81,  494.94,  109.58,  391.26,  524.13,  898.89,\n",
       "        444.56,   77.41,  210.43,  634.68, 1165.75,  626.99,  580.54,\n",
       "        907.38,  254.41,  578.9 ,  885.13, 1094.9 ,  447.37,  782.64,\n",
       "       1123.01,  894.75,  995.61,  940.71, 1311.87,  292.54,  220.03,\n",
       "        330.61,  205.1 ,  232.43,  418.4 ,  203.62, 1163.35,  994.99,\n",
       "        789.43,  216.9 ,  794.02, 1304.28, 1293.25,  618.21, 1253.48,\n",
       "       1033.39, 1081.27,  987.78,  404.06,  846.12,  715.14,  972.03,\n",
       "        810.36, 1250.82,  768.06, 1103.36,  225.51,  508.93, 1100.77,\n",
       "        881.22, 1239.57, 1135.47,  121.3 ,  137.38,  788.51,  836.77,\n",
       "       1292.48,  614.8 , 1047.03,  668.48,  460.78,  806.09,  276.67,\n",
       "        777.48,  799.16,   75.09,   49.63,   95.03,  496.58,  788.21,\n",
       "        258.83,  274.93,  257.43,  628.8 ,  637.52,  790.4 ,   81.47,\n",
       "        769.08,   75.19,  100.54,  211.67,  377.07,  202.03,  611.39,\n",
       "         45.16,  474.82,  233.37])"
      ]
     },
     "execution_count": 23,
     "metadata": {},
     "output_type": "execute_result"
    }
   ],
   "source": [
    "pred"
   ]
  },
  {
   "cell_type": "code",
   "execution_count": 24,
   "id": "f8983849",
   "metadata": {
    "ExecuteTime": {
     "end_time": "2021-07-21T14:33:08.254449Z",
     "start_time": "2021-07-21T14:33:08.238449Z"
    }
   },
   "outputs": [
    {
     "data": {
      "text/html": [
       "<div>\n",
       "<style scoped>\n",
       "    .dataframe tbody tr th:only-of-type {\n",
       "        vertical-align: middle;\n",
       "    }\n",
       "\n",
       "    .dataframe tbody tr th {\n",
       "        vertical-align: top;\n",
       "    }\n",
       "\n",
       "    .dataframe thead th {\n",
       "        text-align: right;\n",
       "    }\n",
       "</style>\n",
       "<table border=\"1\" class=\"dataframe\">\n",
       "  <thead>\n",
       "    <tr style=\"text-align: right;\">\n",
       "      <th></th>\n",
       "      <th>code</th>\n",
       "      <th>num</th>\n",
       "    </tr>\n",
       "  </thead>\n",
       "  <tbody>\n",
       "    <tr>\n",
       "      <th>0</th>\n",
       "      <td>C1072</td>\n",
       "      <td>825.350</td>\n",
       "    </tr>\n",
       "    <tr>\n",
       "      <th>1</th>\n",
       "      <td>C1128</td>\n",
       "      <td>1293.670</td>\n",
       "    </tr>\n",
       "    <tr>\n",
       "      <th>2</th>\n",
       "      <td>C1456</td>\n",
       "      <td>610.310</td>\n",
       "    </tr>\n",
       "    <tr>\n",
       "      <th>3</th>\n",
       "      <td>C1840</td>\n",
       "      <td>609.960</td>\n",
       "    </tr>\n",
       "    <tr>\n",
       "      <th>4</th>\n",
       "      <td>C1332</td>\n",
       "      <td>1249.130</td>\n",
       "    </tr>\n",
       "    <tr>\n",
       "      <th>...</th>\n",
       "      <td>...</td>\n",
       "      <td>...</td>\n",
       "    </tr>\n",
       "    <tr>\n",
       "      <th>145</th>\n",
       "      <td>C2456</td>\n",
       "      <td>202.030</td>\n",
       "    </tr>\n",
       "    <tr>\n",
       "      <th>146</th>\n",
       "      <td>C1266</td>\n",
       "      <td>611.390</td>\n",
       "    </tr>\n",
       "    <tr>\n",
       "      <th>147</th>\n",
       "      <td>C2152</td>\n",
       "      <td>45.160</td>\n",
       "    </tr>\n",
       "    <tr>\n",
       "      <th>148</th>\n",
       "      <td>C1267</td>\n",
       "      <td>474.820</td>\n",
       "    </tr>\n",
       "    <tr>\n",
       "      <th>149</th>\n",
       "      <td>C2189</td>\n",
       "      <td>233.370</td>\n",
       "    </tr>\n",
       "  </tbody>\n",
       "</table>\n",
       "<p>150 rows × 2 columns</p>\n",
       "</div>"
      ],
      "text/plain": [
       "      code      num\n",
       "0    C1072  825.350\n",
       "1    C1128 1293.670\n",
       "2    C1456  610.310\n",
       "3    C1840  609.960\n",
       "4    C1332 1249.130\n",
       "..     ...      ...\n",
       "145  C2456  202.030\n",
       "146  C1266  611.390\n",
       "147  C2152   45.160\n",
       "148  C1267  474.820\n",
       "149  C2189  233.370\n",
       "\n",
       "[150 rows x 2 columns]"
      ]
     },
     "execution_count": 24,
     "metadata": {},
     "output_type": "execute_result"
    }
   ],
   "source": [
    "submission"
   ]
  },
  {
   "cell_type": "code",
   "execution_count": 25,
   "id": "4c1491a5",
   "metadata": {
    "ExecuteTime": {
     "end_time": "2021-07-21T14:33:08.270473Z",
     "start_time": "2021-07-21T14:33:08.254449Z"
    },
    "id": "4c1491a5"
   },
   "outputs": [],
   "source": [
    "submission.to_csv('./scale.csv', index=False)"
   ]
  }
 ],
 "metadata": {
  "colab": {
   "collapsed_sections": [],
   "name": "Lastest_주차 수요 예측(제출).ipynb",
   "provenance": []
  },
  "kernelspec": {
   "display_name": "Python 3",
   "language": "python",
   "name": "python3"
  },
  "language_info": {
   "codemirror_mode": {
    "name": "ipython",
    "version": 3
   },
   "file_extension": ".py",
   "mimetype": "text/x-python",
   "name": "python",
   "nbconvert_exporter": "python",
   "pygments_lexer": "ipython3",
   "version": "3.7.10"
  },
  "toc": {
   "base_numbering": 1,
   "nav_menu": {},
   "number_sections": true,
   "sideBar": true,
   "skip_h1_title": false,
   "title_cell": "Table of Contents",
   "title_sidebar": "Contents",
   "toc_cell": false,
   "toc_position": {},
   "toc_section_display": true,
   "toc_window_display": false
  },
  "varInspector": {
   "cols": {
    "lenName": 16,
    "lenType": 16,
    "lenVar": 40
   },
   "kernels_config": {
    "python": {
     "delete_cmd_postfix": "",
     "delete_cmd_prefix": "del ",
     "library": "var_list.py",
     "varRefreshCmd": "print(var_dic_list())"
    },
    "r": {
     "delete_cmd_postfix": ") ",
     "delete_cmd_prefix": "rm(",
     "library": "var_list.r",
     "varRefreshCmd": "cat(var_dic_list()) "
    }
   },
   "types_to_exclude": [
    "module",
    "function",
    "builtin_function_or_method",
    "instance",
    "_Feature"
   ],
   "window_display": false
  }
 },
 "nbformat": 4,
 "nbformat_minor": 5
}
