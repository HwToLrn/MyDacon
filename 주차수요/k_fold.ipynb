{
 "cells": [
  {
   "cell_type": "code",
   "execution_count": 1,
   "id": "c78d4058",
   "metadata": {},
   "outputs": [],
   "source": [
    "import pandas as pd\n",
    "import numpy as np\n",
    "from sklearn.preprocessing import LabelEncoder\n",
    "from sklearn.model_selection import KFold\n",
    "from catboost import CatBoostRegressor\n",
    "\n",
    "train = pd.read_csv(\"data/train.csv\")\n",
    "test = pd.read_csv(\"data/test.csv\")"
   ]
  },
  {
   "cell_type": "code",
   "execution_count": 2,
   "id": "f6cdf146",
   "metadata": {},
   "outputs": [],
   "source": [
    "from sklearn.preprocessing import LabelEncoder\n",
    "label = LabelEncoder()\n",
    "\n",
    "# 결측치가 자동으로 채워짐\n",
    "for i in train.columns[train.dtypes == \"object\"]: \n",
    "    train[i] = label.fit_transform(list(train[i]))\n",
    "    \n",
    "for i in test.columns[test.dtypes == \"object\"]:\n",
    "    test[i] = label.fit_transform(list(test[i]))"
   ]
  },
  {
   "cell_type": "code",
   "execution_count": 3,
   "id": "a4954bc9",
   "metadata": {},
   "outputs": [
    {
     "name": "stdout",
     "output_type": "stream",
     "text": [
      "<class 'pandas.core.frame.DataFrame'>\n",
      "RangeIndex: 2952 entries, 0 to 2951\n",
      "Data columns (total 13 columns):\n",
      " #   Column                        Non-Null Count  Dtype  \n",
      "---  ------                        --------------  -----  \n",
      " 0   총세대수                          2952 non-null   int64  \n",
      " 1   임대건물구분                        2952 non-null   int64  \n",
      " 2   지역                            2952 non-null   int64  \n",
      " 3   공급유형                          2952 non-null   int64  \n",
      " 4   전용면적                          2952 non-null   float64\n",
      " 5   전용면적별세대수                      2952 non-null   int64  \n",
      " 6   공가수                           2952 non-null   float64\n",
      " 7   자격유형                          2952 non-null   int64  \n",
      " 8   임대보증금                         2952 non-null   int64  \n",
      " 9   임대료                           2952 non-null   int64  \n",
      " 10  도보 10분거리 내 지하철역 수(환승노선 수 반영)  2741 non-null   float64\n",
      " 11  도보 10분거리 내 버스정류장 수            2948 non-null   float64\n",
      " 12  단지내주차면수                       2952 non-null   float64\n",
      "dtypes: float64(5), int64(8)\n",
      "memory usage: 299.9 KB\n"
     ]
    }
   ],
   "source": [
    "train1 = train.drop(['등록차량수','단지코드'], axis=1)\n",
    "test1 = test.drop(['단지코드'], axis=1)\n",
    "train1.info()"
   ]
  },
  {
   "cell_type": "code",
   "execution_count": 6,
   "id": "24f8c6cb",
   "metadata": {},
   "outputs": [
    {
     "name": "stdout",
     "output_type": "stream",
     "text": [
      "0:\tlearn: 0.7119650\ttest: 0.7449833\tbest: 0.7449833 (0)\ttotal: 25.4ms\tremaining: 5.05s\n",
      "100:\tlearn: 0.3707454\ttest: 0.3967963\tbest: 0.3967963 (100)\ttotal: 2.91s\tremaining: 2.85s\n",
      "199:\tlearn: 0.2550683\ttest: 0.2752871\tbest: 0.2752871 (199)\ttotal: 5.65s\tremaining: 0us\n",
      "\n",
      "bestTest = 0.2752871154\n",
      "bestIteration = 199\n",
      "\n",
      "0:\tlearn: 0.7256256\ttest: 0.6909547\tbest: 0.6909547 (0)\ttotal: 23.9ms\tremaining: 4.76s\n",
      "100:\tlearn: 0.3771297\ttest: 0.3628776\tbest: 0.3628776 (100)\ttotal: 2.9s\tremaining: 2.84s\n",
      "199:\tlearn: 0.2574032\ttest: 0.2528919\tbest: 0.2528919 (199)\ttotal: 5.66s\tremaining: 0us\n",
      "\n",
      "bestTest = 0.2528918996\n",
      "bestIteration = 199\n",
      "\n",
      "0:\tlearn: 0.7177133\ttest: 0.7348304\tbest: 0.7348304 (0)\ttotal: 23.8ms\tremaining: 4.73s\n",
      "100:\tlearn: 0.3712152\ttest: 0.3853340\tbest: 0.3853340 (100)\ttotal: 2.87s\tremaining: 2.81s\n",
      "199:\tlearn: 0.2539865\ttest: 0.2660152\tbest: 0.2660152 (199)\ttotal: 5.66s\tremaining: 0us\n",
      "\n",
      "bestTest = 0.2660151782\n",
      "bestIteration = 199\n",
      "\n",
      "0:\tlearn: 0.7186543\ttest: 0.7123978\tbest: 0.7123978 (0)\ttotal: 23.4ms\tremaining: 4.66s\n",
      "100:\tlearn: 0.3737024\ttest: 0.3700144\tbest: 0.3700144 (100)\ttotal: 2.9s\tremaining: 2.84s\n",
      "199:\tlearn: 0.2570447\ttest: 0.2582225\tbest: 0.2582225 (199)\ttotal: 5.92s\tremaining: 0us\n",
      "\n",
      "bestTest = 0.2582225393\n",
      "bestIteration = 199\n",
      "\n",
      "0:\tlearn: 0.7195740\ttest: 0.7129157\tbest: 0.7129157 (0)\ttotal: 23.5ms\tremaining: 4.67s\n",
      "100:\tlearn: 0.3771139\ttest: 0.3666514\tbest: 0.3666514 (100)\ttotal: 3.19s\tremaining: 3.12s\n",
      "199:\tlearn: 0.2593209\ttest: 0.2502747\tbest: 0.2502747 (199)\ttotal: 6.04s\tremaining: 0us\n",
      "\n",
      "bestTest = 0.2502746591\n",
      "bestIteration = 199\n",
      "\n"
     ]
    }
   ],
   "source": [
    "pred = 0\n",
    "best_score = 0\n",
    "\n",
    "k_fold = KFold(n_splits = 5, shuffle = True, random_state = 0)\n",
    "\n",
    "for train_idx, test_idx in k_fold.split(train1):\n",
    "    x_train, x_test = train1.iloc[train_idx], train1.iloc[test_idx]\n",
    "    \n",
    "    # Catboost 사용할 때는 종속변수를 scaling하는게 좋다.\n",
    "    y_train, y_test = np.log(train['등록차량수']).iloc[train_idx], np.log(train['등록차량수']).iloc[test_idx]\n",
    "    \n",
    "    cat = CatBoostRegressor(verbose=100,\n",
    "                            eval_metric = 'MAE',\n",
    "                            iterations = 200, \n",
    "                            learning_rate = 0.01)\n",
    "    \n",
    "    cat.fit(x_train, y_train,\n",
    "            eval_set=(x_test, y_test),\n",
    "            early_stopping_rounds=100,\n",
    "            cat_features = [1,2,3,7])\n",
    "    \n",
    "    pred += cat.predict(test1) / 5 # 평균\n",
    "    \n",
    "    best_score += cat.best_score_[\"validation\"][\"MAE\"] / 5"
   ]
  },
  {
   "cell_type": "code",
   "execution_count": 7,
   "id": "2faa5f09",
   "metadata": {},
   "outputs": [
    {
     "data": {
      "text/plain": [
       "0.26053827832966864"
      ]
     },
     "execution_count": 7,
     "metadata": {},
     "output_type": "execute_result"
    }
   ],
   "source": [
    "best_score"
   ]
  },
  {
   "cell_type": "code",
   "execution_count": 8,
   "id": "547ffe69",
   "metadata": {},
   "outputs": [
    {
     "data": {
      "text/plain": [
       "array([556.7540551 , 654.94484083, 563.93851908, ..., 289.64933233,\n",
       "       293.45847104, 294.80962846])"
      ]
     },
     "execution_count": 8,
     "metadata": {},
     "output_type": "execute_result"
    }
   ],
   "source": [
    "np.exp(pred)"
   ]
  }
 ],
 "metadata": {
  "kernelspec": {
   "display_name": "Python 3",
   "language": "python",
   "name": "python3"
  },
  "language_info": {
   "codemirror_mode": {
    "name": "ipython",
    "version": 3
   },
   "file_extension": ".py",
   "mimetype": "text/x-python",
   "name": "python",
   "nbconvert_exporter": "python",
   "pygments_lexer": "ipython3",
   "version": "3.7.10"
  },
  "toc": {
   "base_numbering": 1,
   "nav_menu": {},
   "number_sections": true,
   "sideBar": true,
   "skip_h1_title": false,
   "title_cell": "Table of Contents",
   "title_sidebar": "Contents",
   "toc_cell": false,
   "toc_position": {},
   "toc_section_display": true,
   "toc_window_display": false
  },
  "varInspector": {
   "cols": {
    "lenName": 16,
    "lenType": 16,
    "lenVar": 40
   },
   "kernels_config": {
    "python": {
     "delete_cmd_postfix": "",
     "delete_cmd_prefix": "del ",
     "library": "var_list.py",
     "varRefreshCmd": "print(var_dic_list())"
    },
    "r": {
     "delete_cmd_postfix": ") ",
     "delete_cmd_prefix": "rm(",
     "library": "var_list.r",
     "varRefreshCmd": "cat(var_dic_list()) "
    }
   },
   "types_to_exclude": [
    "module",
    "function",
    "builtin_function_or_method",
    "instance",
    "_Feature"
   ],
   "window_display": false
  }
 },
 "nbformat": 4,
 "nbformat_minor": 5
}
